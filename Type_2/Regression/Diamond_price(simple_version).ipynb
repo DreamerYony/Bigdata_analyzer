{
 "cells": [
  {
   "cell_type": "markdown",
   "id": "32ee5213",
   "metadata": {},
   "source": [
    "# 💎 다이아몬드 가격 예측 (회귀 과제)"
   ]
  },
  {
   "cell_type": "markdown",
   "id": "24086e9e",
   "metadata": {},
   "source": [
    "- 빅데이터 분석기사 실기 연습을 위해 제가 만든 자료입니다.\n",
    "- seaborn 라이브러리에서 load_dataset을 통해 'diamonds' 데이터셋을 가져온 후, 그것을 x_train, x_test, y_train으로 직접 분리하여 만든 데이터셋입니다. 시험 제출 양식과 유사하게 만들기 위해 각 데이터의 고유한 인덱스인 'item_id'을 추가하였습니다. 원본 데이터셋은 load_dataset('diamonds')로 불러올 수 있습니다."
   ]
  },
  {
   "cell_type": "markdown",
   "id": "752e55b9",
   "metadata": {},
   "source": [
    "### 💎 문제\n",
    "- 주어진 학습용 데이터 x_train.csv를 활용하여 가격(price)을 예측하는 모형을 만들고, 평가용 데이터 x_test.csv에 적용하여 가격을 예측하여 csv 파일로 생성하시오.(평가 지표는 rmse)"
   ]
  },
  {
   "cell_type": "markdown",
   "id": "60a940fb",
   "metadata": {},
   "source": [
    "### 💎 힌트\n",
    "- 평가 지표로 보아 회귀 과제임을 알 수 있습니다.\n",
    "- 회귀 과제에서는 predict를 사용합니다."
   ]
  },
  {
   "cell_type": "markdown",
   "id": "de9829fc",
   "metadata": {},
   "source": [
    "# 1. 패키지 불러오기"
   ]
  },
  {
   "cell_type": "code",
   "execution_count": 32,
   "id": "6f7901c2",
   "metadata": {},
   "outputs": [],
   "source": [
    "import pandas as pd\n",
    "import numpy as np"
   ]
  },
  {
   "cell_type": "code",
   "execution_count": 33,
   "id": "6cac21c0",
   "metadata": {},
   "outputs": [],
   "source": [
    "import seaborn as sns\n",
    "\n",
    "df = sns.load_dataset('diamonds')\n",
    "\n",
    "x=df.drop(columns = 'price')\n",
    "y=df['price']\n",
    "\n",
    "from sklearn.model_selection import train_test_split\n",
    "\n",
    "x_train, x_test, y_train, y_test = train_test_split(x, y, test_size = 0.2, random_state=2023)\n",
    "\n",
    "x_test = pd.DataFrame(x_test.reset_index())\n",
    "x_train = pd.DataFrame(x_train.reset_index())\n",
    "y_train = pd.DataFrame(y_train.reset_index())\n",
    "\n",
    "x_test.rename(columns = {'index':'item_id'}, inplace = True)\n",
    "x_train.rename(columns = {'index':'item_id'}, inplace = True)\n",
    "y_train.columns = ['item_id','price']"
   ]
  },
  {
   "cell_type": "code",
   "execution_count": 34,
   "id": "7dbb0cbf",
   "metadata": {},
   "outputs": [
    {
     "name": "stdout",
     "output_type": "stream",
     "text": [
      "(10788, 10)\n",
      "(43152, 10)\n",
      "(43152, 2)\n"
     ]
    }
   ],
   "source": [
    "print(x_test.shape)\n",
    "print(x_train.shape)\n",
    "print(y_train.shape)"
   ]
  },
  {
   "cell_type": "code",
   "execution_count": 35,
   "id": "8004c618",
   "metadata": {},
   "outputs": [],
   "source": [
    "x_test.to_csv('Diamond_x_test.csv', index = False)\n",
    "x_train.to_csv('Diamond_x_train.csv', index = False)\n",
    "y_train.to_csv('Diamond_y_train.csv', index = False)"
   ]
  },
  {
   "cell_type": "markdown",
   "id": "be6b961d",
   "metadata": {},
   "source": [
    "# 2. 데이터 읽어오기"
   ]
  },
  {
   "cell_type": "code",
   "execution_count": 73,
   "id": "da22f8f5",
   "metadata": {},
   "outputs": [],
   "source": [
    "x_test = pd.read_csv('./Diamond_x_test.csv')\n",
    "x_train = pd.read_csv('./Diamond_x_train.csv')\n",
    "y_train = pd.read_csv('./Diamond_y_train.csv')"
   ]
  },
  {
   "cell_type": "code",
   "execution_count": 74,
   "id": "fb6797e0",
   "metadata": {},
   "outputs": [
    {
     "data": {
      "text/html": [
       "<div>\n",
       "<style scoped>\n",
       "    .dataframe tbody tr th:only-of-type {\n",
       "        vertical-align: middle;\n",
       "    }\n",
       "\n",
       "    .dataframe tbody tr th {\n",
       "        vertical-align: top;\n",
       "    }\n",
       "\n",
       "    .dataframe thead th {\n",
       "        text-align: right;\n",
       "    }\n",
       "</style>\n",
       "<table border=\"1\" class=\"dataframe\">\n",
       "  <thead>\n",
       "    <tr style=\"text-align: right;\">\n",
       "      <th></th>\n",
       "      <th>item_id</th>\n",
       "      <th>carat</th>\n",
       "      <th>cut</th>\n",
       "      <th>color</th>\n",
       "      <th>clarity</th>\n",
       "      <th>depth</th>\n",
       "      <th>table</th>\n",
       "      <th>x</th>\n",
       "      <th>y</th>\n",
       "      <th>z</th>\n",
       "    </tr>\n",
       "  </thead>\n",
       "  <tbody>\n",
       "    <tr>\n",
       "      <th>0</th>\n",
       "      <td>25388</td>\n",
       "      <td>2.02</td>\n",
       "      <td>Fair</td>\n",
       "      <td>H</td>\n",
       "      <td>SI2</td>\n",
       "      <td>56.5</td>\n",
       "      <td>61.0</td>\n",
       "      <td>8.33</td>\n",
       "      <td>8.37</td>\n",
       "      <td>4.72</td>\n",
       "    </tr>\n",
       "  </tbody>\n",
       "</table>\n",
       "</div>"
      ],
      "text/plain": [
       "   item_id  carat   cut color clarity  depth  table     x     y     z\n",
       "0    25388   2.02  Fair     H     SI2   56.5   61.0  8.33  8.37  4.72"
      ]
     },
     "execution_count": 74,
     "metadata": {},
     "output_type": "execute_result"
    }
   ],
   "source": [
    "x_test.head(1)"
   ]
  },
  {
   "cell_type": "code",
   "execution_count": 75,
   "id": "acc5408a",
   "metadata": {},
   "outputs": [
    {
     "data": {
      "text/html": [
       "<div>\n",
       "<style scoped>\n",
       "    .dataframe tbody tr th:only-of-type {\n",
       "        vertical-align: middle;\n",
       "    }\n",
       "\n",
       "    .dataframe tbody tr th {\n",
       "        vertical-align: top;\n",
       "    }\n",
       "\n",
       "    .dataframe thead th {\n",
       "        text-align: right;\n",
       "    }\n",
       "</style>\n",
       "<table border=\"1\" class=\"dataframe\">\n",
       "  <thead>\n",
       "    <tr style=\"text-align: right;\">\n",
       "      <th></th>\n",
       "      <th>item_id</th>\n",
       "      <th>carat</th>\n",
       "      <th>cut</th>\n",
       "      <th>color</th>\n",
       "      <th>clarity</th>\n",
       "      <th>depth</th>\n",
       "      <th>table</th>\n",
       "      <th>x</th>\n",
       "      <th>y</th>\n",
       "      <th>z</th>\n",
       "    </tr>\n",
       "  </thead>\n",
       "  <tbody>\n",
       "    <tr>\n",
       "      <th>0</th>\n",
       "      <td>48240</td>\n",
       "      <td>0.86</td>\n",
       "      <td>Very Good</td>\n",
       "      <td>J</td>\n",
       "      <td>SI2</td>\n",
       "      <td>63.2</td>\n",
       "      <td>61.0</td>\n",
       "      <td>6.05</td>\n",
       "      <td>5.97</td>\n",
       "      <td>3.79</td>\n",
       "    </tr>\n",
       "  </tbody>\n",
       "</table>\n",
       "</div>"
      ],
      "text/plain": [
       "   item_id  carat        cut color clarity  depth  table     x     y     z\n",
       "0    48240   0.86  Very Good     J     SI2   63.2   61.0  6.05  5.97  3.79"
      ]
     },
     "execution_count": 75,
     "metadata": {},
     "output_type": "execute_result"
    }
   ],
   "source": [
    "x_train.head(1)"
   ]
  },
  {
   "cell_type": "code",
   "execution_count": 76,
   "id": "548fe2e3",
   "metadata": {},
   "outputs": [
    {
     "data": {
      "text/html": [
       "<div>\n",
       "<style scoped>\n",
       "    .dataframe tbody tr th:only-of-type {\n",
       "        vertical-align: middle;\n",
       "    }\n",
       "\n",
       "    .dataframe tbody tr th {\n",
       "        vertical-align: top;\n",
       "    }\n",
       "\n",
       "    .dataframe thead th {\n",
       "        text-align: right;\n",
       "    }\n",
       "</style>\n",
       "<table border=\"1\" class=\"dataframe\">\n",
       "  <thead>\n",
       "    <tr style=\"text-align: right;\">\n",
       "      <th></th>\n",
       "      <th>item_id</th>\n",
       "      <th>price</th>\n",
       "    </tr>\n",
       "  </thead>\n",
       "  <tbody>\n",
       "    <tr>\n",
       "      <th>0</th>\n",
       "      <td>48240</td>\n",
       "      <td>1950</td>\n",
       "    </tr>\n",
       "  </tbody>\n",
       "</table>\n",
       "</div>"
      ],
      "text/plain": [
       "   item_id  price\n",
       "0    48240   1950"
      ]
     },
     "execution_count": 76,
     "metadata": {},
     "output_type": "execute_result"
    }
   ],
   "source": [
    "y_train.head(1)"
   ]
  },
  {
   "cell_type": "markdown",
   "id": "2f407dac",
   "metadata": {},
   "source": [
    "# 3. info() 함수로 기본 정보 확인하기"
   ]
  },
  {
   "cell_type": "code",
   "execution_count": 77,
   "id": "ca892032",
   "metadata": {},
   "outputs": [
    {
     "name": "stdout",
     "output_type": "stream",
     "text": [
      "<class 'pandas.core.frame.DataFrame'>\n",
      "RangeIndex: 10788 entries, 0 to 10787\n",
      "Data columns (total 10 columns):\n",
      " #   Column   Non-Null Count  Dtype  \n",
      "---  ------   --------------  -----  \n",
      " 0   item_id  10788 non-null  int64  \n",
      " 1   carat    10788 non-null  float64\n",
      " 2   cut      10788 non-null  object \n",
      " 3   color    10788 non-null  object \n",
      " 4   clarity  10788 non-null  object \n",
      " 5   depth    10788 non-null  float64\n",
      " 6   table    10788 non-null  float64\n",
      " 7   x        10788 non-null  float64\n",
      " 8   y        10788 non-null  float64\n",
      " 9   z        10788 non-null  float64\n",
      "dtypes: float64(6), int64(1), object(3)\n",
      "memory usage: 842.9+ KB\n"
     ]
    }
   ],
   "source": [
    "x_test.info()"
   ]
  },
  {
   "cell_type": "code",
   "execution_count": 78,
   "id": "76af33f2",
   "metadata": {},
   "outputs": [
    {
     "name": "stdout",
     "output_type": "stream",
     "text": [
      "<class 'pandas.core.frame.DataFrame'>\n",
      "RangeIndex: 43152 entries, 0 to 43151\n",
      "Data columns (total 10 columns):\n",
      " #   Column   Non-Null Count  Dtype  \n",
      "---  ------   --------------  -----  \n",
      " 0   item_id  43152 non-null  int64  \n",
      " 1   carat    43152 non-null  float64\n",
      " 2   cut      43152 non-null  object \n",
      " 3   color    43152 non-null  object \n",
      " 4   clarity  43152 non-null  object \n",
      " 5   depth    43152 non-null  float64\n",
      " 6   table    43152 non-null  float64\n",
      " 7   x        43152 non-null  float64\n",
      " 8   y        43152 non-null  float64\n",
      " 9   z        43152 non-null  float64\n",
      "dtypes: float64(6), int64(1), object(3)\n",
      "memory usage: 3.3+ MB\n"
     ]
    }
   ],
   "source": [
    "x_train.info()"
   ]
  },
  {
   "cell_type": "code",
   "execution_count": 79,
   "id": "100a0dc8",
   "metadata": {},
   "outputs": [
    {
     "name": "stdout",
     "output_type": "stream",
     "text": [
      "<class 'pandas.core.frame.DataFrame'>\n",
      "RangeIndex: 43152 entries, 0 to 43151\n",
      "Data columns (total 2 columns):\n",
      " #   Column   Non-Null Count  Dtype\n",
      "---  ------   --------------  -----\n",
      " 0   item_id  43152 non-null  int64\n",
      " 1   price    43152 non-null  int64\n",
      "dtypes: int64(2)\n",
      "memory usage: 674.4 KB\n"
     ]
    }
   ],
   "source": [
    "y_train.info()"
   ]
  },
  {
   "cell_type": "markdown",
   "id": "22888805",
   "metadata": {},
   "source": [
    "- 시험에서의 파일 제출 양식을 따르기 위해 x_test에 추가했던 'item_id'을 따로 분리하여 시리즈로 저장해둡니다."
   ]
  },
  {
   "cell_type": "code",
   "execution_count": 80,
   "id": "68a9d27e",
   "metadata": {},
   "outputs": [],
   "source": [
    "item_id = x_test['item_id']\n",
    "\n",
    "x_train = x_train.drop(columns='item_id')\n",
    "x_test = x_test.drop(columns='item_id')\n",
    "y_train = y_train.drop(columns='item_id')"
   ]
  },
  {
   "cell_type": "markdown",
   "id": "906f17de",
   "metadata": {},
   "source": [
    "# 4. 결측치 처리\n",
    "- 이 데이터셋에는 결측치는 없으므로 이 단계는 통과합니다."
   ]
  },
  {
   "cell_type": "markdown",
   "id": "1d6dd2a2",
   "metadata": {},
   "source": [
    "# 5. describe() 함수로 요약 통계량 확인\n",
    "- 다른 코드 파일의 데이터셋과는 달리, 앞서 info()를 통해 이 데이터셋에는 object라는 데이터 유형이 있다는 것을 보았습니다.\n",
    "- describe()는 수치형 변수에 대하여 요약 통계량을 제시해주지만, object 유형의 컬럼은 제시하지 않습니다.\n",
    "- 💦 object 유형의 컬럼은 describe(include = 'object')로 변수를 지정해주어야 요약 통계량을 알 수 있습니다."
   ]
  },
  {
   "cell_type": "code",
   "execution_count": 81,
   "id": "e0f8b2af",
   "metadata": {},
   "outputs": [
    {
     "data": {
      "text/html": [
       "<div>\n",
       "<style scoped>\n",
       "    .dataframe tbody tr th:only-of-type {\n",
       "        vertical-align: middle;\n",
       "    }\n",
       "\n",
       "    .dataframe tbody tr th {\n",
       "        vertical-align: top;\n",
       "    }\n",
       "\n",
       "    .dataframe thead th {\n",
       "        text-align: right;\n",
       "    }\n",
       "</style>\n",
       "<table border=\"1\" class=\"dataframe\">\n",
       "  <thead>\n",
       "    <tr style=\"text-align: right;\">\n",
       "      <th></th>\n",
       "      <th>carat</th>\n",
       "      <th>depth</th>\n",
       "      <th>table</th>\n",
       "      <th>x</th>\n",
       "      <th>y</th>\n",
       "      <th>z</th>\n",
       "    </tr>\n",
       "  </thead>\n",
       "  <tbody>\n",
       "    <tr>\n",
       "      <th>count</th>\n",
       "      <td>43152.000000</td>\n",
       "      <td>43152.000000</td>\n",
       "      <td>43152.000000</td>\n",
       "      <td>43152.000000</td>\n",
       "      <td>43152.000000</td>\n",
       "      <td>43152.000000</td>\n",
       "    </tr>\n",
       "    <tr>\n",
       "      <th>mean</th>\n",
       "      <td>0.798534</td>\n",
       "      <td>61.754795</td>\n",
       "      <td>57.452181</td>\n",
       "      <td>5.731961</td>\n",
       "      <td>5.735654</td>\n",
       "      <td>3.539142</td>\n",
       "    </tr>\n",
       "    <tr>\n",
       "      <th>std</th>\n",
       "      <td>0.474879</td>\n",
       "      <td>1.429708</td>\n",
       "      <td>2.223297</td>\n",
       "      <td>1.122093</td>\n",
       "      <td>1.149875</td>\n",
       "      <td>0.695689</td>\n",
       "    </tr>\n",
       "    <tr>\n",
       "      <th>min</th>\n",
       "      <td>0.200000</td>\n",
       "      <td>43.000000</td>\n",
       "      <td>43.000000</td>\n",
       "      <td>0.000000</td>\n",
       "      <td>0.000000</td>\n",
       "      <td>0.000000</td>\n",
       "    </tr>\n",
       "    <tr>\n",
       "      <th>25%</th>\n",
       "      <td>0.400000</td>\n",
       "      <td>61.100000</td>\n",
       "      <td>56.000000</td>\n",
       "      <td>4.710000</td>\n",
       "      <td>4.720000</td>\n",
       "      <td>2.910000</td>\n",
       "    </tr>\n",
       "    <tr>\n",
       "      <th>50%</th>\n",
       "      <td>0.700000</td>\n",
       "      <td>61.800000</td>\n",
       "      <td>57.000000</td>\n",
       "      <td>5.700000</td>\n",
       "      <td>5.710000</td>\n",
       "      <td>3.530000</td>\n",
       "    </tr>\n",
       "    <tr>\n",
       "      <th>75%</th>\n",
       "      <td>1.040000</td>\n",
       "      <td>62.500000</td>\n",
       "      <td>59.000000</td>\n",
       "      <td>6.540000</td>\n",
       "      <td>6.540000</td>\n",
       "      <td>4.040000</td>\n",
       "    </tr>\n",
       "    <tr>\n",
       "      <th>max</th>\n",
       "      <td>5.010000</td>\n",
       "      <td>79.000000</td>\n",
       "      <td>95.000000</td>\n",
       "      <td>10.740000</td>\n",
       "      <td>58.900000</td>\n",
       "      <td>8.060000</td>\n",
       "    </tr>\n",
       "  </tbody>\n",
       "</table>\n",
       "</div>"
      ],
      "text/plain": [
       "              carat         depth         table             x             y  \\\n",
       "count  43152.000000  43152.000000  43152.000000  43152.000000  43152.000000   \n",
       "mean       0.798534     61.754795     57.452181      5.731961      5.735654   \n",
       "std        0.474879      1.429708      2.223297      1.122093      1.149875   \n",
       "min        0.200000     43.000000     43.000000      0.000000      0.000000   \n",
       "25%        0.400000     61.100000     56.000000      4.710000      4.720000   \n",
       "50%        0.700000     61.800000     57.000000      5.700000      5.710000   \n",
       "75%        1.040000     62.500000     59.000000      6.540000      6.540000   \n",
       "max        5.010000     79.000000     95.000000     10.740000     58.900000   \n",
       "\n",
       "                  z  \n",
       "count  43152.000000  \n",
       "mean       3.539142  \n",
       "std        0.695689  \n",
       "min        0.000000  \n",
       "25%        2.910000  \n",
       "50%        3.530000  \n",
       "75%        4.040000  \n",
       "max        8.060000  "
      ]
     },
     "execution_count": 81,
     "metadata": {},
     "output_type": "execute_result"
    }
   ],
   "source": [
    "x_train.describe()"
   ]
  },
  {
   "cell_type": "markdown",
   "id": "c7c5bb86",
   "metadata": {},
   "source": [
    "- 💦 일단 y 컬럼의 max값이 평균에 비해 다소 큰 것으로 보아 이상치로 판단됩니다. nlargest() 함수를 사용하여 이러한 이상치가 얼마나 있는지 확인합니다."
   ]
  },
  {
   "cell_type": "code",
   "execution_count": 93,
   "id": "21497cc6",
   "metadata": {},
   "outputs": [
    {
     "data": {
      "text/plain": [
       "6121     31.80\n",
       "15082    10.54\n",
       "6533     10.16\n",
       "42041    10.10\n",
       "230       9.94\n",
       "Name: y, dtype: float64"
      ]
     },
     "execution_count": 93,
     "metadata": {},
     "output_type": "execute_result"
    }
   ],
   "source": [
    "x_train['y'].nlargest(5)"
   ]
  },
  {
   "cell_type": "markdown",
   "id": "b55ad71f",
   "metadata": {},
   "source": [
    "- 💦 nlargest(5)의 결과, 가장 큰 값인 31.80만 이상치로 간주하고 평균값으로 바꿉니다. "
   ]
  },
  {
   "cell_type": "code",
   "execution_count": 94,
   "id": "8ab1183e",
   "metadata": {},
   "outputs": [
    {
     "data": {
      "text/html": [
       "<div>\n",
       "<style scoped>\n",
       "    .dataframe tbody tr th:only-of-type {\n",
       "        vertical-align: middle;\n",
       "    }\n",
       "\n",
       "    .dataframe tbody tr th {\n",
       "        vertical-align: top;\n",
       "    }\n",
       "\n",
       "    .dataframe thead th {\n",
       "        text-align: right;\n",
       "    }\n",
       "</style>\n",
       "<table border=\"1\" class=\"dataframe\">\n",
       "  <thead>\n",
       "    <tr style=\"text-align: right;\">\n",
       "      <th></th>\n",
       "      <th>carat</th>\n",
       "      <th>depth</th>\n",
       "      <th>table</th>\n",
       "      <th>x</th>\n",
       "      <th>y</th>\n",
       "      <th>z</th>\n",
       "      <th>cut_Fair</th>\n",
       "      <th>cut_Good</th>\n",
       "      <th>cut_Ideal</th>\n",
       "      <th>cut_Premium</th>\n",
       "      <th>...</th>\n",
       "      <th>color_I</th>\n",
       "      <th>color_J</th>\n",
       "      <th>clarity_I1</th>\n",
       "      <th>clarity_IF</th>\n",
       "      <th>clarity_SI1</th>\n",
       "      <th>clarity_SI2</th>\n",
       "      <th>clarity_VS1</th>\n",
       "      <th>clarity_VS2</th>\n",
       "      <th>clarity_VVS1</th>\n",
       "      <th>clarity_VVS2</th>\n",
       "    </tr>\n",
       "  </thead>\n",
       "  <tbody>\n",
       "    <tr>\n",
       "      <th>count</th>\n",
       "      <td>30206.000000</td>\n",
       "      <td>30206.000000</td>\n",
       "      <td>30206.000000</td>\n",
       "      <td>30206.000000</td>\n",
       "      <td>30206.000000</td>\n",
       "      <td>30206.000000</td>\n",
       "      <td>30206.000000</td>\n",
       "      <td>30206.000000</td>\n",
       "      <td>30206.000000</td>\n",
       "      <td>30206.000000</td>\n",
       "      <td>...</td>\n",
       "      <td>30206.000000</td>\n",
       "      <td>30206.000000</td>\n",
       "      <td>30206.000000</td>\n",
       "      <td>30206.000000</td>\n",
       "      <td>30206.000000</td>\n",
       "      <td>30206.000000</td>\n",
       "      <td>30206.000000</td>\n",
       "      <td>30206.000000</td>\n",
       "      <td>30206.000000</td>\n",
       "      <td>30206.000000</td>\n",
       "    </tr>\n",
       "    <tr>\n",
       "      <th>mean</th>\n",
       "      <td>0.800190</td>\n",
       "      <td>61.759078</td>\n",
       "      <td>57.460541</td>\n",
       "      <td>5.735085</td>\n",
       "      <td>5.736757</td>\n",
       "      <td>3.541376</td>\n",
       "      <td>0.030954</td>\n",
       "      <td>0.091008</td>\n",
       "      <td>0.397438</td>\n",
       "      <td>0.256240</td>\n",
       "      <td>...</td>\n",
       "      <td>0.100444</td>\n",
       "      <td>0.051811</td>\n",
       "      <td>0.014004</td>\n",
       "      <td>0.031318</td>\n",
       "      <td>0.240946</td>\n",
       "      <td>0.171754</td>\n",
       "      <td>0.152652</td>\n",
       "      <td>0.228994</td>\n",
       "      <td>0.066940</td>\n",
       "      <td>0.093392</td>\n",
       "    </tr>\n",
       "    <tr>\n",
       "      <th>std</th>\n",
       "      <td>0.475669</td>\n",
       "      <td>1.439045</td>\n",
       "      <td>2.230419</td>\n",
       "      <td>1.123624</td>\n",
       "      <td>1.115825</td>\n",
       "      <td>0.696442</td>\n",
       "      <td>0.173196</td>\n",
       "      <td>0.287626</td>\n",
       "      <td>0.489376</td>\n",
       "      <td>0.436563</td>\n",
       "      <td>...</td>\n",
       "      <td>0.300596</td>\n",
       "      <td>0.221649</td>\n",
       "      <td>0.117508</td>\n",
       "      <td>0.174179</td>\n",
       "      <td>0.427664</td>\n",
       "      <td>0.377173</td>\n",
       "      <td>0.359657</td>\n",
       "      <td>0.420192</td>\n",
       "      <td>0.249923</td>\n",
       "      <td>0.290986</td>\n",
       "    </tr>\n",
       "    <tr>\n",
       "      <th>min</th>\n",
       "      <td>0.200000</td>\n",
       "      <td>43.000000</td>\n",
       "      <td>43.000000</td>\n",
       "      <td>0.000000</td>\n",
       "      <td>0.000000</td>\n",
       "      <td>0.000000</td>\n",
       "      <td>0.000000</td>\n",
       "      <td>0.000000</td>\n",
       "      <td>0.000000</td>\n",
       "      <td>0.000000</td>\n",
       "      <td>...</td>\n",
       "      <td>0.000000</td>\n",
       "      <td>0.000000</td>\n",
       "      <td>0.000000</td>\n",
       "      <td>0.000000</td>\n",
       "      <td>0.000000</td>\n",
       "      <td>0.000000</td>\n",
       "      <td>0.000000</td>\n",
       "      <td>0.000000</td>\n",
       "      <td>0.000000</td>\n",
       "      <td>0.000000</td>\n",
       "    </tr>\n",
       "    <tr>\n",
       "      <th>25%</th>\n",
       "      <td>0.400000</td>\n",
       "      <td>61.100000</td>\n",
       "      <td>56.000000</td>\n",
       "      <td>4.710000</td>\n",
       "      <td>4.720000</td>\n",
       "      <td>2.910000</td>\n",
       "      <td>0.000000</td>\n",
       "      <td>0.000000</td>\n",
       "      <td>0.000000</td>\n",
       "      <td>0.000000</td>\n",
       "      <td>...</td>\n",
       "      <td>0.000000</td>\n",
       "      <td>0.000000</td>\n",
       "      <td>0.000000</td>\n",
       "      <td>0.000000</td>\n",
       "      <td>0.000000</td>\n",
       "      <td>0.000000</td>\n",
       "      <td>0.000000</td>\n",
       "      <td>0.000000</td>\n",
       "      <td>0.000000</td>\n",
       "      <td>0.000000</td>\n",
       "    </tr>\n",
       "    <tr>\n",
       "      <th>50%</th>\n",
       "      <td>0.700000</td>\n",
       "      <td>61.800000</td>\n",
       "      <td>57.000000</td>\n",
       "      <td>5.700000</td>\n",
       "      <td>5.720000</td>\n",
       "      <td>3.530000</td>\n",
       "      <td>0.000000</td>\n",
       "      <td>0.000000</td>\n",
       "      <td>0.000000</td>\n",
       "      <td>0.000000</td>\n",
       "      <td>...</td>\n",
       "      <td>0.000000</td>\n",
       "      <td>0.000000</td>\n",
       "      <td>0.000000</td>\n",
       "      <td>0.000000</td>\n",
       "      <td>0.000000</td>\n",
       "      <td>0.000000</td>\n",
       "      <td>0.000000</td>\n",
       "      <td>0.000000</td>\n",
       "      <td>0.000000</td>\n",
       "      <td>0.000000</td>\n",
       "    </tr>\n",
       "    <tr>\n",
       "      <th>75%</th>\n",
       "      <td>1.040000</td>\n",
       "      <td>62.500000</td>\n",
       "      <td>59.000000</td>\n",
       "      <td>6.540000</td>\n",
       "      <td>6.540000</td>\n",
       "      <td>4.040000</td>\n",
       "      <td>0.000000</td>\n",
       "      <td>0.000000</td>\n",
       "      <td>1.000000</td>\n",
       "      <td>1.000000</td>\n",
       "      <td>...</td>\n",
       "      <td>0.000000</td>\n",
       "      <td>0.000000</td>\n",
       "      <td>0.000000</td>\n",
       "      <td>0.000000</td>\n",
       "      <td>0.000000</td>\n",
       "      <td>0.000000</td>\n",
       "      <td>0.000000</td>\n",
       "      <td>0.000000</td>\n",
       "      <td>0.000000</td>\n",
       "      <td>0.000000</td>\n",
       "    </tr>\n",
       "    <tr>\n",
       "      <th>max</th>\n",
       "      <td>5.010000</td>\n",
       "      <td>79.000000</td>\n",
       "      <td>95.000000</td>\n",
       "      <td>10.740000</td>\n",
       "      <td>10.540000</td>\n",
       "      <td>6.980000</td>\n",
       "      <td>1.000000</td>\n",
       "      <td>1.000000</td>\n",
       "      <td>1.000000</td>\n",
       "      <td>1.000000</td>\n",
       "      <td>...</td>\n",
       "      <td>1.000000</td>\n",
       "      <td>1.000000</td>\n",
       "      <td>1.000000</td>\n",
       "      <td>1.000000</td>\n",
       "      <td>1.000000</td>\n",
       "      <td>1.000000</td>\n",
       "      <td>1.000000</td>\n",
       "      <td>1.000000</td>\n",
       "      <td>1.000000</td>\n",
       "      <td>1.000000</td>\n",
       "    </tr>\n",
       "  </tbody>\n",
       "</table>\n",
       "<p>8 rows × 26 columns</p>\n",
       "</div>"
      ],
      "text/plain": [
       "              carat         depth         table             x             y  \\\n",
       "count  30206.000000  30206.000000  30206.000000  30206.000000  30206.000000   \n",
       "mean       0.800190     61.759078     57.460541      5.735085      5.736757   \n",
       "std        0.475669      1.439045      2.230419      1.123624      1.115825   \n",
       "min        0.200000     43.000000     43.000000      0.000000      0.000000   \n",
       "25%        0.400000     61.100000     56.000000      4.710000      4.720000   \n",
       "50%        0.700000     61.800000     57.000000      5.700000      5.720000   \n",
       "75%        1.040000     62.500000     59.000000      6.540000      6.540000   \n",
       "max        5.010000     79.000000     95.000000     10.740000     10.540000   \n",
       "\n",
       "                  z      cut_Fair      cut_Good     cut_Ideal   cut_Premium  \\\n",
       "count  30206.000000  30206.000000  30206.000000  30206.000000  30206.000000   \n",
       "mean       3.541376      0.030954      0.091008      0.397438      0.256240   \n",
       "std        0.696442      0.173196      0.287626      0.489376      0.436563   \n",
       "min        0.000000      0.000000      0.000000      0.000000      0.000000   \n",
       "25%        2.910000      0.000000      0.000000      0.000000      0.000000   \n",
       "50%        3.530000      0.000000      0.000000      0.000000      0.000000   \n",
       "75%        4.040000      0.000000      0.000000      1.000000      1.000000   \n",
       "max        6.980000      1.000000      1.000000      1.000000      1.000000   \n",
       "\n",
       "       ...       color_I       color_J    clarity_I1    clarity_IF  \\\n",
       "count  ...  30206.000000  30206.000000  30206.000000  30206.000000   \n",
       "mean   ...      0.100444      0.051811      0.014004      0.031318   \n",
       "std    ...      0.300596      0.221649      0.117508      0.174179   \n",
       "min    ...      0.000000      0.000000      0.000000      0.000000   \n",
       "25%    ...      0.000000      0.000000      0.000000      0.000000   \n",
       "50%    ...      0.000000      0.000000      0.000000      0.000000   \n",
       "75%    ...      0.000000      0.000000      0.000000      0.000000   \n",
       "max    ...      1.000000      1.000000      1.000000      1.000000   \n",
       "\n",
       "        clarity_SI1   clarity_SI2   clarity_VS1   clarity_VS2  clarity_VVS1  \\\n",
       "count  30206.000000  30206.000000  30206.000000  30206.000000  30206.000000   \n",
       "mean       0.240946      0.171754      0.152652      0.228994      0.066940   \n",
       "std        0.427664      0.377173      0.359657      0.420192      0.249923   \n",
       "min        0.000000      0.000000      0.000000      0.000000      0.000000   \n",
       "25%        0.000000      0.000000      0.000000      0.000000      0.000000   \n",
       "50%        0.000000      0.000000      0.000000      0.000000      0.000000   \n",
       "75%        0.000000      0.000000      0.000000      0.000000      0.000000   \n",
       "max        1.000000      1.000000      1.000000      1.000000      1.000000   \n",
       "\n",
       "       clarity_VVS2  \n",
       "count  30206.000000  \n",
       "mean       0.093392  \n",
       "std        0.290986  \n",
       "min        0.000000  \n",
       "25%        0.000000  \n",
       "50%        0.000000  \n",
       "75%        0.000000  \n",
       "max        1.000000  \n",
       "\n",
       "[8 rows x 26 columns]"
      ]
     },
     "execution_count": 94,
     "metadata": {},
     "output_type": "execute_result"
    }
   ],
   "source": [
    "x_train['y'] = np.where(x_train['y']>31, x_train['y'].mean(), x_train['y'])\n",
    "x_train.describe()"
   ]
  },
  {
   "cell_type": "markdown",
   "id": "d515b70b",
   "metadata": {},
   "source": [
    "- 그리고 object 유형의 컬럼은 따로 확인합니다."
   ]
  },
  {
   "cell_type": "code",
   "execution_count": 82,
   "id": "1b9587ea",
   "metadata": {},
   "outputs": [
    {
     "data": {
      "text/html": [
       "<div>\n",
       "<style scoped>\n",
       "    .dataframe tbody tr th:only-of-type {\n",
       "        vertical-align: middle;\n",
       "    }\n",
       "\n",
       "    .dataframe tbody tr th {\n",
       "        vertical-align: top;\n",
       "    }\n",
       "\n",
       "    .dataframe thead th {\n",
       "        text-align: right;\n",
       "    }\n",
       "</style>\n",
       "<table border=\"1\" class=\"dataframe\">\n",
       "  <thead>\n",
       "    <tr style=\"text-align: right;\">\n",
       "      <th></th>\n",
       "      <th>cut</th>\n",
       "      <th>color</th>\n",
       "      <th>clarity</th>\n",
       "    </tr>\n",
       "  </thead>\n",
       "  <tbody>\n",
       "    <tr>\n",
       "      <th>count</th>\n",
       "      <td>43152</td>\n",
       "      <td>43152</td>\n",
       "      <td>43152</td>\n",
       "    </tr>\n",
       "    <tr>\n",
       "      <th>unique</th>\n",
       "      <td>5</td>\n",
       "      <td>7</td>\n",
       "      <td>8</td>\n",
       "    </tr>\n",
       "    <tr>\n",
       "      <th>top</th>\n",
       "      <td>Ideal</td>\n",
       "      <td>G</td>\n",
       "      <td>SI1</td>\n",
       "    </tr>\n",
       "    <tr>\n",
       "      <th>freq</th>\n",
       "      <td>17275</td>\n",
       "      <td>9067</td>\n",
       "      <td>10389</td>\n",
       "    </tr>\n",
       "  </tbody>\n",
       "</table>\n",
       "</div>"
      ],
      "text/plain": [
       "          cut  color clarity\n",
       "count   43152  43152   43152\n",
       "unique      5      7       8\n",
       "top     Ideal      G     SI1\n",
       "freq    17275   9067   10389"
      ]
     },
     "execution_count": 82,
     "metadata": {},
     "output_type": "execute_result"
    }
   ],
   "source": [
    "x_train.describe(include = 'object')"
   ]
  },
  {
   "cell_type": "code",
   "execution_count": 83,
   "id": "a8f6d1e9",
   "metadata": {},
   "outputs": [
    {
     "data": {
      "text/html": [
       "<div>\n",
       "<style scoped>\n",
       "    .dataframe tbody tr th:only-of-type {\n",
       "        vertical-align: middle;\n",
       "    }\n",
       "\n",
       "    .dataframe tbody tr th {\n",
       "        vertical-align: top;\n",
       "    }\n",
       "\n",
       "    .dataframe thead th {\n",
       "        text-align: right;\n",
       "    }\n",
       "</style>\n",
       "<table border=\"1\" class=\"dataframe\">\n",
       "  <thead>\n",
       "    <tr style=\"text-align: right;\">\n",
       "      <th></th>\n",
       "      <th>carat</th>\n",
       "      <th>depth</th>\n",
       "      <th>table</th>\n",
       "      <th>x</th>\n",
       "      <th>y</th>\n",
       "      <th>z</th>\n",
       "    </tr>\n",
       "  </thead>\n",
       "  <tbody>\n",
       "    <tr>\n",
       "      <th>count</th>\n",
       "      <td>10788.000000</td>\n",
       "      <td>10788.000000</td>\n",
       "      <td>10788.000000</td>\n",
       "      <td>10788.000000</td>\n",
       "      <td>10788.000000</td>\n",
       "      <td>10788.000000</td>\n",
       "    </tr>\n",
       "    <tr>\n",
       "      <th>mean</th>\n",
       "      <td>0.795564</td>\n",
       "      <td>61.727846</td>\n",
       "      <td>57.477197</td>\n",
       "      <td>5.727941</td>\n",
       "      <td>5.730014</td>\n",
       "      <td>3.537101</td>\n",
       "    </tr>\n",
       "    <tr>\n",
       "      <th>std</th>\n",
       "      <td>0.470540</td>\n",
       "      <td>1.444081</td>\n",
       "      <td>2.278709</td>\n",
       "      <td>1.120475</td>\n",
       "      <td>1.110676</td>\n",
       "      <td>0.744426</td>\n",
       "    </tr>\n",
       "    <tr>\n",
       "      <th>min</th>\n",
       "      <td>0.200000</td>\n",
       "      <td>50.800000</td>\n",
       "      <td>44.000000</td>\n",
       "      <td>0.000000</td>\n",
       "      <td>0.000000</td>\n",
       "      <td>0.000000</td>\n",
       "    </tr>\n",
       "    <tr>\n",
       "      <th>25%</th>\n",
       "      <td>0.400000</td>\n",
       "      <td>61.000000</td>\n",
       "      <td>56.000000</td>\n",
       "      <td>4.720000</td>\n",
       "      <td>4.730000</td>\n",
       "      <td>2.910000</td>\n",
       "    </tr>\n",
       "    <tr>\n",
       "      <th>50%</th>\n",
       "      <td>0.700000</td>\n",
       "      <td>61.800000</td>\n",
       "      <td>57.000000</td>\n",
       "      <td>5.690000</td>\n",
       "      <td>5.700000</td>\n",
       "      <td>3.520000</td>\n",
       "    </tr>\n",
       "    <tr>\n",
       "      <th>75%</th>\n",
       "      <td>1.040000</td>\n",
       "      <td>62.500000</td>\n",
       "      <td>59.000000</td>\n",
       "      <td>6.540000</td>\n",
       "      <td>6.540000</td>\n",
       "      <td>4.032500</td>\n",
       "    </tr>\n",
       "    <tr>\n",
       "      <th>max</th>\n",
       "      <td>4.010000</td>\n",
       "      <td>78.200000</td>\n",
       "      <td>79.000000</td>\n",
       "      <td>10.020000</td>\n",
       "      <td>9.940000</td>\n",
       "      <td>31.800000</td>\n",
       "    </tr>\n",
       "  </tbody>\n",
       "</table>\n",
       "</div>"
      ],
      "text/plain": [
       "              carat         depth         table             x             y  \\\n",
       "count  10788.000000  10788.000000  10788.000000  10788.000000  10788.000000   \n",
       "mean       0.795564     61.727846     57.477197      5.727941      5.730014   \n",
       "std        0.470540      1.444081      2.278709      1.120475      1.110676   \n",
       "min        0.200000     50.800000     44.000000      0.000000      0.000000   \n",
       "25%        0.400000     61.000000     56.000000      4.720000      4.730000   \n",
       "50%        0.700000     61.800000     57.000000      5.690000      5.700000   \n",
       "75%        1.040000     62.500000     59.000000      6.540000      6.540000   \n",
       "max        4.010000     78.200000     79.000000     10.020000      9.940000   \n",
       "\n",
       "                  z  \n",
       "count  10788.000000  \n",
       "mean       3.537101  \n",
       "std        0.744426  \n",
       "min        0.000000  \n",
       "25%        2.910000  \n",
       "50%        3.520000  \n",
       "75%        4.032500  \n",
       "max       31.800000  "
      ]
     },
     "execution_count": 83,
     "metadata": {},
     "output_type": "execute_result"
    }
   ],
   "source": [
    "x_test.describe()"
   ]
  },
  {
   "cell_type": "code",
   "execution_count": 84,
   "id": "1cc8ef36",
   "metadata": {},
   "outputs": [
    {
     "data": {
      "text/html": [
       "<div>\n",
       "<style scoped>\n",
       "    .dataframe tbody tr th:only-of-type {\n",
       "        vertical-align: middle;\n",
       "    }\n",
       "\n",
       "    .dataframe tbody tr th {\n",
       "        vertical-align: top;\n",
       "    }\n",
       "\n",
       "    .dataframe thead th {\n",
       "        text-align: right;\n",
       "    }\n",
       "</style>\n",
       "<table border=\"1\" class=\"dataframe\">\n",
       "  <thead>\n",
       "    <tr style=\"text-align: right;\">\n",
       "      <th></th>\n",
       "      <th>cut</th>\n",
       "      <th>color</th>\n",
       "      <th>clarity</th>\n",
       "    </tr>\n",
       "  </thead>\n",
       "  <tbody>\n",
       "    <tr>\n",
       "      <th>count</th>\n",
       "      <td>10788</td>\n",
       "      <td>10788</td>\n",
       "      <td>10788</td>\n",
       "    </tr>\n",
       "    <tr>\n",
       "      <th>unique</th>\n",
       "      <td>5</td>\n",
       "      <td>7</td>\n",
       "      <td>8</td>\n",
       "    </tr>\n",
       "    <tr>\n",
       "      <th>top</th>\n",
       "      <td>Ideal</td>\n",
       "      <td>G</td>\n",
       "      <td>SI1</td>\n",
       "    </tr>\n",
       "    <tr>\n",
       "      <th>freq</th>\n",
       "      <td>4276</td>\n",
       "      <td>2225</td>\n",
       "      <td>2676</td>\n",
       "    </tr>\n",
       "  </tbody>\n",
       "</table>\n",
       "</div>"
      ],
      "text/plain": [
       "          cut  color clarity\n",
       "count   10788  10788   10788\n",
       "unique      5      7       8\n",
       "top     Ideal      G     SI1\n",
       "freq     4276   2225    2676"
      ]
     },
     "execution_count": 84,
     "metadata": {},
     "output_type": "execute_result"
    }
   ],
   "source": [
    "x_test.describe(include = 'object')"
   ]
  },
  {
   "cell_type": "markdown",
   "id": "b7f81131",
   "metadata": {},
   "source": [
    "- 💦 데이터 유형이 object인 데이터의 경우에는 원-핫 인코딩을 해야 합니다. 주로 문자열이며 범주형 데이터에 속하는 이러한 데이터는 범주 간에 순서가 존재하지 않으므로 크기 비교가 의미가 없을 수 있습니다. 머신러닝으로 예측 모델을 만들기 위해서는 이러한 데이터를 수치화하여 또 하나의 변수로 사용하는 것이 좋습니다.\n",
    "- 원-핫 인코딩 방법으로는 먼저 sklearn.preprocessing에서 OneHotEncoder를 사용하여 변환해주는 방법이 있습니다.\n",
    "- 두번째 원-핫 인코딩 방법으로는 pandas의 get_dummies() 함수를 사용하여 변환해주는 방법이 있습니다.\n",
    "- 여기서는 pandas의 get_dummies() 함수를 사용하여 범주형 변수를 수치로 바꿉니다."
   ]
  },
  {
   "cell_type": "code",
   "execution_count": 85,
   "id": "c786acb2",
   "metadata": {},
   "outputs": [],
   "source": [
    "x_train = pd.get_dummies(x_train)\n",
    "x_test = pd.get_dummies(x_test)"
   ]
  },
  {
   "cell_type": "markdown",
   "id": "d1af251c",
   "metadata": {},
   "source": [
    "- 💦 원-핫 인코딩 이후의 결과를 info() 함수를 통해 확인합니다. 데이터 유형이 8비트 정수(unsigned integer)로 바뀐 것을 볼 수 있습니다."
   ]
  },
  {
   "cell_type": "code",
   "execution_count": 86,
   "id": "13b2c5bd",
   "metadata": {},
   "outputs": [
    {
     "name": "stdout",
     "output_type": "stream",
     "text": [
      "<class 'pandas.core.frame.DataFrame'>\n",
      "RangeIndex: 43152 entries, 0 to 43151\n",
      "Data columns (total 26 columns):\n",
      " #   Column         Non-Null Count  Dtype  \n",
      "---  ------         --------------  -----  \n",
      " 0   carat          43152 non-null  float64\n",
      " 1   depth          43152 non-null  float64\n",
      " 2   table          43152 non-null  float64\n",
      " 3   x              43152 non-null  float64\n",
      " 4   y              43152 non-null  float64\n",
      " 5   z              43152 non-null  float64\n",
      " 6   cut_Fair       43152 non-null  uint8  \n",
      " 7   cut_Good       43152 non-null  uint8  \n",
      " 8   cut_Ideal      43152 non-null  uint8  \n",
      " 9   cut_Premium    43152 non-null  uint8  \n",
      " 10  cut_Very Good  43152 non-null  uint8  \n",
      " 11  color_D        43152 non-null  uint8  \n",
      " 12  color_E        43152 non-null  uint8  \n",
      " 13  color_F        43152 non-null  uint8  \n",
      " 14  color_G        43152 non-null  uint8  \n",
      " 15  color_H        43152 non-null  uint8  \n",
      " 16  color_I        43152 non-null  uint8  \n",
      " 17  color_J        43152 non-null  uint8  \n",
      " 18  clarity_I1     43152 non-null  uint8  \n",
      " 19  clarity_IF     43152 non-null  uint8  \n",
      " 20  clarity_SI1    43152 non-null  uint8  \n",
      " 21  clarity_SI2    43152 non-null  uint8  \n",
      " 22  clarity_VS1    43152 non-null  uint8  \n",
      " 23  clarity_VS2    43152 non-null  uint8  \n",
      " 24  clarity_VVS1   43152 non-null  uint8  \n",
      " 25  clarity_VVS2   43152 non-null  uint8  \n",
      "dtypes: float64(6), uint8(20)\n",
      "memory usage: 2.8 MB\n"
     ]
    }
   ],
   "source": [
    "x_train.info()"
   ]
  },
  {
   "cell_type": "markdown",
   "id": "59f34ca9",
   "metadata": {},
   "source": [
    "# 6. 학습용 / 검증용 데이터셋 분리\n",
    "- 회귀 과제에서는 stratify를 사용하지 않습니다. 이는 클래스의 비율이 중요한 분류 과제에서 클래스의 비율을 유지하기 위해 사용하는 것으로서, 연속형 값을 예측하는 회귀 과제에는 필요하지 않습니다."
   ]
  },
  {
   "cell_type": "code",
   "execution_count": 87,
   "id": "db040eef",
   "metadata": {},
   "outputs": [],
   "source": [
    "from sklearn.model_selection import train_test_split\n",
    "x_train, x_valid, y_train, y_valid = train_test_split(x_train, y_train['price'], \n",
    "                                                      test_size = 0.3)"
   ]
  },
  {
   "cell_type": "markdown",
   "id": "a465ddc5",
   "metadata": {},
   "source": [
    "# 7. 모델 학습\n",
    "- 랜덤 포레스트 모델을 사용합니다. 회귀 과제에서는 RandomForestRegressor()를 사용합니다."
   ]
  },
  {
   "cell_type": "code",
   "execution_count": 88,
   "id": "e051324c",
   "metadata": {},
   "outputs": [
    {
     "data": {
      "text/plain": [
       "RandomForestRegressor()"
      ]
     },
     "execution_count": 88,
     "metadata": {},
     "output_type": "execute_result"
    }
   ],
   "source": [
    "from sklearn.ensemble import RandomForestRegressor\n",
    "\n",
    "modelRF = RandomForestRegressor()\n",
    "modelRF.fit(x_train, y_train)"
   ]
  },
  {
   "cell_type": "markdown",
   "id": "092f0c72",
   "metadata": {},
   "source": [
    "# 8. 모델 평가\n",
    "- 평가 지표로 rmse를 사용합니다."
   ]
  },
  {
   "cell_type": "code",
   "execution_count": 89,
   "id": "9e8a3022",
   "metadata": {},
   "outputs": [],
   "source": [
    "y_validation_predict = modelRF.predict(x_valid)"
   ]
  },
  {
   "cell_type": "code",
   "execution_count": 90,
   "id": "08226472",
   "metadata": {},
   "outputs": [
    {
     "name": "stdout",
     "output_type": "stream",
     "text": [
      "319559.52353511384\n",
      "565.2959610107911\n",
      "0.9797495860509339\n"
     ]
    }
   ],
   "source": [
    "from sklearn.metrics import mean_squared_error, r2_score\n",
    "mse = mean_squared_error(y_valid, y_validation_predict)\n",
    "rmse = mean_squared_error(y_valid, y_validation_predict, squared = False)\n",
    "r2score = r2_score(y_valid, y_validation_predict)\n",
    "\n",
    "print(mse)\n",
    "print(rmse)\n",
    "print(r2score)"
   ]
  },
  {
   "cell_type": "code",
   "execution_count": 91,
   "id": "ced8e859",
   "metadata": {},
   "outputs": [],
   "source": [
    "pred = modelRF.predict(x_test)"
   ]
  },
  {
   "cell_type": "markdown",
   "id": "4a72d82b",
   "metadata": {},
   "source": [
    "# 9. 파일 제출"
   ]
  },
  {
   "cell_type": "code",
   "execution_count": 92,
   "id": "48e5fb93",
   "metadata": {},
   "outputs": [
    {
     "data": {
      "text/html": [
       "<div>\n",
       "<style scoped>\n",
       "    .dataframe tbody tr th:only-of-type {\n",
       "        vertical-align: middle;\n",
       "    }\n",
       "\n",
       "    .dataframe tbody tr th {\n",
       "        vertical-align: top;\n",
       "    }\n",
       "\n",
       "    .dataframe thead th {\n",
       "        text-align: right;\n",
       "    }\n",
       "</style>\n",
       "<table border=\"1\" class=\"dataframe\">\n",
       "  <thead>\n",
       "    <tr style=\"text-align: right;\">\n",
       "      <th></th>\n",
       "      <th>item_id</th>\n",
       "      <th>result</th>\n",
       "    </tr>\n",
       "  </thead>\n",
       "  <tbody>\n",
       "    <tr>\n",
       "      <th>0</th>\n",
       "      <td>25388</td>\n",
       "      <td>14156.53</td>\n",
       "    </tr>\n",
       "    <tr>\n",
       "      <th>1</th>\n",
       "      <td>15396</td>\n",
       "      <td>5086.54</td>\n",
       "    </tr>\n",
       "    <tr>\n",
       "      <th>2</th>\n",
       "      <td>35778</td>\n",
       "      <td>892.83</td>\n",
       "    </tr>\n",
       "    <tr>\n",
       "      <th>3</th>\n",
       "      <td>3379</td>\n",
       "      <td>446.84</td>\n",
       "    </tr>\n",
       "    <tr>\n",
       "      <th>4</th>\n",
       "      <td>45160</td>\n",
       "      <td>1508.62</td>\n",
       "    </tr>\n",
       "    <tr>\n",
       "      <th>...</th>\n",
       "      <td>...</td>\n",
       "      <td>...</td>\n",
       "    </tr>\n",
       "    <tr>\n",
       "      <th>10783</th>\n",
       "      <td>36438</td>\n",
       "      <td>939.28</td>\n",
       "    </tr>\n",
       "    <tr>\n",
       "      <th>10784</th>\n",
       "      <td>50067</td>\n",
       "      <td>2172.64</td>\n",
       "    </tr>\n",
       "    <tr>\n",
       "      <th>10785</th>\n",
       "      <td>29605</td>\n",
       "      <td>722.92</td>\n",
       "    </tr>\n",
       "    <tr>\n",
       "      <th>10786</th>\n",
       "      <td>19050</td>\n",
       "      <td>8750.66</td>\n",
       "    </tr>\n",
       "    <tr>\n",
       "      <th>10787</th>\n",
       "      <td>2543</td>\n",
       "      <td>3418.00</td>\n",
       "    </tr>\n",
       "  </tbody>\n",
       "</table>\n",
       "<p>10788 rows × 2 columns</p>\n",
       "</div>"
      ],
      "text/plain": [
       "       item_id    result\n",
       "0        25388  14156.53\n",
       "1        15396   5086.54\n",
       "2        35778    892.83\n",
       "3         3379    446.84\n",
       "4        45160   1508.62\n",
       "...        ...       ...\n",
       "10783    36438    939.28\n",
       "10784    50067   2172.64\n",
       "10785    29605    722.92\n",
       "10786    19050   8750.66\n",
       "10787     2543   3418.00\n",
       "\n",
       "[10788 rows x 2 columns]"
      ]
     },
     "execution_count": 92,
     "metadata": {},
     "output_type": "execute_result"
    }
   ],
   "source": [
    "result =  pd.DataFrame({'item_id':item_id, 'result':pred}).to_csv('diamond_sub.csv', index=False)\n",
    "df2 =  pd.read_csv('./diamond_sub.csv')\n",
    "df2"
   ]
  },
  {
   "cell_type": "code",
   "execution_count": null,
   "id": "001bff86",
   "metadata": {},
   "outputs": [],
   "source": []
  }
 ],
 "metadata": {
  "kernelspec": {
   "display_name": "Python 3",
   "language": "python",
   "name": "python3"
  },
  "language_info": {
   "codemirror_mode": {
    "name": "ipython",
    "version": 3
   },
   "file_extension": ".py",
   "mimetype": "text/x-python",
   "name": "python",
   "nbconvert_exporter": "python",
   "pygments_lexer": "ipython3",
   "version": "3.9.5"
  }
 },
 "nbformat": 4,
 "nbformat_minor": 5
}
