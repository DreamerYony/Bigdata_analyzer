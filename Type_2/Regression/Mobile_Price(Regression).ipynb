{
 "cells": [
  {
   "cell_type": "markdown",
   "id": "e4017120",
   "metadata": {},
   "source": [
    "# 🧩 Mobile Price 예측 모델링 (회귀 과제 편)\n",
    "- 빅데이터 분석기사 실기 연습을 위해 제가 만든 자료입니다.\n",
    "- 데이터셋은 kaggle의 데이터셋을 제가 다시 가공한 뒤 X_train, y_train, X_test로 분리하였습니다. 원본 데이터셋은 다음의 주소에서 확인하실 수 있습니다 : (https://www.kaggle.com/datasets/iabhishekofficial/mobile-price-classification/data?select=train.csv) "
   ]
  },
  {
   "cell_type": "markdown",
   "id": "05f3be46",
   "metadata": {},
   "source": [
    "### 🧩 문제\n",
    "- 주어진 학습용 데이터를 활용하여 모바일폰의 ram의 용량을 예측하는 모형을 만들고, 이를 평가용 데이터인 X_test.csv에 적용하여 ram의 예측값을 csv 파일로 생성하시오.(평가 지표는 RMSE) "
   ]
  },
  {
   "cell_type": "markdown",
   "id": "40341ee4",
   "metadata": {},
   "source": [
    "### 🧩 힌트\n",
    "- 분류 과제인지 회귀 과제인지 판단합니다.\n",
    "- 평가지표가 RMSE인 것으로 보아 회귀 과제에 해당합니다.\n",
    "- 회귀 과제라면 proba가 아닌 pred가 사용됩니다. 회귀과제는 클래스에 속할 확률을 예측하는 것이 아니기 때문에 proba가 사용되지 않습니다."
   ]
  },
  {
   "cell_type": "markdown",
   "id": "123c161d",
   "metadata": {},
   "source": [
    "### 🧩 주의\n",
    "- 이 모델은 rmse 수치가 매우 높습니다. 자체 가공한 데이터셋으로 타겟을 ram으로 설정한 것이 적절하지 않았을 수 있습니다. 회귀 과제를 연습하는 방향으로만 사용하는 것이 좋겠습니다."
   ]
  },
  {
   "cell_type": "markdown",
   "id": "540a25d2",
   "metadata": {},
   "source": [
    "# 1. 필요한 패키지 불러오기"
   ]
  },
  {
   "cell_type": "code",
   "execution_count": 1,
   "id": "d7fc6dcd",
   "metadata": {},
   "outputs": [],
   "source": [
    "import pandas as pd\n",
    "import numpy as np\n",
    "import warnings\n",
    "\n",
    "warnings.filterwarnings('ignore')"
   ]
  },
  {
   "cell_type": "markdown",
   "id": "66a76239",
   "metadata": {},
   "source": [
    "# 2. 데이터 파일 읽기\n",
    "- 시험에는 총 3개의 파일이 주어집니다.\n",
    "- X_train : 학습에 사용되는 변수들이 포함된 데이터입니다.\n",
    "- X_test : 평가에 사용되는 데이터입니다.\n",
    "- y_train : 타겟 데이터입니다. 여기서는 ram의 용량을 나타냅니다."
   ]
  },
  {
   "cell_type": "code",
   "execution_count": 2,
   "id": "30770f9b",
   "metadata": {},
   "outputs": [],
   "source": [
    "X_train = pd.read_csv('./Reg_Mobile_X_train.csv')\n",
    "X_test = pd.read_csv('./Reg_Mobile_X_test.csv')\n",
    "y_train = pd.read_csv('./Reg_Mobile_y_train.csv')"
   ]
  },
  {
   "cell_type": "code",
   "execution_count": 3,
   "id": "523964c4",
   "metadata": {},
   "outputs": [
    {
     "data": {
      "text/html": [
       "<div>\n",
       "<style scoped>\n",
       "    .dataframe tbody tr th:only-of-type {\n",
       "        vertical-align: middle;\n",
       "    }\n",
       "\n",
       "    .dataframe tbody tr th {\n",
       "        vertical-align: top;\n",
       "    }\n",
       "\n",
       "    .dataframe thead th {\n",
       "        text-align: right;\n",
       "    }\n",
       "</style>\n",
       "<table border=\"1\" class=\"dataframe\">\n",
       "  <thead>\n",
       "    <tr style=\"text-align: right;\">\n",
       "      <th></th>\n",
       "      <th>battery_power</th>\n",
       "      <th>clock_speed</th>\n",
       "      <th>fc</th>\n",
       "      <th>int_memory</th>\n",
       "      <th>m_dep</th>\n",
       "      <th>mobile_wt</th>\n",
       "      <th>n_cores</th>\n",
       "      <th>pc</th>\n",
       "      <th>px_height</th>\n",
       "      <th>px_width</th>\n",
       "      <th>sc_h</th>\n",
       "      <th>sc_w</th>\n",
       "      <th>wifi</th>\n",
       "    </tr>\n",
       "  </thead>\n",
       "  <tbody>\n",
       "    <tr>\n",
       "      <th>0</th>\n",
       "      <td>842.0</td>\n",
       "      <td>2.2</td>\n",
       "      <td>1</td>\n",
       "      <td>7</td>\n",
       "      <td>0.6</td>\n",
       "      <td>188.0</td>\n",
       "      <td>2</td>\n",
       "      <td>2</td>\n",
       "      <td>20</td>\n",
       "      <td>756</td>\n",
       "      <td>9</td>\n",
       "      <td>7</td>\n",
       "      <td>yes</td>\n",
       "    </tr>\n",
       "    <tr>\n",
       "      <th>1</th>\n",
       "      <td>1021.0</td>\n",
       "      <td>0.5</td>\n",
       "      <td>0</td>\n",
       "      <td>53</td>\n",
       "      <td>0.7</td>\n",
       "      <td>136.0</td>\n",
       "      <td>3</td>\n",
       "      <td>6</td>\n",
       "      <td>905</td>\n",
       "      <td>1988</td>\n",
       "      <td>17</td>\n",
       "      <td>3</td>\n",
       "      <td>no</td>\n",
       "    </tr>\n",
       "  </tbody>\n",
       "</table>\n",
       "</div>"
      ],
      "text/plain": [
       "   battery_power  clock_speed  fc  int_memory  m_dep  mobile_wt  n_cores  pc  \\\n",
       "0          842.0          2.2   1           7    0.6      188.0        2   2   \n",
       "1         1021.0          0.5   0          53    0.7      136.0        3   6   \n",
       "\n",
       "   px_height  px_width  sc_h  sc_w wifi  \n",
       "0         20       756     9     7  yes  \n",
       "1        905      1988    17     3   no  "
      ]
     },
     "execution_count": 3,
     "metadata": {},
     "output_type": "execute_result"
    }
   ],
   "source": [
    "X_train.head(2)"
   ]
  },
  {
   "cell_type": "code",
   "execution_count": 4,
   "id": "5b1d59ea",
   "metadata": {},
   "outputs": [
    {
     "data": {
      "text/html": [
       "<div>\n",
       "<style scoped>\n",
       "    .dataframe tbody tr th:only-of-type {\n",
       "        vertical-align: middle;\n",
       "    }\n",
       "\n",
       "    .dataframe tbody tr th {\n",
       "        vertical-align: top;\n",
       "    }\n",
       "\n",
       "    .dataframe thead th {\n",
       "        text-align: right;\n",
       "    }\n",
       "</style>\n",
       "<table border=\"1\" class=\"dataframe\">\n",
       "  <thead>\n",
       "    <tr style=\"text-align: right;\">\n",
       "      <th></th>\n",
       "      <th>ram</th>\n",
       "    </tr>\n",
       "  </thead>\n",
       "  <tbody>\n",
       "    <tr>\n",
       "      <th>0</th>\n",
       "      <td>2549</td>\n",
       "    </tr>\n",
       "    <tr>\n",
       "      <th>1</th>\n",
       "      <td>2631</td>\n",
       "    </tr>\n",
       "  </tbody>\n",
       "</table>\n",
       "</div>"
      ],
      "text/plain": [
       "    ram\n",
       "0  2549\n",
       "1  2631"
      ]
     },
     "execution_count": 4,
     "metadata": {},
     "output_type": "execute_result"
    }
   ],
   "source": [
    "y_train.head(2)"
   ]
  },
  {
   "cell_type": "markdown",
   "id": "17c6b3f5",
   "metadata": {},
   "source": [
    "# 3. info() 함수로 기본 정보 확인하기\n",
    "- 행과 열의 개수 및 결측치가 있는지 알아봅니다.\n",
    "- 각 열의 데이터 타입을 확인하여 이후 수치형 변수와 명목형 변수로 나눌 때 참고합니다.\n",
    "- X_train에는 3개의 열에 결측치가 존재합니다.\n",
    "- X_train은 명목형 변수(object) 컬럼이 하나 존재합니다."
   ]
  },
  {
   "cell_type": "code",
   "execution_count": 5,
   "id": "b179d883",
   "metadata": {},
   "outputs": [
    {
     "name": "stdout",
     "output_type": "stream",
     "text": [
      "<class 'pandas.core.frame.DataFrame'>\n",
      "RangeIndex: 2000 entries, 0 to 1999\n",
      "Data columns (total 13 columns):\n",
      " #   Column         Non-Null Count  Dtype  \n",
      "---  ------         --------------  -----  \n",
      " 0   battery_power  1998 non-null   float64\n",
      " 1   clock_speed    2000 non-null   float64\n",
      " 2   fc             2000 non-null   int64  \n",
      " 3   int_memory     2000 non-null   int64  \n",
      " 4   m_dep          2000 non-null   float64\n",
      " 5   mobile_wt      1998 non-null   float64\n",
      " 6   n_cores        2000 non-null   int64  \n",
      " 7   pc             2000 non-null   int64  \n",
      " 8   px_height      2000 non-null   int64  \n",
      " 9   px_width       2000 non-null   int64  \n",
      " 10  sc_h           2000 non-null   int64  \n",
      " 11  sc_w           2000 non-null   int64  \n",
      " 12  wifi           1997 non-null   object \n",
      "dtypes: float64(4), int64(8), object(1)\n",
      "memory usage: 203.2+ KB\n"
     ]
    }
   ],
   "source": [
    "X_train.info()"
   ]
  },
  {
   "cell_type": "code",
   "execution_count": 6,
   "id": "7a12854f",
   "metadata": {},
   "outputs": [
    {
     "name": "stdout",
     "output_type": "stream",
     "text": [
      "<class 'pandas.core.frame.DataFrame'>\n",
      "RangeIndex: 1000 entries, 0 to 999\n",
      "Data columns (total 13 columns):\n",
      " #   Column         Non-Null Count  Dtype  \n",
      "---  ------         --------------  -----  \n",
      " 0   battery_power  1000 non-null   int64  \n",
      " 1   clock_speed    1000 non-null   float64\n",
      " 2   fc             1000 non-null   int64  \n",
      " 3   int_memory     1000 non-null   int64  \n",
      " 4   m_dep          1000 non-null   float64\n",
      " 5   mobile_wt      1000 non-null   int64  \n",
      " 6   n_cores        1000 non-null   int64  \n",
      " 7   pc             1000 non-null   int64  \n",
      " 8   px_height      1000 non-null   int64  \n",
      " 9   px_width       1000 non-null   int64  \n",
      " 10  sc_h           1000 non-null   int64  \n",
      " 11  sc_w           1000 non-null   int64  \n",
      " 12  wifi           1000 non-null   object \n",
      "dtypes: float64(2), int64(10), object(1)\n",
      "memory usage: 101.7+ KB\n"
     ]
    }
   ],
   "source": [
    "X_test.info()"
   ]
  },
  {
   "cell_type": "code",
   "execution_count": 7,
   "id": "ae4fc3c1",
   "metadata": {},
   "outputs": [
    {
     "name": "stdout",
     "output_type": "stream",
     "text": [
      "<class 'pandas.core.frame.DataFrame'>\n",
      "RangeIndex: 1998 entries, 0 to 1997\n",
      "Data columns (total 1 columns):\n",
      " #   Column  Non-Null Count  Dtype\n",
      "---  ------  --------------  -----\n",
      " 0   ram     1998 non-null   int64\n",
      "dtypes: int64(1)\n",
      "memory usage: 15.7 KB\n"
     ]
    }
   ],
   "source": [
    "y_train.info()"
   ]
  },
  {
   "cell_type": "markdown",
   "id": "bf7f5e34",
   "metadata": {},
   "source": [
    "# 4. 결측치 처리하기\n",
    "- X_train과 y_train에 결측치가 모두 존재하기 때문에 이를 고려하여 결측치를 처리하는 방법을 선정합니다.\n",
    "- 두 데이터셋의 결측치 행을 확인합니다."
   ]
  },
  {
   "cell_type": "code",
   "execution_count": 8,
   "id": "3173d9da",
   "metadata": {},
   "outputs": [
    {
     "data": {
      "text/html": [
       "<div>\n",
       "<style scoped>\n",
       "    .dataframe tbody tr th:only-of-type {\n",
       "        vertical-align: middle;\n",
       "    }\n",
       "\n",
       "    .dataframe tbody tr th {\n",
       "        vertical-align: top;\n",
       "    }\n",
       "\n",
       "    .dataframe thead th {\n",
       "        text-align: right;\n",
       "    }\n",
       "</style>\n",
       "<table border=\"1\" class=\"dataframe\">\n",
       "  <thead>\n",
       "    <tr style=\"text-align: right;\">\n",
       "      <th></th>\n",
       "      <th>battery_power</th>\n",
       "      <th>clock_speed</th>\n",
       "      <th>fc</th>\n",
       "      <th>int_memory</th>\n",
       "      <th>m_dep</th>\n",
       "      <th>mobile_wt</th>\n",
       "      <th>n_cores</th>\n",
       "      <th>pc</th>\n",
       "      <th>px_height</th>\n",
       "      <th>px_width</th>\n",
       "      <th>sc_h</th>\n",
       "      <th>sc_w</th>\n",
       "      <th>wifi</th>\n",
       "      <th>ram</th>\n",
       "    </tr>\n",
       "  </thead>\n",
       "  <tbody>\n",
       "    <tr>\n",
       "      <th>0</th>\n",
       "      <td>842.0</td>\n",
       "      <td>2.2</td>\n",
       "      <td>1</td>\n",
       "      <td>7</td>\n",
       "      <td>0.6</td>\n",
       "      <td>188.0</td>\n",
       "      <td>2</td>\n",
       "      <td>2</td>\n",
       "      <td>20</td>\n",
       "      <td>756</td>\n",
       "      <td>9</td>\n",
       "      <td>7</td>\n",
       "      <td>yes</td>\n",
       "      <td>2549.0</td>\n",
       "    </tr>\n",
       "  </tbody>\n",
       "</table>\n",
       "</div>"
      ],
      "text/plain": [
       "   battery_power  clock_speed  fc  int_memory  m_dep  mobile_wt  n_cores  pc  \\\n",
       "0          842.0          2.2   1           7    0.6      188.0        2   2   \n",
       "\n",
       "   px_height  px_width  sc_h  sc_w wifi     ram  \n",
       "0         20       756     9     7  yes  2549.0  "
      ]
     },
     "execution_count": 8,
     "metadata": {},
     "output_type": "execute_result"
    }
   ],
   "source": [
    "train = pd.concat([X_train, y_train], axis = 1)\n",
    "train.head(1)"
   ]
  },
  {
   "cell_type": "code",
   "execution_count": 9,
   "id": "51b147b6",
   "metadata": {},
   "outputs": [
    {
     "data": {
      "text/html": [
       "<div>\n",
       "<style scoped>\n",
       "    .dataframe tbody tr th:only-of-type {\n",
       "        vertical-align: middle;\n",
       "    }\n",
       "\n",
       "    .dataframe tbody tr th {\n",
       "        vertical-align: top;\n",
       "    }\n",
       "\n",
       "    .dataframe thead th {\n",
       "        text-align: right;\n",
       "    }\n",
       "</style>\n",
       "<table border=\"1\" class=\"dataframe\">\n",
       "  <thead>\n",
       "    <tr style=\"text-align: right;\">\n",
       "      <th></th>\n",
       "      <th>battery_power</th>\n",
       "      <th>clock_speed</th>\n",
       "      <th>fc</th>\n",
       "      <th>int_memory</th>\n",
       "      <th>m_dep</th>\n",
       "      <th>mobile_wt</th>\n",
       "      <th>n_cores</th>\n",
       "      <th>pc</th>\n",
       "      <th>px_height</th>\n",
       "      <th>px_width</th>\n",
       "      <th>sc_h</th>\n",
       "      <th>sc_w</th>\n",
       "      <th>wifi</th>\n",
       "      <th>ram</th>\n",
       "    </tr>\n",
       "  </thead>\n",
       "  <tbody>\n",
       "    <tr>\n",
       "      <th>19</th>\n",
       "      <td>682.0</td>\n",
       "      <td>0.5</td>\n",
       "      <td>4</td>\n",
       "      <td>19</td>\n",
       "      <td>1.0</td>\n",
       "      <td>121.0</td>\n",
       "      <td>4</td>\n",
       "      <td>11</td>\n",
       "      <td>902</td>\n",
       "      <td>1064</td>\n",
       "      <td>11</td>\n",
       "      <td>1</td>\n",
       "      <td>NaN</td>\n",
       "      <td>2337.0</td>\n",
       "    </tr>\n",
       "    <tr>\n",
       "      <th>20</th>\n",
       "      <td>NaN</td>\n",
       "      <td>1.1</td>\n",
       "      <td>12</td>\n",
       "      <td>39</td>\n",
       "      <td>0.8</td>\n",
       "      <td>NaN</td>\n",
       "      <td>7</td>\n",
       "      <td>14</td>\n",
       "      <td>1314</td>\n",
       "      <td>1854</td>\n",
       "      <td>17</td>\n",
       "      <td>15</td>\n",
       "      <td>NaN</td>\n",
       "      <td>1433.0</td>\n",
       "    </tr>\n",
       "    <tr>\n",
       "      <th>21</th>\n",
       "      <td>NaN</td>\n",
       "      <td>2.1</td>\n",
       "      <td>1</td>\n",
       "      <td>13</td>\n",
       "      <td>1.0</td>\n",
       "      <td>NaN</td>\n",
       "      <td>2</td>\n",
       "      <td>2</td>\n",
       "      <td>974</td>\n",
       "      <td>1385</td>\n",
       "      <td>17</td>\n",
       "      <td>1</td>\n",
       "      <td>NaN</td>\n",
       "      <td>1037.0</td>\n",
       "    </tr>\n",
       "    <tr>\n",
       "      <th>1998</th>\n",
       "      <td>1512.0</td>\n",
       "      <td>0.9</td>\n",
       "      <td>4</td>\n",
       "      <td>46</td>\n",
       "      <td>0.1</td>\n",
       "      <td>145.0</td>\n",
       "      <td>5</td>\n",
       "      <td>5</td>\n",
       "      <td>336</td>\n",
       "      <td>670</td>\n",
       "      <td>18</td>\n",
       "      <td>10</td>\n",
       "      <td>yes</td>\n",
       "      <td>NaN</td>\n",
       "    </tr>\n",
       "    <tr>\n",
       "      <th>1999</th>\n",
       "      <td>510.0</td>\n",
       "      <td>2.0</td>\n",
       "      <td>5</td>\n",
       "      <td>45</td>\n",
       "      <td>0.9</td>\n",
       "      <td>168.0</td>\n",
       "      <td>6</td>\n",
       "      <td>16</td>\n",
       "      <td>483</td>\n",
       "      <td>754</td>\n",
       "      <td>19</td>\n",
       "      <td>4</td>\n",
       "      <td>yes</td>\n",
       "      <td>NaN</td>\n",
       "    </tr>\n",
       "  </tbody>\n",
       "</table>\n",
       "</div>"
      ],
      "text/plain": [
       "      battery_power  clock_speed  fc  int_memory  m_dep  mobile_wt  n_cores  \\\n",
       "19            682.0          0.5   4          19    1.0      121.0        4   \n",
       "20              NaN          1.1  12          39    0.8        NaN        7   \n",
       "21              NaN          2.1   1          13    1.0        NaN        2   \n",
       "1998         1512.0          0.9   4          46    0.1      145.0        5   \n",
       "1999          510.0          2.0   5          45    0.9      168.0        6   \n",
       "\n",
       "      pc  px_height  px_width  sc_h  sc_w wifi     ram  \n",
       "19    11        902      1064    11     1  NaN  2337.0  \n",
       "20    14       1314      1854    17    15  NaN  1433.0  \n",
       "21     2        974      1385    17     1  NaN  1037.0  \n",
       "1998   5        336       670    18    10  yes     NaN  \n",
       "1999  16        483       754    19     4  yes     NaN  "
      ]
     },
     "execution_count": 9,
     "metadata": {},
     "output_type": "execute_result"
    }
   ],
   "source": [
    "missing_data_rows = train[train.isnull().any(axis=1)]\n",
    "missing_data_rows            "
   ]
  },
  {
   "cell_type": "markdown",
   "id": "b4f97235",
   "metadata": {},
   "source": [
    "- 결측치가 컬럼마다 여러 행에 분포되어 있는 상황이므로 dropna() 함수를 사용하여 결측치가 포함된 행들을 제거합니다.\n",
    "- 결측치를 제거한 뒤에 다시 X_train과 y_train으로 나누어 모델링을 진행합니다."
   ]
  },
  {
   "cell_type": "code",
   "execution_count": 10,
   "id": "b9a05e9c",
   "metadata": {},
   "outputs": [],
   "source": [
    "train = train.dropna()\n",
    "train.reset_index(drop = True, inplace = True)"
   ]
  },
  {
   "cell_type": "code",
   "execution_count": 11,
   "id": "7ff8771b",
   "metadata": {},
   "outputs": [
    {
     "name": "stdout",
     "output_type": "stream",
     "text": [
      "<class 'pandas.core.frame.DataFrame'>\n",
      "RangeIndex: 1995 entries, 0 to 1994\n",
      "Data columns (total 14 columns):\n",
      " #   Column         Non-Null Count  Dtype  \n",
      "---  ------         --------------  -----  \n",
      " 0   battery_power  1995 non-null   float64\n",
      " 1   clock_speed    1995 non-null   float64\n",
      " 2   fc             1995 non-null   int64  \n",
      " 3   int_memory     1995 non-null   int64  \n",
      " 4   m_dep          1995 non-null   float64\n",
      " 5   mobile_wt      1995 non-null   float64\n",
      " 6   n_cores        1995 non-null   int64  \n",
      " 7   pc             1995 non-null   int64  \n",
      " 8   px_height      1995 non-null   int64  \n",
      " 9   px_width       1995 non-null   int64  \n",
      " 10  sc_h           1995 non-null   int64  \n",
      " 11  sc_w           1995 non-null   int64  \n",
      " 12  wifi           1995 non-null   object \n",
      " 13  ram            1995 non-null   float64\n",
      "dtypes: float64(5), int64(8), object(1)\n",
      "memory usage: 218.3+ KB\n"
     ]
    }
   ],
   "source": [
    "train.info()"
   ]
  },
  {
   "cell_type": "code",
   "execution_count": 12,
   "id": "894b15bf",
   "metadata": {},
   "outputs": [],
   "source": [
    "X_train = train[['battery_power', 'clock_speed', 'fc', 'int_memory', 'm_dep',\n",
    "                'mobile_wt', 'n_cores', 'pc', 'px_height', 'px_width', 'sc_h', 'sc_w', 'wifi']]\n",
    "y_train = train[['ram']]"
   ]
  },
  {
   "cell_type": "code",
   "execution_count": 13,
   "id": "b429f33c",
   "metadata": {},
   "outputs": [
    {
     "name": "stdout",
     "output_type": "stream",
     "text": [
      "<class 'pandas.core.frame.DataFrame'>\n",
      "RangeIndex: 1995 entries, 0 to 1994\n",
      "Data columns (total 1 columns):\n",
      " #   Column  Non-Null Count  Dtype  \n",
      "---  ------  --------------  -----  \n",
      " 0   ram     1995 non-null   float64\n",
      "dtypes: float64(1)\n",
      "memory usage: 15.7 KB\n"
     ]
    }
   ],
   "source": [
    "y_train.info()"
   ]
  },
  {
   "cell_type": "markdown",
   "id": "09fdeb80",
   "metadata": {},
   "source": [
    "# 5. describe() 함수로 요약 통계량 확인하기"
   ]
  },
  {
   "cell_type": "code",
   "execution_count": 14,
   "id": "9674f68e",
   "metadata": {},
   "outputs": [
    {
     "data": {
      "text/html": [
       "<div>\n",
       "<style scoped>\n",
       "    .dataframe tbody tr th:only-of-type {\n",
       "        vertical-align: middle;\n",
       "    }\n",
       "\n",
       "    .dataframe tbody tr th {\n",
       "        vertical-align: top;\n",
       "    }\n",
       "\n",
       "    .dataframe thead th {\n",
       "        text-align: right;\n",
       "    }\n",
       "</style>\n",
       "<table border=\"1\" class=\"dataframe\">\n",
       "  <thead>\n",
       "    <tr style=\"text-align: right;\">\n",
       "      <th></th>\n",
       "      <th>battery_power</th>\n",
       "      <th>clock_speed</th>\n",
       "      <th>fc</th>\n",
       "      <th>int_memory</th>\n",
       "      <th>m_dep</th>\n",
       "      <th>mobile_wt</th>\n",
       "      <th>n_cores</th>\n",
       "      <th>pc</th>\n",
       "      <th>px_height</th>\n",
       "      <th>px_width</th>\n",
       "      <th>sc_h</th>\n",
       "      <th>sc_w</th>\n",
       "    </tr>\n",
       "  </thead>\n",
       "  <tbody>\n",
       "    <tr>\n",
       "      <th>count</th>\n",
       "      <td>1995.000000</td>\n",
       "      <td>1995.000000</td>\n",
       "      <td>1995.000000</td>\n",
       "      <td>1995.000000</td>\n",
       "      <td>1995.000000</td>\n",
       "      <td>1995.00000</td>\n",
       "      <td>1995.000000</td>\n",
       "      <td>1995.000000</td>\n",
       "      <td>1995.000000</td>\n",
       "      <td>1995.000000</td>\n",
       "      <td>1995.000000</td>\n",
       "      <td>1995.000000</td>\n",
       "    </tr>\n",
       "    <tr>\n",
       "      <th>mean</th>\n",
       "      <td>1239.023559</td>\n",
       "      <td>1.522757</td>\n",
       "      <td>4.307268</td>\n",
       "      <td>32.045614</td>\n",
       "      <td>0.501103</td>\n",
       "      <td>140.26416</td>\n",
       "      <td>4.519799</td>\n",
       "      <td>9.917293</td>\n",
       "      <td>644.715288</td>\n",
       "      <td>1251.781454</td>\n",
       "      <td>12.296241</td>\n",
       "      <td>5.765915</td>\n",
       "    </tr>\n",
       "    <tr>\n",
       "      <th>std</th>\n",
       "      <td>439.195995</td>\n",
       "      <td>0.816359</td>\n",
       "      <td>4.342799</td>\n",
       "      <td>18.155420</td>\n",
       "      <td>0.287989</td>\n",
       "      <td>35.40917</td>\n",
       "      <td>2.289040</td>\n",
       "      <td>6.066059</td>\n",
       "      <td>443.916960</td>\n",
       "      <td>432.160104</td>\n",
       "      <td>4.211195</td>\n",
       "      <td>4.353124</td>\n",
       "    </tr>\n",
       "    <tr>\n",
       "      <th>min</th>\n",
       "      <td>501.000000</td>\n",
       "      <td>0.500000</td>\n",
       "      <td>0.000000</td>\n",
       "      <td>2.000000</td>\n",
       "      <td>0.100000</td>\n",
       "      <td>80.00000</td>\n",
       "      <td>1.000000</td>\n",
       "      <td>0.000000</td>\n",
       "      <td>0.000000</td>\n",
       "      <td>500.000000</td>\n",
       "      <td>5.000000</td>\n",
       "      <td>0.000000</td>\n",
       "    </tr>\n",
       "    <tr>\n",
       "      <th>25%</th>\n",
       "      <td>852.000000</td>\n",
       "      <td>0.700000</td>\n",
       "      <td>1.000000</td>\n",
       "      <td>16.000000</td>\n",
       "      <td>0.200000</td>\n",
       "      <td>109.00000</td>\n",
       "      <td>3.000000</td>\n",
       "      <td>5.000000</td>\n",
       "      <td>282.000000</td>\n",
       "      <td>875.500000</td>\n",
       "      <td>9.000000</td>\n",
       "      <td>2.000000</td>\n",
       "    </tr>\n",
       "    <tr>\n",
       "      <th>50%</th>\n",
       "      <td>1227.000000</td>\n",
       "      <td>1.500000</td>\n",
       "      <td>3.000000</td>\n",
       "      <td>32.000000</td>\n",
       "      <td>0.500000</td>\n",
       "      <td>141.00000</td>\n",
       "      <td>4.000000</td>\n",
       "      <td>10.000000</td>\n",
       "      <td>564.000000</td>\n",
       "      <td>1247.000000</td>\n",
       "      <td>12.000000</td>\n",
       "      <td>5.000000</td>\n",
       "    </tr>\n",
       "    <tr>\n",
       "      <th>75%</th>\n",
       "      <td>1615.500000</td>\n",
       "      <td>2.200000</td>\n",
       "      <td>7.000000</td>\n",
       "      <td>48.000000</td>\n",
       "      <td>0.800000</td>\n",
       "      <td>170.00000</td>\n",
       "      <td>7.000000</td>\n",
       "      <td>15.000000</td>\n",
       "      <td>946.500000</td>\n",
       "      <td>1633.000000</td>\n",
       "      <td>16.000000</td>\n",
       "      <td>9.000000</td>\n",
       "    </tr>\n",
       "    <tr>\n",
       "      <th>max</th>\n",
       "      <td>1998.000000</td>\n",
       "      <td>3.000000</td>\n",
       "      <td>19.000000</td>\n",
       "      <td>64.000000</td>\n",
       "      <td>1.000000</td>\n",
       "      <td>200.00000</td>\n",
       "      <td>8.000000</td>\n",
       "      <td>20.000000</td>\n",
       "      <td>1960.000000</td>\n",
       "      <td>1998.000000</td>\n",
       "      <td>19.000000</td>\n",
       "      <td>18.000000</td>\n",
       "    </tr>\n",
       "  </tbody>\n",
       "</table>\n",
       "</div>"
      ],
      "text/plain": [
       "       battery_power  clock_speed           fc   int_memory        m_dep  \\\n",
       "count    1995.000000  1995.000000  1995.000000  1995.000000  1995.000000   \n",
       "mean     1239.023559     1.522757     4.307268    32.045614     0.501103   \n",
       "std       439.195995     0.816359     4.342799    18.155420     0.287989   \n",
       "min       501.000000     0.500000     0.000000     2.000000     0.100000   \n",
       "25%       852.000000     0.700000     1.000000    16.000000     0.200000   \n",
       "50%      1227.000000     1.500000     3.000000    32.000000     0.500000   \n",
       "75%      1615.500000     2.200000     7.000000    48.000000     0.800000   \n",
       "max      1998.000000     3.000000    19.000000    64.000000     1.000000   \n",
       "\n",
       "        mobile_wt      n_cores           pc    px_height     px_width  \\\n",
       "count  1995.00000  1995.000000  1995.000000  1995.000000  1995.000000   \n",
       "mean    140.26416     4.519799     9.917293   644.715288  1251.781454   \n",
       "std      35.40917     2.289040     6.066059   443.916960   432.160104   \n",
       "min      80.00000     1.000000     0.000000     0.000000   500.000000   \n",
       "25%     109.00000     3.000000     5.000000   282.000000   875.500000   \n",
       "50%     141.00000     4.000000    10.000000   564.000000  1247.000000   \n",
       "75%     170.00000     7.000000    15.000000   946.500000  1633.000000   \n",
       "max     200.00000     8.000000    20.000000  1960.000000  1998.000000   \n",
       "\n",
       "              sc_h         sc_w  \n",
       "count  1995.000000  1995.000000  \n",
       "mean     12.296241     5.765915  \n",
       "std       4.211195     4.353124  \n",
       "min       5.000000     0.000000  \n",
       "25%       9.000000     2.000000  \n",
       "50%      12.000000     5.000000  \n",
       "75%      16.000000     9.000000  \n",
       "max      19.000000    18.000000  "
      ]
     },
     "execution_count": 14,
     "metadata": {},
     "output_type": "execute_result"
    }
   ],
   "source": [
    "X_train.describe()"
   ]
  },
  {
   "cell_type": "markdown",
   "id": "08389596",
   "metadata": {},
   "source": [
    "- X_train에서 특별한 이상치는 발견되지 않는 것으로 판단됩니다."
   ]
  },
  {
   "cell_type": "markdown",
   "id": "2cb4c395",
   "metadata": {},
   "source": [
    "# 6. 수치형 / 명목형 변수 정리, 명목형 변수는 레이블 인코딩"
   ]
  },
  {
   "cell_type": "markdown",
   "id": "d9a0d2aa",
   "metadata": {},
   "source": [
    "- 회귀모델은 입력 데이터가 수치형일 때 잘 작동됩니다. 모델이 명목형 변수를 처리할 수 있도록 숫자 값으로 변환해야 이를 또 하나의 변수로 사용하여 모델을 학습시킬 수 있습니다.\n",
    "- 명목형 변수를 처리하는 방법으로 원-핫 인코딩이 많이 사용됩니다."
   ]
  },
  {
   "cell_type": "code",
   "execution_count": 15,
   "id": "f92fa02e",
   "metadata": {},
   "outputs": [],
   "source": [
    "col_number = ['battery_power', 'clock_speed', 'fc', 'int_memory', 'm_dep',\n",
    "                'mobile_wt', 'n_cores', 'pc', 'px_height', 'px_width', 'sc_h', 'sc_w']\n",
    "col_category = ['wifi']\n",
    "col_y = ['ram']"
   ]
  },
  {
   "cell_type": "markdown",
   "id": "40d84520",
   "metadata": {},
   "source": [
    "- 훈련 데이터와 테스트 데이터 모두 동일한 원-핫 인코딩 방식을 적용하기 위해 X_train와 X_test를 concat해서 피팅시키고, 훈련 데이터와 테스트 데이터에 각각 인코딩을 진행합니다.\n",
    "- 원-핫 인코딩은 범주 간에 순서가 없습니다. 명목형 변수에서 각 범주의 데이터를 0, 1, 2 등으로 정수로 바꾸는 레이블 인코딩은 간단할 수도 있지만 정수 0, 1, 2 사이에는 순서가 존재하는 것(더 큰 값)으로 가정될 수 있습니다. 따라서 범주 간에 순서가 존재하지 않는다면 원-핫 인코딩이 더 적절합니다. "
   ]
  },
  {
   "cell_type": "code",
   "execution_count": 16,
   "id": "0ed0e451",
   "metadata": {},
   "outputs": [],
   "source": [
    "X = pd.concat([X_train, X_test])"
   ]
  },
  {
   "cell_type": "code",
   "execution_count": 17,
   "id": "f54a00d3",
   "metadata": {},
   "outputs": [],
   "source": [
    "from sklearn.preprocessing import OneHotEncoder\n",
    "onehot = OneHotEncoder()\n",
    "onehot.fit(X[col_category])\n",
    "\n",
    "X_train_res = onehot.transform(X_train[col_category])\n",
    "X_test_res = onehot.transform(X_test[col_category])"
   ]
  },
  {
   "cell_type": "markdown",
   "id": "79284614",
   "metadata": {},
   "source": [
    "- .todense() 메서드는 이 희소 행렬을 일반적인 밀집 행렬(dense matrix)로 변환합니다. 이는 Pandas 데이터프레임으로 쉽게 변환할 수 있는 형태입니다.\n",
    "- onehot.get_feature_names()는 원-핫 인코딩된 특성의 이름을 가져옵니다."
   ]
  },
  {
   "cell_type": "code",
   "execution_count": 18,
   "id": "791cf3b4",
   "metadata": {},
   "outputs": [
    {
     "name": "stdout",
     "output_type": "stream",
     "text": [
      "      x0_no  x0_yes\n",
      "0       0.0     1.0\n",
      "1       1.0     0.0\n",
      "2       1.0     0.0\n",
      "3       1.0     0.0\n",
      "4       1.0     0.0\n",
      "...     ...     ...\n",
      "1990    0.0     1.0\n",
      "1991    1.0     0.0\n",
      "1992    1.0     0.0\n",
      "1993    0.0     1.0\n",
      "1994    1.0     0.0\n",
      "\n",
      "[1995 rows x 2 columns]\n"
     ]
    }
   ],
   "source": [
    "X_train_onehot = pd.DataFrame(X_train_res.todense(), columns = onehot.get_feature_names())\n",
    "X_test_onehot = pd.DataFrame(X_test_res.todense(), columns = onehot.get_feature_names())\n",
    "print(X_train_onehot)"
   ]
  },
  {
   "cell_type": "code",
   "execution_count": 19,
   "id": "b44a7633",
   "metadata": {},
   "outputs": [],
   "source": [
    "X_train_last = pd.concat([X_train[col_number], X_train_onehot], axis=1)\n",
    "X_test_last = pd.concat([X_test[col_number], X_test_onehot], axis=1)"
   ]
  },
  {
   "cell_type": "markdown",
   "id": "d434ada2",
   "metadata": {},
   "source": [
    "# 7. 학습용 데이터와 검증용 데이터 분할\n",
    "- 학습 데이터로 만든 모델의 일반화 성능을 검증하기 위해 다시 분할하여 검증합니다.\n",
    "- 과적합이 발생하는 경우에 모델을 바꾸거나 하이퍼파라미터를 조정하는 등의 방식으로 모델링 방식을 바꿉니다. \n",
    "- 여기서 학습 데이터와 검증 데이터를 나누는 비율은 0.3으로 설정하였습니다."
   ]
  },
  {
   "cell_type": "code",
   "execution_count": 20,
   "id": "a049285e",
   "metadata": {},
   "outputs": [],
   "source": [
    "from sklearn.model_selection import train_test_split\n",
    "\n",
    "X_tr, X_valid, y_tr, y_valid = train_test_split(X_train_last, y_train, test_size = 0.3)"
   ]
  },
  {
   "cell_type": "markdown",
   "id": "f469549d",
   "metadata": {},
   "source": [
    "# 8. 스케일링 수행"
   ]
  },
  {
   "cell_type": "code",
   "execution_count": 21,
   "id": "50238007",
   "metadata": {},
   "outputs": [],
   "source": [
    "from sklearn.preprocessing import MinMaxScaler\n",
    "\n",
    "scaler = MinMaxScaler()\n",
    "scaler.fit(X_tr[col_number])\n",
    "\n",
    "X_tr[col_number] = scaler.transform(X_tr[col_number])\n",
    "X_valid[col_number] = scaler.transform(X_valid[col_number])\n",
    "X_test_last[col_number] = scaler.transform(X_test_last[col_number])"
   ]
  },
  {
   "cell_type": "markdown",
   "id": "5bc2957c",
   "metadata": {},
   "source": [
    "# 9. 모델 학습\n",
    "- 랜덤 포레스트 모델을 사용합니다. 분류 과제에서는 RandomForestClassifier를 사용한 반면에 회귀 과제에서는 RandomForestRegressor을 사용합니다."
   ]
  },
  {
   "cell_type": "code",
   "execution_count": 22,
   "id": "8a432f46",
   "metadata": {},
   "outputs": [
    {
     "data": {
      "text/plain": [
       "RandomForestRegressor(random_state=42)"
      ]
     },
     "execution_count": 22,
     "metadata": {},
     "output_type": "execute_result"
    }
   ],
   "source": [
    "from sklearn.ensemble import RandomForestRegressor\n",
    "\n",
    "modelRF = RandomForestRegressor(n_estimators=100, random_state=42)\n",
    "modelRF.fit(X_tr, y_tr)"
   ]
  },
  {
   "cell_type": "markdown",
   "id": "e43637e6",
   "metadata": {},
   "source": [
    "# 10. 모델 평가\n",
    "- 이 모델은 rmse 수치가 매우 높습니다. 자체 가공한 데이터셋으로 타겟을 ram으로 설정한 것이 적절하지 않았을 수 있습니다. 회귀 과제를 연습하는 방향으로만 사용하는 것이 좋겠습니다."
   ]
  },
  {
   "cell_type": "code",
   "execution_count": 23,
   "id": "2baf48f9",
   "metadata": {},
   "outputs": [],
   "source": [
    "y_validation_predict = modelRF.predict(X_valid)"
   ]
  },
  {
   "cell_type": "code",
   "execution_count": 24,
   "id": "dfbfabd5",
   "metadata": {},
   "outputs": [
    {
     "name": "stdout",
     "output_type": "stream",
     "text": [
      "1134.9055638573886\n"
     ]
    }
   ],
   "source": [
    "from sklearn.metrics import mean_squared_error\n",
    "\n",
    "rmse = mean_squared_error(y_valid, y_validation_predict, squared=False)\n",
    "print(rmse)"
   ]
  },
  {
   "cell_type": "markdown",
   "id": "f9c48cc0",
   "metadata": {},
   "source": [
    "- 스케일링을 진행한 최종 평가용 데이터에 모델을 적용하여 예측값을 출력합니다."
   ]
  },
  {
   "cell_type": "code",
   "execution_count": 25,
   "id": "c0f2c6cf",
   "metadata": {},
   "outputs": [
    {
     "data": {
      "text/plain": [
       "array([1710.98, 2544.75, 2144.03, 2147.14, 2285.75, 2301.04, 2398.92,\n",
       "       1955.27, 2294.22, 2131.37, 2444.47, 1849.07, 2122.98, 2370.34,\n",
       "       2189.33, 2088.25, 2020.71, 2650.14, 2179.31, 2470.5 , 1903.01,\n",
       "       2353.16, 2181.3 , 2269.03, 2154.5 , 2091.48, 2109.66, 2182.47,\n",
       "       2175.16, 2283.74, 2159.75, 2035.09, 1990.36, 2218.89, 2098.64,\n",
       "       2084.38, 1925.19, 2124.17, 2684.46, 2096.07, 1675.03, 2783.45,\n",
       "       2470.34, 2203.28, 1918.6 , 2356.43, 2313.53, 2211.24, 2026.62,\n",
       "       2234.49, 2093.09, 2437.51, 2136.82, 2489.3 , 2036.94, 2385.34,\n",
       "       1495.05, 1957.6 , 2077.44, 2004.64, 2207.87, 2444.55, 2311.46,\n",
       "       2614.55, 2434.17, 2229.4 , 1841.29, 2267.12, 2037.53, 2180.22,\n",
       "       2716.85, 2211.91, 2252.42, 2140.45, 1641.86, 1792.69, 2221.65,\n",
       "       2048.67, 2271.63, 1958.93, 2398.68, 1926.71, 1754.99, 2125.92,\n",
       "       2137.44, 1871.53, 1932.66, 2420.98, 2381.07, 2350.26, 2003.47,\n",
       "       2097.57, 2169.03, 2178.36, 2031.01, 2081.91, 1834.59, 1730.34,\n",
       "       2057.14, 2129.29, 2380.71, 1745.74, 2392.14, 1865.73, 2304.59,\n",
       "       2517.95, 1914.82, 2240.77, 2000.64, 2181.35, 2011.46, 2226.41,\n",
       "       2202.09, 2092.54, 1761.17, 2559.67, 2044.83, 1905.66, 1870.5 ,\n",
       "       2027.36, 1943.32, 2316.99, 2386.61, 1974.5 , 2090.51, 1878.67,\n",
       "       2139.1 , 1855.42, 2285.04, 1492.94, 2487.66, 1982.24, 2192.2 ,\n",
       "       2493.64, 1651.34, 2736.1 , 2167.17, 2185.95, 2075.13, 2581.65,\n",
       "       2262.94, 2506.83, 2301.05, 1940.79, 2242.44, 1951.16, 2064.97,\n",
       "       2543.52, 2145.25, 2067.53, 2396.53, 1902.58, 2213.66, 2380.91,\n",
       "       2113.73, 2102.9 , 1511.37, 2193.52, 2561.73, 2402.24, 2295.35,\n",
       "       2005.04, 2101.66, 1977.46, 1982.85, 2199.71, 2028.42, 2271.83,\n",
       "       1903.79, 1955.64, 2456.63, 2140.9 , 2197.94, 2092.57, 1977.29,\n",
       "       2222.58, 2158.53, 1784.73, 1881.67, 2499.13, 2089.98, 2619.29,\n",
       "       2064.57, 1703.37, 2207.68, 2030.61, 2050.94, 2180.48, 2113.09,\n",
       "       2251.83, 1901.81, 1960.76, 2124.87, 1983.63, 2190.7 , 2187.43,\n",
       "       1897.27, 2445.1 , 2084.05, 1774.19, 2010.54, 2064.32, 2095.73,\n",
       "       2332.48, 2237.16, 2032.6 , 2351.14, 2089.29, 2281.26, 1954.45,\n",
       "       2180.86, 1995.99, 2150.89, 2218.57, 2757.42, 2017.04, 2153.56,\n",
       "       2213.1 , 2233.73, 2406.05, 2281.93, 2209.73, 1939.42, 2376.79,\n",
       "       2298.36, 2144.41, 2109.02, 2650.28, 1991.06, 2250.94, 1917.  ,\n",
       "       2143.26, 2243.3 , 2193.14, 1845.94, 2193.83, 1799.83, 2112.32,\n",
       "       2176.57, 1786.6 , 2046.32, 2510.35, 2334.85, 2317.65, 1981.5 ,\n",
       "       1860.67, 2128.56, 2367.4 , 2372.95, 2554.99, 1904.36, 2073.79,\n",
       "       2200.96, 2431.55, 2034.19, 2179.4 , 1953.86, 2106.86, 2046.88,\n",
       "       2305.48, 2097.01, 1908.38, 2082.06, 2145.01, 1988.41, 1748.57,\n",
       "       2029.27, 2318.3 , 1850.71, 2148.37, 2212.28, 1768.48, 2124.99,\n",
       "       2620.81, 2117.39, 1902.88, 2307.86, 1971.46, 1883.96, 2391.06,\n",
       "       2066.36, 1768.75, 2610.2 , 2033.42, 1840.18, 1980.53, 1915.47,\n",
       "       1813.02, 2301.2 , 2136.65, 1992.42, 2323.68, 2097.09, 2379.07,\n",
       "       1696.86, 1954.97, 2212.66, 2075.56, 1768.21, 2192.81, 2014.86,\n",
       "       2087.61, 1964.56, 2094.57, 2100.54, 1923.66, 2000.75, 2249.33,\n",
       "       2290.05, 2021.43, 2009.5 , 2129.11, 2040.13, 2262.92, 1906.12,\n",
       "       2600.12, 1896.94, 2121.95, 2246.52, 2200.16, 2246.54, 1817.38,\n",
       "       2161.75, 1874.54, 1831.21, 2122.8 , 2053.37, 1999.89, 2194.7 ,\n",
       "       2056.13, 2256.14, 2292.93, 2273.24, 2815.12, 2023.22, 2122.62,\n",
       "       2107.23, 2108.41, 2440.96, 2302.6 , 2138.33, 2160.04, 2421.38,\n",
       "       2369.54, 1808.99, 2155.19, 2141.25, 2474.08, 1895.83, 2204.69,\n",
       "       1883.96, 2239.35, 2030.7 , 2244.8 , 2396.73, 1927.48, 2300.38,\n",
       "       2105.06, 1932.56, 1971.9 , 1868.72, 1987.16, 1842.44, 2004.34,\n",
       "       2245.66, 1993.26, 2157.96, 2010.39, 2414.94, 2175.75, 2169.02,\n",
       "       2532.9 , 1876.47, 2313.22, 1983.33, 2201.5 , 1866.83, 2278.08,\n",
       "       1999.37, 2073.55, 2001.49, 1711.27, 1706.44, 2221.58, 2108.26,\n",
       "       2434.69, 2281.97, 2470.52, 2038.5 , 2127.07, 2050.58, 2161.67,\n",
       "       2186.32, 2502.84, 2251.39, 2327.79, 2082.7 , 2066.94, 2115.09,\n",
       "       2027.93, 2372.85, 2188.46, 2097.  , 2401.19, 2285.01, 1921.35,\n",
       "       2151.76, 2119.04, 2540.03, 2066.06, 2162.52, 2389.17, 1779.55,\n",
       "       1787.69, 2185.28, 2358.28, 1820.15, 2516.75, 2259.42, 2119.47,\n",
       "       2447.19, 2283.19, 2044.84, 2094.09, 1878.79, 1993.33, 2127.35,\n",
       "       2526.02, 1896.36, 1865.72, 2018.25, 1915.35, 2195.4 , 2201.03,\n",
       "       2479.  , 2399.34, 2140.05, 2382.23, 2059.59, 2305.91, 2435.6 ,\n",
       "       2028.27, 1887.98, 2199.7 , 1741.05, 1766.5 , 2259.47, 1934.03,\n",
       "       2209.9 , 2134.23, 2256.08, 2338.58, 2304.76, 2020.54, 2132.93,\n",
       "       2610.28, 1931.47, 2200.01, 1884.12, 1741.36, 2289.77, 1659.03,\n",
       "       2062.12, 2355.82, 2525.66, 2375.58, 1951.53, 1879.01, 2083.2 ,\n",
       "       1920.04, 1822.28, 2292.45, 2184.43, 2230.96, 2127.71, 1891.33,\n",
       "       2142.07, 1973.09, 2209.46, 2283.53, 2292.9 , 2291.09, 2186.08,\n",
       "       2054.58, 2090.72, 2459.65, 2217.79, 2114.23, 2273.79, 2255.42,\n",
       "       1965.11, 1823.31, 2428.  , 2441.55, 1997.72, 2298.36, 2267.55,\n",
       "       2302.55, 1812.1 , 1983.9 , 2410.38, 2559.74, 2179.75, 2126.77,\n",
       "       2120.13, 1985.09, 1959.31, 2546.78, 1826.6 , 2608.5 , 2169.57,\n",
       "       2218.62, 2147.77, 1893.72, 1997.14, 2535.38, 2166.26, 1913.5 ,\n",
       "       1865.91, 2104.15, 2020.43, 2342.49, 2070.29, 2232.96, 2123.73,\n",
       "       2175.59, 2148.15, 2205.14, 2005.88, 1672.93, 1935.24, 2277.18,\n",
       "       2132.08, 2327.05, 2098.88, 2402.35, 1939.7 , 2460.66, 2194.29,\n",
       "       1970.22, 1891.63, 2020.67, 2338.16, 2109.96, 2264.09, 2453.8 ,\n",
       "       2559.86, 2080.69, 2324.24, 1894.5 , 2272.12, 2047.87, 2055.42,\n",
       "       1996.18, 2265.52, 2527.04, 1554.09, 2042.51, 2181.42, 2264.57,\n",
       "       1824.43, 2310.34, 1953.14, 1865.33, 2174.86, 1578.27, 2450.5 ,\n",
       "       1854.99, 1957.66, 1943.6 , 1811.97, 2254.17, 2157.  , 2241.39,\n",
       "       2483.85, 2043.2 , 1897.74, 1956.04, 2350.57, 2700.88, 1710.17,\n",
       "       2430.77, 1852.94, 2088.42, 1972.6 , 2279.02, 1809.07, 2424.65,\n",
       "       1825.72, 2162.9 , 2165.36, 2436.3 , 2495.18, 1813.67, 2027.79,\n",
       "       1979.63, 2210.02, 2579.04, 2343.9 , 1744.4 , 2406.78, 2533.05,\n",
       "       2179.35, 2308.96, 1468.93, 2114.01, 2183.66, 2114.93, 1882.75,\n",
       "       2045.43, 2464.57, 1791.13, 1968.55, 2269.75, 1948.58, 2584.88,\n",
       "       1966.99, 2701.4 , 2067.55, 1992.71, 2133.13, 2119.16, 1721.59,\n",
       "       2083.69, 2177.31, 2255.98, 2145.51, 1934.14, 2157.53, 1881.07,\n",
       "       1951.96, 2294.51, 1871.19, 2389.73, 1978.31, 2313.56, 2270.66,\n",
       "       2177.38, 1902.44, 2090.33, 1994.41, 1976.25, 2396.54, 2088.24,\n",
       "       2315.32, 1765.5 , 1941.59, 2453.73, 1929.13, 2042.12, 2103.56,\n",
       "       2125.85, 1934.98, 2346.37, 2173.72, 2203.23, 2031.41, 2346.55,\n",
       "       2298.6 , 2112.17, 1849.51, 1684.95, 1640.08, 2056.59, 2168.51,\n",
       "       2352.62, 2203.7 , 1859.7 , 1902.51, 2286.49, 2130.59, 2294.29,\n",
       "       2269.56, 2194.97, 2150.81, 1950.91, 2132.01, 2470.26, 2274.61,\n",
       "       2125.4 , 1905.43, 1610.4 , 2565.84, 2295.57, 2273.19, 2121.9 ,\n",
       "       1825.  , 2123.07, 1406.92, 1994.21, 1886.07, 2128.33, 1921.86,\n",
       "       1678.38, 2033.56, 2306.88, 2149.83, 2610.08, 1656.51, 1972.24,\n",
       "       2348.29, 2091.06, 2095.62, 2307.45, 2037.75, 2280.54, 1980.93,\n",
       "       1963.42, 2839.31, 2151.85, 2017.94, 2524.88, 2099.85, 2073.02,\n",
       "       1941.05, 1922.55, 2010.11, 2390.27, 2214.42, 2443.02, 2033.3 ,\n",
       "       2106.34, 2617.72, 2338.01, 2335.63, 2586.94, 2235.12, 2105.74,\n",
       "       1660.44, 2074.02, 2225.81, 2395.64, 1978.04, 2592.95, 2027.89,\n",
       "       2973.81, 2201.93, 2121.61, 2268.04, 1810.46, 1906.38, 2522.49,\n",
       "       2117.23, 2444.14, 2348.63, 2312.43, 2422.44, 2322.7 , 2064.1 ,\n",
       "       2412.15, 1950.81, 1716.89, 2438.39, 1843.02, 2089.02, 1712.68,\n",
       "       1939.54, 2182.09, 2120.46, 2011.53, 2202.23, 2461.65, 2471.48,\n",
       "       2435.53, 2249.69, 1898.37, 1727.21, 2595.73, 1935.49, 2059.57,\n",
       "       2053.66, 2349.33, 1694.1 , 2292.62, 2078.1 , 2360.28, 2064.39,\n",
       "       2241.82, 2058.53, 1958.04, 1846.76, 2155.63, 2286.77, 2025.3 ,\n",
       "       2101.97, 2178.28, 2263.93, 2204.9 , 2278.33, 2250.78, 2189.81,\n",
       "       2419.29, 1942.63, 2495.32, 2040.53, 2277.55, 2028.83, 2333.56,\n",
       "       2349.59, 2092.05, 2175.07, 1989.17, 2047.53, 2464.62, 2196.63,\n",
       "       2087.36, 2298.56, 2432.06, 2204.33, 1861.46, 1974.89, 2324.55,\n",
       "       2213.41, 1517.13, 2145.58, 1671.39, 2201.26, 2061.44, 2026.79,\n",
       "       2306.4 , 2504.82, 1850.31, 2049.65, 1999.33, 2548.14, 1770.34,\n",
       "       2419.34, 2042.06, 2177.6 , 2049.99, 2022.29, 1957.73, 2107.14,\n",
       "       1926.41, 2060.91, 2201.78, 2519.61, 2195.86, 2098.03, 2186.3 ,\n",
       "       2141.07, 2411.64, 2080.15, 1955.71, 2472.83, 1675.74, 2161.67,\n",
       "       2171.86, 2103.1 , 2110.5 , 2121.35, 2317.65, 2400.52, 2324.02,\n",
       "       2240.06, 1804.81, 2089.31, 1861.72, 2088.56, 1897.29, 1946.12,\n",
       "       2414.64, 2311.92, 2366.17, 2236.76, 2136.68, 2064.21, 2227.23,\n",
       "       2204.48, 2307.53, 1745.35, 1970.37, 2301.94, 1684.05, 1938.58,\n",
       "       2042.38, 2018.28, 2357.69, 2125.78, 2201.33, 2290.62, 1943.62,\n",
       "       2245.7 , 1866.82, 2317.99, 2158.12, 2312.62, 1839.16, 2039.59,\n",
       "       2401.35, 2092.38, 2016.56, 2121.58, 2111.56, 1957.74, 2292.39,\n",
       "       2231.99, 2130.71, 1973.14, 2084.89, 2103.04, 2019.62, 2148.23,\n",
       "       1931.25, 2009.01, 1906.87, 2223.74, 2514.68, 2257.97, 2672.2 ,\n",
       "       2262.63, 2474.24, 2153.68, 1962.69, 2039.9 , 2643.3 , 1872.1 ,\n",
       "       2127.21, 2212.13, 1776.06, 2185.44, 2054.09, 2094.29, 2048.82,\n",
       "       2244.97, 2280.41, 2180.86, 1745.82, 2392.89, 2005.03, 2196.91,\n",
       "       2033.44, 2027.14, 1946.88, 2076.98, 2109.92, 2032.08, 2417.67,\n",
       "       2489.97, 2238.17, 1655.84, 2394.76, 1953.84, 2416.15, 2300.81,\n",
       "       1994.06, 2005.15, 2157.19, 2110.91, 2222.65, 2245.87, 2370.99,\n",
       "       2310.92, 2200.05, 2180.8 , 1864.65, 2140.24, 1766.75, 2383.9 ,\n",
       "       2092.17, 2023.71, 2392.29, 2425.21, 1885.98, 1709.96, 2035.91,\n",
       "       2768.26, 2134.26, 2146.29, 2179.3 , 1808.27, 2474.65, 2268.56,\n",
       "       2351.05, 1868.63, 2079.52, 2061.82, 2051.43, 2450.26, 2102.92,\n",
       "       2260.28, 2630.94, 1765.06, 2035.44, 2264.58, 1973.26, 2130.25,\n",
       "       2149.49, 1814.17, 2626.41, 2204.93, 2292.1 , 2018.57, 1732.9 ,\n",
       "       2126.47, 2113.52, 2186.91, 2464.8 , 2418.25, 2257.56])"
      ]
     },
     "execution_count": 25,
     "metadata": {},
     "output_type": "execute_result"
    }
   ],
   "source": [
    "pred = modelRF.predict(X_test_last)\n",
    "pred"
   ]
  },
  {
   "cell_type": "markdown",
   "id": "84f33657",
   "metadata": {},
   "source": [
    "# 11. 파일 제출"
   ]
  },
  {
   "cell_type": "code",
   "execution_count": 26,
   "id": "20f3ca79",
   "metadata": {},
   "outputs": [],
   "source": [
    "pd.DataFrame({'submission' : pred}).to_csv('regression_submission.csv', index = False)"
   ]
  },
  {
   "cell_type": "code",
   "execution_count": 27,
   "id": "f0864638",
   "metadata": {},
   "outputs": [
    {
     "data": {
      "text/html": [
       "<div>\n",
       "<style scoped>\n",
       "    .dataframe tbody tr th:only-of-type {\n",
       "        vertical-align: middle;\n",
       "    }\n",
       "\n",
       "    .dataframe tbody tr th {\n",
       "        vertical-align: top;\n",
       "    }\n",
       "\n",
       "    .dataframe thead th {\n",
       "        text-align: right;\n",
       "    }\n",
       "</style>\n",
       "<table border=\"1\" class=\"dataframe\">\n",
       "  <thead>\n",
       "    <tr style=\"text-align: right;\">\n",
       "      <th></th>\n",
       "      <th>submission</th>\n",
       "    </tr>\n",
       "  </thead>\n",
       "  <tbody>\n",
       "    <tr>\n",
       "      <th>0</th>\n",
       "      <td>1710.98</td>\n",
       "    </tr>\n",
       "    <tr>\n",
       "      <th>1</th>\n",
       "      <td>2544.75</td>\n",
       "    </tr>\n",
       "    <tr>\n",
       "      <th>2</th>\n",
       "      <td>2144.03</td>\n",
       "    </tr>\n",
       "    <tr>\n",
       "      <th>3</th>\n",
       "      <td>2147.14</td>\n",
       "    </tr>\n",
       "    <tr>\n",
       "      <th>4</th>\n",
       "      <td>2285.75</td>\n",
       "    </tr>\n",
       "    <tr>\n",
       "      <th>...</th>\n",
       "      <td>...</td>\n",
       "    </tr>\n",
       "    <tr>\n",
       "      <th>995</th>\n",
       "      <td>2113.52</td>\n",
       "    </tr>\n",
       "    <tr>\n",
       "      <th>996</th>\n",
       "      <td>2186.91</td>\n",
       "    </tr>\n",
       "    <tr>\n",
       "      <th>997</th>\n",
       "      <td>2464.80</td>\n",
       "    </tr>\n",
       "    <tr>\n",
       "      <th>998</th>\n",
       "      <td>2418.25</td>\n",
       "    </tr>\n",
       "    <tr>\n",
       "      <th>999</th>\n",
       "      <td>2257.56</td>\n",
       "    </tr>\n",
       "  </tbody>\n",
       "</table>\n",
       "<p>1000 rows × 1 columns</p>\n",
       "</div>"
      ],
      "text/plain": [
       "     submission\n",
       "0       1710.98\n",
       "1       2544.75\n",
       "2       2144.03\n",
       "3       2147.14\n",
       "4       2285.75\n",
       "..          ...\n",
       "995     2113.52\n",
       "996     2186.91\n",
       "997     2464.80\n",
       "998     2418.25\n",
       "999     2257.56\n",
       "\n",
       "[1000 rows x 1 columns]"
      ]
     },
     "execution_count": 27,
     "metadata": {},
     "output_type": "execute_result"
    }
   ],
   "source": [
    "df = pd.read_csv('./regression_submission.csv')\n",
    "df"
   ]
  },
  {
   "cell_type": "code",
   "execution_count": null,
   "id": "45036369",
   "metadata": {},
   "outputs": [],
   "source": []
  }
 ],
 "metadata": {
  "kernelspec": {
   "display_name": "Python 3",
   "language": "python",
   "name": "python3"
  },
  "language_info": {
   "codemirror_mode": {
    "name": "ipython",
    "version": 3
   },
   "file_extension": ".py",
   "mimetype": "text/x-python",
   "name": "python",
   "nbconvert_exporter": "python",
   "pygments_lexer": "ipython3",
   "version": "3.9.5"
  }
 },
 "nbformat": 4,
 "nbformat_minor": 5
}
