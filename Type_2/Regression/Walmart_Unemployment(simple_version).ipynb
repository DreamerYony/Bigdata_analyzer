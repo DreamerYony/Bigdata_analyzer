{
 "cells": [
  {
   "cell_type": "markdown",
   "id": "dae8f0fc",
   "metadata": {},
   "source": [
    "# 🧩 월마트 실업률 예측 모델링 (회귀 과제)\n",
    "- 빅데이터 분석기사 실기 연습을 위해 제가 만든 자료입니다.\n",
    "- 데이터셋은 kaggle의 데이터셋을 제가 다시 가공한 뒤 X_train, y_train, X_test로 분리하였습니다. 또한 파생 변수를 추출하여 컬럼으로 만들었습니다. 원본 데이터셋은 다음의 주소에서 확인하실 수 있습니다 : https://www.kaggle.com/datasets/yasserh/walmart-dataset"
   ]
  },
  {
   "cell_type": "markdown",
   "id": "b281a9e0",
   "metadata": {},
   "source": [
    "### 🧩 문제\n",
    "- 주어진 학습용 데이터 x_train.csv를 활용하여 실업률(Unemployment)를 예측하는 모형을 만들고, 평가용 데이터 x_test.csv에 적용하여 실업률을 예측하여 csv 파일로 생성하시오.(평가 지표는 rmse)"
   ]
  },
  {
   "cell_type": "markdown",
   "id": "aa0259ae",
   "metadata": {},
   "source": [
    "### 🧩 힌트\n",
    "- 평가지표 rmse로 보아 회귀 과제임을 알 수 있습니다.\n",
    "- 회귀과제에서는 predict_proba가 아닌 predict가 사용됩니다. predict_proba는 어떠한 클래스에 속할 확률값을 구하는 데 주로 사용되기 때문에 분류 과제에서 사용됩니다. 하지만 회귀 과제는 연속형 변수를 예측해야 하기 때문에 predict를 사용합니다."
   ]
  },
  {
   "cell_type": "markdown",
   "id": "4126840a",
   "metadata": {},
   "source": [
    "# 1. 필요한 패키지 불러오기\n",
    "- 기본 패키지를 불러옵니다."
   ]
  },
  {
   "cell_type": "code",
   "execution_count": 1,
   "id": "cd770319",
   "metadata": {},
   "outputs": [],
   "source": [
    "import pandas as pd\n",
    "import numpy as np\n",
    "import warnings\n",
    "\n",
    "warnings.filterwarnings('ignore')"
   ]
  },
  {
   "cell_type": "markdown",
   "id": "8f04f3e7",
   "metadata": {},
   "source": [
    "# 2. 데이터 파일 읽어오기"
   ]
  },
  {
   "cell_type": "code",
   "execution_count": 2,
   "id": "5d29658f",
   "metadata": {},
   "outputs": [],
   "source": [
    "x_train = pd.read_csv('./Walmart_x_train.csv')\n",
    "x_test = pd.read_csv('./Walmart_x_test.csv')\n",
    "y_train = pd.read_csv('./Walmart_y_train.csv')"
   ]
  },
  {
   "cell_type": "code",
   "execution_count": 3,
   "id": "e21a7c26",
   "metadata": {},
   "outputs": [
    {
     "data": {
      "text/html": [
       "<div>\n",
       "<style scoped>\n",
       "    .dataframe tbody tr th:only-of-type {\n",
       "        vertical-align: middle;\n",
       "    }\n",
       "\n",
       "    .dataframe tbody tr th {\n",
       "        vertical-align: top;\n",
       "    }\n",
       "\n",
       "    .dataframe thead th {\n",
       "        text-align: right;\n",
       "    }\n",
       "</style>\n",
       "<table border=\"1\" class=\"dataframe\">\n",
       "  <thead>\n",
       "    <tr style=\"text-align: right;\">\n",
       "      <th></th>\n",
       "      <th>wal_id</th>\n",
       "      <th>Store</th>\n",
       "      <th>Weekly_Sales</th>\n",
       "      <th>Holiday_Flag</th>\n",
       "      <th>Temperature</th>\n",
       "      <th>Fuel_Price</th>\n",
       "      <th>CPI</th>\n",
       "      <th>Year</th>\n",
       "      <th>Month</th>\n",
       "    </tr>\n",
       "  </thead>\n",
       "  <tbody>\n",
       "    <tr>\n",
       "      <th>0</th>\n",
       "      <td>3855</td>\n",
       "      <td>27</td>\n",
       "      <td>1557485.75</td>\n",
       "      <td>0</td>\n",
       "      <td>66.1</td>\n",
       "      <td>4.203</td>\n",
       "      <td>142.679817</td>\n",
       "      <td>2012</td>\n",
       "      <td>9</td>\n",
       "    </tr>\n",
       "  </tbody>\n",
       "</table>\n",
       "</div>"
      ],
      "text/plain": [
       "   wal_id  Store  Weekly_Sales  Holiday_Flag  Temperature  Fuel_Price  \\\n",
       "0    3855     27    1557485.75             0         66.1       4.203   \n",
       "\n",
       "          CPI  Year  Month  \n",
       "0  142.679817  2012      9  "
      ]
     },
     "execution_count": 3,
     "metadata": {},
     "output_type": "execute_result"
    }
   ],
   "source": [
    "x_train.head(1)"
   ]
  },
  {
   "cell_type": "code",
   "execution_count": 4,
   "id": "d5cb4e64",
   "metadata": {},
   "outputs": [
    {
     "data": {
      "text/html": [
       "<div>\n",
       "<style scoped>\n",
       "    .dataframe tbody tr th:only-of-type {\n",
       "        vertical-align: middle;\n",
       "    }\n",
       "\n",
       "    .dataframe tbody tr th {\n",
       "        vertical-align: top;\n",
       "    }\n",
       "\n",
       "    .dataframe thead th {\n",
       "        text-align: right;\n",
       "    }\n",
       "</style>\n",
       "<table border=\"1\" class=\"dataframe\">\n",
       "  <thead>\n",
       "    <tr style=\"text-align: right;\">\n",
       "      <th></th>\n",
       "      <th>wal_id</th>\n",
       "      <th>Store</th>\n",
       "      <th>Weekly_Sales</th>\n",
       "      <th>Holiday_Flag</th>\n",
       "      <th>Temperature</th>\n",
       "      <th>Fuel_Price</th>\n",
       "      <th>CPI</th>\n",
       "      <th>Year</th>\n",
       "      <th>Month</th>\n",
       "    </tr>\n",
       "  </thead>\n",
       "  <tbody>\n",
       "    <tr>\n",
       "      <th>0</th>\n",
       "      <td>122</td>\n",
       "      <td>1</td>\n",
       "      <td>1697230.96</td>\n",
       "      <td>0</td>\n",
       "      <td>78.3</td>\n",
       "      <td>3.452</td>\n",
       "      <td>221.749484</td>\n",
       "      <td>2012</td>\n",
       "      <td>6</td>\n",
       "    </tr>\n",
       "  </tbody>\n",
       "</table>\n",
       "</div>"
      ],
      "text/plain": [
       "   wal_id  Store  Weekly_Sales  Holiday_Flag  Temperature  Fuel_Price  \\\n",
       "0     122      1    1697230.96             0         78.3       3.452   \n",
       "\n",
       "          CPI  Year  Month  \n",
       "0  221.749484  2012      6  "
      ]
     },
     "execution_count": 4,
     "metadata": {},
     "output_type": "execute_result"
    }
   ],
   "source": [
    "x_test.head(1)"
   ]
  },
  {
   "cell_type": "code",
   "execution_count": 5,
   "id": "5f5a5a2f",
   "metadata": {},
   "outputs": [
    {
     "data": {
      "text/html": [
       "<div>\n",
       "<style scoped>\n",
       "    .dataframe tbody tr th:only-of-type {\n",
       "        vertical-align: middle;\n",
       "    }\n",
       "\n",
       "    .dataframe tbody tr th {\n",
       "        vertical-align: top;\n",
       "    }\n",
       "\n",
       "    .dataframe thead th {\n",
       "        text-align: right;\n",
       "    }\n",
       "</style>\n",
       "<table border=\"1\" class=\"dataframe\">\n",
       "  <thead>\n",
       "    <tr style=\"text-align: right;\">\n",
       "      <th></th>\n",
       "      <th>wal_id</th>\n",
       "      <th>Unemployment</th>\n",
       "    </tr>\n",
       "  </thead>\n",
       "  <tbody>\n",
       "    <tr>\n",
       "      <th>0</th>\n",
       "      <td>3855</td>\n",
       "      <td>8.239</td>\n",
       "    </tr>\n",
       "  </tbody>\n",
       "</table>\n",
       "</div>"
      ],
      "text/plain": [
       "   wal_id  Unemployment\n",
       "0    3855         8.239"
      ]
     },
     "execution_count": 5,
     "metadata": {},
     "output_type": "execute_result"
    }
   ],
   "source": [
    "y_train.head(1)"
   ]
  },
  {
   "cell_type": "markdown",
   "id": "f083c806",
   "metadata": {},
   "source": [
    "- 💦 시험에서는 x_test 고유의 id를 사용하여 예측값을 파일로 제출하라는 형식을 요구할 것입니다. 그 형식에 맞게 테스트셋의 고유 id인 wal_id를 미리 복사하여 저장합니다."
   ]
  },
  {
   "cell_type": "code",
   "execution_count": 6,
   "id": "3671ad2e",
   "metadata": {},
   "outputs": [],
   "source": [
    "wal_id = x_test['wal_id'].copy()"
   ]
  },
  {
   "cell_type": "markdown",
   "id": "01e6b32d",
   "metadata": {},
   "source": [
    "- wal_id 컬럼은 모델 학습에는 필요하지 않으므로 drop() 처리합니다. "
   ]
  },
  {
   "cell_type": "code",
   "execution_count": 7,
   "id": "9629abbe",
   "metadata": {},
   "outputs": [],
   "source": [
    "x_train = x_train.drop(columns = 'wal_id')\n",
    "x_test =  x_test.drop(columns = 'wal_id')\n",
    "y_train = y_train.drop(columns = 'wal_id')"
   ]
  },
  {
   "cell_type": "code",
   "execution_count": 8,
   "id": "a9dd1ce7",
   "metadata": {},
   "outputs": [
    {
     "data": {
      "text/html": [
       "<div>\n",
       "<style scoped>\n",
       "    .dataframe tbody tr th:only-of-type {\n",
       "        vertical-align: middle;\n",
       "    }\n",
       "\n",
       "    .dataframe tbody tr th {\n",
       "        vertical-align: top;\n",
       "    }\n",
       "\n",
       "    .dataframe thead th {\n",
       "        text-align: right;\n",
       "    }\n",
       "</style>\n",
       "<table border=\"1\" class=\"dataframe\">\n",
       "  <thead>\n",
       "    <tr style=\"text-align: right;\">\n",
       "      <th></th>\n",
       "      <th>Store</th>\n",
       "      <th>Weekly_Sales</th>\n",
       "      <th>Holiday_Flag</th>\n",
       "      <th>Temperature</th>\n",
       "      <th>Fuel_Price</th>\n",
       "      <th>CPI</th>\n",
       "      <th>Year</th>\n",
       "      <th>Month</th>\n",
       "    </tr>\n",
       "  </thead>\n",
       "  <tbody>\n",
       "    <tr>\n",
       "      <th>0</th>\n",
       "      <td>27</td>\n",
       "      <td>1557485.75</td>\n",
       "      <td>0</td>\n",
       "      <td>66.1</td>\n",
       "      <td>4.203</td>\n",
       "      <td>142.679817</td>\n",
       "      <td>2012</td>\n",
       "      <td>9</td>\n",
       "    </tr>\n",
       "  </tbody>\n",
       "</table>\n",
       "</div>"
      ],
      "text/plain": [
       "   Store  Weekly_Sales  Holiday_Flag  Temperature  Fuel_Price         CPI  \\\n",
       "0     27    1557485.75             0         66.1       4.203  142.679817   \n",
       "\n",
       "   Year  Month  \n",
       "0  2012      9  "
      ]
     },
     "execution_count": 8,
     "metadata": {},
     "output_type": "execute_result"
    }
   ],
   "source": [
    "x_train.head(1)"
   ]
  },
  {
   "cell_type": "code",
   "execution_count": 9,
   "id": "c20e174f",
   "metadata": {},
   "outputs": [
    {
     "data": {
      "text/html": [
       "<div>\n",
       "<style scoped>\n",
       "    .dataframe tbody tr th:only-of-type {\n",
       "        vertical-align: middle;\n",
       "    }\n",
       "\n",
       "    .dataframe tbody tr th {\n",
       "        vertical-align: top;\n",
       "    }\n",
       "\n",
       "    .dataframe thead th {\n",
       "        text-align: right;\n",
       "    }\n",
       "</style>\n",
       "<table border=\"1\" class=\"dataframe\">\n",
       "  <thead>\n",
       "    <tr style=\"text-align: right;\">\n",
       "      <th></th>\n",
       "      <th>Unemployment</th>\n",
       "    </tr>\n",
       "  </thead>\n",
       "  <tbody>\n",
       "    <tr>\n",
       "      <th>0</th>\n",
       "      <td>8.239</td>\n",
       "    </tr>\n",
       "  </tbody>\n",
       "</table>\n",
       "</div>"
      ],
      "text/plain": [
       "   Unemployment\n",
       "0         8.239"
      ]
     },
     "execution_count": 9,
     "metadata": {},
     "output_type": "execute_result"
    }
   ],
   "source": [
    "y_train.head(1)"
   ]
  },
  {
   "cell_type": "markdown",
   "id": "2dcd34a0",
   "metadata": {},
   "source": [
    "# 3. info() 함수로 기본 정보 확인하기\n",
    "- 행과 열의 수, 결측치, 데이터 유형을 확인합니다."
   ]
  },
  {
   "cell_type": "code",
   "execution_count": 10,
   "id": "1c33f4c1",
   "metadata": {},
   "outputs": [
    {
     "name": "stdout",
     "output_type": "stream",
     "text": [
      "<class 'pandas.core.frame.DataFrame'>\n",
      "RangeIndex: 5148 entries, 0 to 5147\n",
      "Data columns (total 8 columns):\n",
      " #   Column        Non-Null Count  Dtype  \n",
      "---  ------        --------------  -----  \n",
      " 0   Store         5148 non-null   int64  \n",
      " 1   Weekly_Sales  5147 non-null   float64\n",
      " 2   Holiday_Flag  5148 non-null   int64  \n",
      " 3   Temperature   5148 non-null   float64\n",
      " 4   Fuel_Price    5148 non-null   float64\n",
      " 5   CPI           5147 non-null   float64\n",
      " 6   Year          5148 non-null   int64  \n",
      " 7   Month         5148 non-null   int64  \n",
      "dtypes: float64(4), int64(4)\n",
      "memory usage: 321.9 KB\n"
     ]
    }
   ],
   "source": [
    "x_train.info()"
   ]
  },
  {
   "cell_type": "code",
   "execution_count": 11,
   "id": "ccc51c70",
   "metadata": {},
   "outputs": [
    {
     "name": "stdout",
     "output_type": "stream",
     "text": [
      "<class 'pandas.core.frame.DataFrame'>\n",
      "RangeIndex: 1287 entries, 0 to 1286\n",
      "Data columns (total 8 columns):\n",
      " #   Column        Non-Null Count  Dtype  \n",
      "---  ------        --------------  -----  \n",
      " 0   Store         1287 non-null   int64  \n",
      " 1   Weekly_Sales  1287 non-null   float64\n",
      " 2   Holiday_Flag  1287 non-null   int64  \n",
      " 3   Temperature   1287 non-null   float64\n",
      " 4   Fuel_Price    1287 non-null   float64\n",
      " 5   CPI           1287 non-null   float64\n",
      " 6   Year          1287 non-null   int64  \n",
      " 7   Month         1287 non-null   int64  \n",
      "dtypes: float64(4), int64(4)\n",
      "memory usage: 80.6 KB\n"
     ]
    }
   ],
   "source": [
    "x_test.info()"
   ]
  },
  {
   "cell_type": "code",
   "execution_count": 12,
   "id": "a0394518",
   "metadata": {},
   "outputs": [
    {
     "name": "stdout",
     "output_type": "stream",
     "text": [
      "<class 'pandas.core.frame.DataFrame'>\n",
      "RangeIndex: 5148 entries, 0 to 5147\n",
      "Data columns (total 1 columns):\n",
      " #   Column        Non-Null Count  Dtype  \n",
      "---  ------        --------------  -----  \n",
      " 0   Unemployment  5147 non-null   float64\n",
      "dtypes: float64(1)\n",
      "memory usage: 40.3 KB\n"
     ]
    }
   ],
   "source": [
    "y_train.info()"
   ]
  },
  {
   "cell_type": "markdown",
   "id": "fef99405",
   "metadata": {},
   "source": [
    "# 4. 결측치 처리\n",
    "- x_train의 Weekly_Sales 컬럼과 CPI 컬럼에 각각 1개의 결측치가 존재하고, y_train의 Unemployment 컬럼에 1개의 결측치가 존재합니다.\n",
    "- 여기서는 dropna()를 사용하여 결측치가 존재하는 모든 행을 제거하려고 합니다.\n",
    "- 💦 x_train의 인덱스와 y_train의 인덱스가 달라지지 않도록 concat한 뒤, 다시 x_train과 y_train으로 나눕니다.\n",
    "- 두 개의 데이터프레임을 concat할 때에는 axis = 1을 반드시 입력합니다."
   ]
  },
  {
   "cell_type": "code",
   "execution_count": 13,
   "id": "f6f4ba53",
   "metadata": {},
   "outputs": [
    {
     "name": "stdout",
     "output_type": "stream",
     "text": [
      "<class 'pandas.core.frame.DataFrame'>\n",
      "RangeIndex: 5148 entries, 0 to 5147\n",
      "Data columns (total 9 columns):\n",
      " #   Column        Non-Null Count  Dtype  \n",
      "---  ------        --------------  -----  \n",
      " 0   Store         5148 non-null   int64  \n",
      " 1   Weekly_Sales  5147 non-null   float64\n",
      " 2   Holiday_Flag  5148 non-null   int64  \n",
      " 3   Temperature   5148 non-null   float64\n",
      " 4   Fuel_Price    5148 non-null   float64\n",
      " 5   CPI           5147 non-null   float64\n",
      " 6   Year          5148 non-null   int64  \n",
      " 7   Month         5148 non-null   int64  \n",
      " 8   Unemployment  5147 non-null   float64\n",
      "dtypes: float64(5), int64(4)\n",
      "memory usage: 362.1 KB\n"
     ]
    }
   ],
   "source": [
    "train = pd.concat([x_train, y_train], axis = 1)\n",
    "train.info()"
   ]
  },
  {
   "cell_type": "code",
   "execution_count": 14,
   "id": "572ba695",
   "metadata": {},
   "outputs": [
    {
     "data": {
      "text/html": [
       "<div>\n",
       "<style scoped>\n",
       "    .dataframe tbody tr th:only-of-type {\n",
       "        vertical-align: middle;\n",
       "    }\n",
       "\n",
       "    .dataframe tbody tr th {\n",
       "        vertical-align: top;\n",
       "    }\n",
       "\n",
       "    .dataframe thead th {\n",
       "        text-align: right;\n",
       "    }\n",
       "</style>\n",
       "<table border=\"1\" class=\"dataframe\">\n",
       "  <thead>\n",
       "    <tr style=\"text-align: right;\">\n",
       "      <th></th>\n",
       "      <th>Store</th>\n",
       "      <th>Weekly_Sales</th>\n",
       "      <th>Holiday_Flag</th>\n",
       "      <th>Temperature</th>\n",
       "      <th>Fuel_Price</th>\n",
       "      <th>CPI</th>\n",
       "      <th>Year</th>\n",
       "      <th>Month</th>\n",
       "      <th>Unemployment</th>\n",
       "    </tr>\n",
       "  </thead>\n",
       "  <tbody>\n",
       "    <tr>\n",
       "      <th>0</th>\n",
       "      <td>27</td>\n",
       "      <td>1557485.75</td>\n",
       "      <td>0</td>\n",
       "      <td>66.10</td>\n",
       "      <td>4.203</td>\n",
       "      <td>142.679817</td>\n",
       "      <td>2012</td>\n",
       "      <td>9</td>\n",
       "      <td>8.239</td>\n",
       "    </tr>\n",
       "    <tr>\n",
       "      <th>1</th>\n",
       "      <td>32</td>\n",
       "      <td>1185391.96</td>\n",
       "      <td>0</td>\n",
       "      <td>42.76</td>\n",
       "      <td>3.550</td>\n",
       "      <td>195.331898</td>\n",
       "      <td>2011</td>\n",
       "      <td>10</td>\n",
       "      <td>8.513</td>\n",
       "    </tr>\n",
       "    <tr>\n",
       "      <th>2</th>\n",
       "      <td>6</td>\n",
       "      <td>1524390.07</td>\n",
       "      <td>0</td>\n",
       "      <td>63.89</td>\n",
       "      <td>3.308</td>\n",
       "      <td>219.789714</td>\n",
       "      <td>2011</td>\n",
       "      <td>11</td>\n",
       "      <td>6.551</td>\n",
       "    </tr>\n",
       "    <tr>\n",
       "      <th>3</th>\n",
       "      <td>32</td>\n",
       "      <td>1129422.86</td>\n",
       "      <td>1</td>\n",
       "      <td>23.34</td>\n",
       "      <td>3.103</td>\n",
       "      <td>196.919506</td>\n",
       "      <td>2012</td>\n",
       "      <td>2</td>\n",
       "      <td>8.256</td>\n",
       "    </tr>\n",
       "    <tr>\n",
       "      <th>6</th>\n",
       "      <td>26</td>\n",
       "      <td>889670.29</td>\n",
       "      <td>0</td>\n",
       "      <td>36.90</td>\n",
       "      <td>4.025</td>\n",
       "      <td>137.868000</td>\n",
       "      <td>2012</td>\n",
       "      <td>4</td>\n",
       "      <td>7.489</td>\n",
       "    </tr>\n",
       "    <tr>\n",
       "      <th>...</th>\n",
       "      <td>...</td>\n",
       "      <td>...</td>\n",
       "      <td>...</td>\n",
       "      <td>...</td>\n",
       "      <td>...</td>\n",
       "      <td>...</td>\n",
       "      <td>...</td>\n",
       "      <td>...</td>\n",
       "      <td>...</td>\n",
       "    </tr>\n",
       "    <tr>\n",
       "      <th>5143</th>\n",
       "      <td>41</td>\n",
       "      <td>1560590.05</td>\n",
       "      <td>0</td>\n",
       "      <td>65.77</td>\n",
       "      <td>3.545</td>\n",
       "      <td>198.100106</td>\n",
       "      <td>2012</td>\n",
       "      <td>8</td>\n",
       "      <td>6.432</td>\n",
       "    </tr>\n",
       "    <tr>\n",
       "      <th>5144</th>\n",
       "      <td>43</td>\n",
       "      <td>557543.62</td>\n",
       "      <td>0</td>\n",
       "      <td>44.56</td>\n",
       "      <td>2.708</td>\n",
       "      <td>203.571429</td>\n",
       "      <td>2010</td>\n",
       "      <td>12</td>\n",
       "      <td>10.210</td>\n",
       "    </tr>\n",
       "    <tr>\n",
       "      <th>5145</th>\n",
       "      <td>20</td>\n",
       "      <td>1910177.38</td>\n",
       "      <td>0</td>\n",
       "      <td>74.57</td>\n",
       "      <td>2.784</td>\n",
       "      <td>204.729325</td>\n",
       "      <td>2010</td>\n",
       "      <td>8</td>\n",
       "      <td>7.527</td>\n",
       "    </tr>\n",
       "    <tr>\n",
       "      <th>5146</th>\n",
       "      <td>40</td>\n",
       "      <td>943237.12</td>\n",
       "      <td>0</td>\n",
       "      <td>64.05</td>\n",
       "      <td>3.820</td>\n",
       "      <td>136.183129</td>\n",
       "      <td>2011</td>\n",
       "      <td>8</td>\n",
       "      <td>4.584</td>\n",
       "    </tr>\n",
       "    <tr>\n",
       "      <th>5147</th>\n",
       "      <td>35</td>\n",
       "      <td>811328.40</td>\n",
       "      <td>0</td>\n",
       "      <td>59.62</td>\n",
       "      <td>3.570</td>\n",
       "      <td>140.461605</td>\n",
       "      <td>2011</td>\n",
       "      <td>10</td>\n",
       "      <td>8.745</td>\n",
       "    </tr>\n",
       "  </tbody>\n",
       "</table>\n",
       "<p>5146 rows × 9 columns</p>\n",
       "</div>"
      ],
      "text/plain": [
       "      Store  Weekly_Sales  Holiday_Flag  Temperature  Fuel_Price         CPI  \\\n",
       "0        27    1557485.75             0        66.10       4.203  142.679817   \n",
       "1        32    1185391.96             0        42.76       3.550  195.331898   \n",
       "2         6    1524390.07             0        63.89       3.308  219.789714   \n",
       "3        32    1129422.86             1        23.34       3.103  196.919506   \n",
       "6        26     889670.29             0        36.90       4.025  137.868000   \n",
       "...     ...           ...           ...          ...         ...         ...   \n",
       "5143     41    1560590.05             0        65.77       3.545  198.100106   \n",
       "5144     43     557543.62             0        44.56       2.708  203.571429   \n",
       "5145     20    1910177.38             0        74.57       2.784  204.729325   \n",
       "5146     40     943237.12             0        64.05       3.820  136.183129   \n",
       "5147     35     811328.40             0        59.62       3.570  140.461605   \n",
       "\n",
       "      Year  Month  Unemployment  \n",
       "0     2012      9         8.239  \n",
       "1     2011     10         8.513  \n",
       "2     2011     11         6.551  \n",
       "3     2012      2         8.256  \n",
       "6     2012      4         7.489  \n",
       "...    ...    ...           ...  \n",
       "5143  2012      8         6.432  \n",
       "5144  2010     12        10.210  \n",
       "5145  2010      8         7.527  \n",
       "5146  2011      8         4.584  \n",
       "5147  2011     10         8.745  \n",
       "\n",
       "[5146 rows x 9 columns]"
      ]
     },
     "execution_count": 14,
     "metadata": {},
     "output_type": "execute_result"
    }
   ],
   "source": [
    "train = train.dropna()\n",
    "train"
   ]
  },
  {
   "cell_type": "code",
   "execution_count": 15,
   "id": "77f9fa94",
   "metadata": {},
   "outputs": [],
   "source": [
    "x_train = train[['Store', 'Weekly_Sales', 'Holiday_Flag', 'Temperature', 'Fuel_Price', 'CPI', 'Year', 'Month']]\n",
    "y_train = train[['Unemployment']]"
   ]
  },
  {
   "cell_type": "markdown",
   "id": "9e601993",
   "metadata": {},
   "source": [
    "# 5. describe() 함수로 요약 통계량 확인\n",
    "- 이상치가 있는지 확인합니다."
   ]
  },
  {
   "cell_type": "code",
   "execution_count": 16,
   "id": "e305ea1d",
   "metadata": {},
   "outputs": [
    {
     "data": {
      "text/html": [
       "<div>\n",
       "<style scoped>\n",
       "    .dataframe tbody tr th:only-of-type {\n",
       "        vertical-align: middle;\n",
       "    }\n",
       "\n",
       "    .dataframe tbody tr th {\n",
       "        vertical-align: top;\n",
       "    }\n",
       "\n",
       "    .dataframe thead th {\n",
       "        text-align: right;\n",
       "    }\n",
       "</style>\n",
       "<table border=\"1\" class=\"dataframe\">\n",
       "  <thead>\n",
       "    <tr style=\"text-align: right;\">\n",
       "      <th></th>\n",
       "      <th>Store</th>\n",
       "      <th>Weekly_Sales</th>\n",
       "      <th>Holiday_Flag</th>\n",
       "      <th>Temperature</th>\n",
       "      <th>Fuel_Price</th>\n",
       "      <th>CPI</th>\n",
       "      <th>Year</th>\n",
       "      <th>Month</th>\n",
       "    </tr>\n",
       "  </thead>\n",
       "  <tbody>\n",
       "    <tr>\n",
       "      <th>count</th>\n",
       "      <td>5146.000000</td>\n",
       "      <td>5.146000e+03</td>\n",
       "      <td>5146.000000</td>\n",
       "      <td>5146.000000</td>\n",
       "      <td>5146.000000</td>\n",
       "      <td>5146.000000</td>\n",
       "      <td>5146.000000</td>\n",
       "      <td>5146.000000</td>\n",
       "    </tr>\n",
       "    <tr>\n",
       "      <th>mean</th>\n",
       "      <td>23.005441</td>\n",
       "      <td>1.041722e+06</td>\n",
       "      <td>0.072095</td>\n",
       "      <td>60.694267</td>\n",
       "      <td>3.351968</td>\n",
       "      <td>171.544773</td>\n",
       "      <td>2010.960358</td>\n",
       "      <td>6.445783</td>\n",
       "    </tr>\n",
       "    <tr>\n",
       "      <th>std</th>\n",
       "      <td>13.040058</td>\n",
       "      <td>5.647160e+05</td>\n",
       "      <td>0.258670</td>\n",
       "      <td>18.487510</td>\n",
       "      <td>0.458683</td>\n",
       "      <td>39.400615</td>\n",
       "      <td>0.798676</td>\n",
       "      <td>3.244353</td>\n",
       "    </tr>\n",
       "    <tr>\n",
       "      <th>min</th>\n",
       "      <td>1.000000</td>\n",
       "      <td>2.099862e+05</td>\n",
       "      <td>0.000000</td>\n",
       "      <td>-2.060000</td>\n",
       "      <td>2.472000</td>\n",
       "      <td>126.064000</td>\n",
       "      <td>2010.000000</td>\n",
       "      <td>1.000000</td>\n",
       "    </tr>\n",
       "    <tr>\n",
       "      <th>25%</th>\n",
       "      <td>12.000000</td>\n",
       "      <td>5.456197e+05</td>\n",
       "      <td>0.000000</td>\n",
       "      <td>47.510000</td>\n",
       "      <td>2.921500</td>\n",
       "      <td>131.586613</td>\n",
       "      <td>2010.000000</td>\n",
       "      <td>4.000000</td>\n",
       "    </tr>\n",
       "    <tr>\n",
       "      <th>50%</th>\n",
       "      <td>23.000000</td>\n",
       "      <td>9.571723e+05</td>\n",
       "      <td>0.000000</td>\n",
       "      <td>62.960000</td>\n",
       "      <td>3.433000</td>\n",
       "      <td>182.619515</td>\n",
       "      <td>2011.000000</td>\n",
       "      <td>6.000000</td>\n",
       "    </tr>\n",
       "    <tr>\n",
       "      <th>75%</th>\n",
       "      <td>34.000000</td>\n",
       "      <td>1.419281e+06</td>\n",
       "      <td>0.000000</td>\n",
       "      <td>74.945000</td>\n",
       "      <td>3.730000</td>\n",
       "      <td>212.728547</td>\n",
       "      <td>2012.000000</td>\n",
       "      <td>9.000000</td>\n",
       "    </tr>\n",
       "    <tr>\n",
       "      <th>max</th>\n",
       "      <td>45.000000</td>\n",
       "      <td>3.818686e+06</td>\n",
       "      <td>1.000000</td>\n",
       "      <td>100.140000</td>\n",
       "      <td>4.468000</td>\n",
       "      <td>227.214288</td>\n",
       "      <td>2012.000000</td>\n",
       "      <td>12.000000</td>\n",
       "    </tr>\n",
       "  </tbody>\n",
       "</table>\n",
       "</div>"
      ],
      "text/plain": [
       "             Store  Weekly_Sales  Holiday_Flag  Temperature   Fuel_Price  \\\n",
       "count  5146.000000  5.146000e+03   5146.000000  5146.000000  5146.000000   \n",
       "mean     23.005441  1.041722e+06      0.072095    60.694267     3.351968   \n",
       "std      13.040058  5.647160e+05      0.258670    18.487510     0.458683   \n",
       "min       1.000000  2.099862e+05      0.000000    -2.060000     2.472000   \n",
       "25%      12.000000  5.456197e+05      0.000000    47.510000     2.921500   \n",
       "50%      23.000000  9.571723e+05      0.000000    62.960000     3.433000   \n",
       "75%      34.000000  1.419281e+06      0.000000    74.945000     3.730000   \n",
       "max      45.000000  3.818686e+06      1.000000   100.140000     4.468000   \n",
       "\n",
       "               CPI         Year        Month  \n",
       "count  5146.000000  5146.000000  5146.000000  \n",
       "mean    171.544773  2010.960358     6.445783  \n",
       "std      39.400615     0.798676     3.244353  \n",
       "min     126.064000  2010.000000     1.000000  \n",
       "25%     131.586613  2010.000000     4.000000  \n",
       "50%     182.619515  2011.000000     6.000000  \n",
       "75%     212.728547  2012.000000     9.000000  \n",
       "max     227.214288  2012.000000    12.000000  "
      ]
     },
     "execution_count": 16,
     "metadata": {},
     "output_type": "execute_result"
    }
   ],
   "source": [
    "x_train.describe()"
   ]
  },
  {
   "cell_type": "code",
   "execution_count": 17,
   "id": "b4386f87",
   "metadata": {},
   "outputs": [
    {
     "data": {
      "text/html": [
       "<div>\n",
       "<style scoped>\n",
       "    .dataframe tbody tr th:only-of-type {\n",
       "        vertical-align: middle;\n",
       "    }\n",
       "\n",
       "    .dataframe tbody tr th {\n",
       "        vertical-align: top;\n",
       "    }\n",
       "\n",
       "    .dataframe thead th {\n",
       "        text-align: right;\n",
       "    }\n",
       "</style>\n",
       "<table border=\"1\" class=\"dataframe\">\n",
       "  <thead>\n",
       "    <tr style=\"text-align: right;\">\n",
       "      <th></th>\n",
       "      <th>Store</th>\n",
       "      <th>Weekly_Sales</th>\n",
       "      <th>Holiday_Flag</th>\n",
       "      <th>Temperature</th>\n",
       "      <th>Fuel_Price</th>\n",
       "      <th>CPI</th>\n",
       "      <th>Year</th>\n",
       "      <th>Month</th>\n",
       "    </tr>\n",
       "  </thead>\n",
       "  <tbody>\n",
       "    <tr>\n",
       "      <th>count</th>\n",
       "      <td>1287.000000</td>\n",
       "      <td>1.287000e+03</td>\n",
       "      <td>1287.000000</td>\n",
       "      <td>1287.000000</td>\n",
       "      <td>1287.000000</td>\n",
       "      <td>1287.000000</td>\n",
       "      <td>1287.000000</td>\n",
       "      <td>1287.000000</td>\n",
       "    </tr>\n",
       "    <tr>\n",
       "      <th>mean</th>\n",
       "      <td>22.977467</td>\n",
       "      <td>1.068809e+06</td>\n",
       "      <td>0.061383</td>\n",
       "      <td>60.528928</td>\n",
       "      <td>3.384134</td>\n",
       "      <td>171.709918</td>\n",
       "      <td>2010.982906</td>\n",
       "      <td>6.458430</td>\n",
       "    </tr>\n",
       "    <tr>\n",
       "      <th>std</th>\n",
       "      <td>12.773062</td>\n",
       "      <td>5.626198e+05</td>\n",
       "      <td>0.240125</td>\n",
       "      <td>18.291357</td>\n",
       "      <td>0.459153</td>\n",
       "      <td>39.190642</td>\n",
       "      <td>0.790507</td>\n",
       "      <td>3.216347</td>\n",
       "    </tr>\n",
       "    <tr>\n",
       "      <th>min</th>\n",
       "      <td>1.000000</td>\n",
       "      <td>2.200604e+05</td>\n",
       "      <td>0.000000</td>\n",
       "      <td>7.460000</td>\n",
       "      <td>2.514000</td>\n",
       "      <td>126.064000</td>\n",
       "      <td>2010.000000</td>\n",
       "      <td>1.000000</td>\n",
       "    </tr>\n",
       "    <tr>\n",
       "      <th>25%</th>\n",
       "      <td>12.000000</td>\n",
       "      <td>5.838246e+05</td>\n",
       "      <td>0.000000</td>\n",
       "      <td>47.265000</td>\n",
       "      <td>2.952000</td>\n",
       "      <td>132.485467</td>\n",
       "      <td>2010.000000</td>\n",
       "      <td>4.000000</td>\n",
       "    </tr>\n",
       "    <tr>\n",
       "      <th>50%</th>\n",
       "      <td>23.000000</td>\n",
       "      <td>9.724054e+05</td>\n",
       "      <td>0.000000</td>\n",
       "      <td>61.700000</td>\n",
       "      <td>3.488000</td>\n",
       "      <td>182.598306</td>\n",
       "      <td>2011.000000</td>\n",
       "      <td>6.000000</td>\n",
       "    </tr>\n",
       "    <tr>\n",
       "      <th>75%</th>\n",
       "      <td>34.000000</td>\n",
       "      <td>1.422766e+06</td>\n",
       "      <td>0.000000</td>\n",
       "      <td>74.950000</td>\n",
       "      <td>3.763500</td>\n",
       "      <td>212.847386</td>\n",
       "      <td>2012.000000</td>\n",
       "      <td>9.000000</td>\n",
       "    </tr>\n",
       "    <tr>\n",
       "      <th>max</th>\n",
       "      <td>45.000000</td>\n",
       "      <td>3.766687e+06</td>\n",
       "      <td>1.000000</td>\n",
       "      <td>99.660000</td>\n",
       "      <td>4.468000</td>\n",
       "      <td>227.232807</td>\n",
       "      <td>2012.000000</td>\n",
       "      <td>12.000000</td>\n",
       "    </tr>\n",
       "  </tbody>\n",
       "</table>\n",
       "</div>"
      ],
      "text/plain": [
       "             Store  Weekly_Sales  Holiday_Flag  Temperature   Fuel_Price  \\\n",
       "count  1287.000000  1.287000e+03   1287.000000  1287.000000  1287.000000   \n",
       "mean     22.977467  1.068809e+06      0.061383    60.528928     3.384134   \n",
       "std      12.773062  5.626198e+05      0.240125    18.291357     0.459153   \n",
       "min       1.000000  2.200604e+05      0.000000     7.460000     2.514000   \n",
       "25%      12.000000  5.838246e+05      0.000000    47.265000     2.952000   \n",
       "50%      23.000000  9.724054e+05      0.000000    61.700000     3.488000   \n",
       "75%      34.000000  1.422766e+06      0.000000    74.950000     3.763500   \n",
       "max      45.000000  3.766687e+06      1.000000    99.660000     4.468000   \n",
       "\n",
       "               CPI         Year        Month  \n",
       "count  1287.000000  1287.000000  1287.000000  \n",
       "mean    171.709918  2010.982906     6.458430  \n",
       "std      39.190642     0.790507     3.216347  \n",
       "min     126.064000  2010.000000     1.000000  \n",
       "25%     132.485467  2010.000000     4.000000  \n",
       "50%     182.598306  2011.000000     6.000000  \n",
       "75%     212.847386  2012.000000     9.000000  \n",
       "max     227.232807  2012.000000    12.000000  "
      ]
     },
     "execution_count": 17,
     "metadata": {},
     "output_type": "execute_result"
    }
   ],
   "source": [
    "x_test.describe()"
   ]
  },
  {
   "cell_type": "code",
   "execution_count": 18,
   "id": "a7ae0f5f",
   "metadata": {},
   "outputs": [
    {
     "data": {
      "text/html": [
       "<div>\n",
       "<style scoped>\n",
       "    .dataframe tbody tr th:only-of-type {\n",
       "        vertical-align: middle;\n",
       "    }\n",
       "\n",
       "    .dataframe tbody tr th {\n",
       "        vertical-align: top;\n",
       "    }\n",
       "\n",
       "    .dataframe thead th {\n",
       "        text-align: right;\n",
       "    }\n",
       "</style>\n",
       "<table border=\"1\" class=\"dataframe\">\n",
       "  <thead>\n",
       "    <tr style=\"text-align: right;\">\n",
       "      <th></th>\n",
       "      <th>Unemployment</th>\n",
       "    </tr>\n",
       "  </thead>\n",
       "  <tbody>\n",
       "    <tr>\n",
       "      <th>count</th>\n",
       "      <td>5146.000000</td>\n",
       "    </tr>\n",
       "    <tr>\n",
       "      <th>mean</th>\n",
       "      <td>8.011432</td>\n",
       "    </tr>\n",
       "    <tr>\n",
       "      <th>std</th>\n",
       "      <td>1.886987</td>\n",
       "    </tr>\n",
       "    <tr>\n",
       "      <th>min</th>\n",
       "      <td>3.879000</td>\n",
       "    </tr>\n",
       "    <tr>\n",
       "      <th>25%</th>\n",
       "      <td>6.895000</td>\n",
       "    </tr>\n",
       "    <tr>\n",
       "      <th>50%</th>\n",
       "      <td>7.874000</td>\n",
       "    </tr>\n",
       "    <tr>\n",
       "      <th>75%</th>\n",
       "      <td>8.622000</td>\n",
       "    </tr>\n",
       "    <tr>\n",
       "      <th>max</th>\n",
       "      <td>14.313000</td>\n",
       "    </tr>\n",
       "  </tbody>\n",
       "</table>\n",
       "</div>"
      ],
      "text/plain": [
       "       Unemployment\n",
       "count   5146.000000\n",
       "mean       8.011432\n",
       "std        1.886987\n",
       "min        3.879000\n",
       "25%        6.895000\n",
       "50%        7.874000\n",
       "75%        8.622000\n",
       "max       14.313000"
      ]
     },
     "execution_count": 18,
     "metadata": {},
     "output_type": "execute_result"
    }
   ],
   "source": [
    "y_train.describe()"
   ]
  },
  {
   "cell_type": "markdown",
   "id": "5505a49c",
   "metadata": {},
   "source": [
    "# 6. 학습용 / 검증용 데이터셋 분리\n",
    "- 💦 회귀 과제에서는 train_test_split 함수에 stratify를 사용하지 않습니다. 각 클래스의 비율이 모델 학습에 영향을 미칠 수 있는 분류 과제와 달리, 회귀 과제는 연속형 값을 예측하는 것이므로 클래스의 비율은 고려할 필요가 없습니다."
   ]
  },
  {
   "cell_type": "code",
   "execution_count": 19,
   "id": "b0f05998",
   "metadata": {},
   "outputs": [],
   "source": [
    "from sklearn.model_selection import train_test_split\n",
    "\n",
    "x_tr, x_valid, y_tr, y_valid = train_test_split(x_train, y_train['Unemployment'], \n",
    "                                                test_size = 0.3)"
   ]
  },
  {
   "cell_type": "markdown",
   "id": "b4f19b72",
   "metadata": {},
   "source": [
    "# 7. 모델 학습\n",
    "- 분류 과제와 회귀 과제에서 모두 사용할 수 있는 랜덤 포레스트 모델을 사용합니다.\n",
    "- 회귀 과제에서는 RandomForestRegressor를 임포트하여 사용하고, 분류 과제에서는 RandomForestClassifier를 임포트하여 사용합니다."
   ]
  },
  {
   "cell_type": "code",
   "execution_count": 20,
   "id": "cbb73945",
   "metadata": {},
   "outputs": [
    {
     "data": {
      "text/plain": [
       "RandomForestRegressor()"
      ]
     },
     "execution_count": 20,
     "metadata": {},
     "output_type": "execute_result"
    }
   ],
   "source": [
    "from sklearn.ensemble import RandomForestRegressor\n",
    "\n",
    "modelRF = RandomForestRegressor()\n",
    "modelRF.fit(x_train, y_train)"
   ]
  },
  {
   "cell_type": "markdown",
   "id": "233acd66",
   "metadata": {},
   "source": [
    "# 8. 모델 평가\n",
    "- 회귀 과제이므로 predict_proba가 아닌 predict를 사용합니다.\n",
    "- 평가 지표로는 rmse를 사용합니다. rmse는 예측 값과 실제 값 간의 평균적인 차이를 나타냅니다.\n",
    "- 함께 평가 지표로 r2 score(결정 계수)가 사용됩니다. 이는 모델이 종속 변수의 변동성을 얼마나 잘 설명하는지를 나타내며, 값이 1에 가까울수록 모델의 설명력이 높다고 할 수 있습니다."
   ]
  },
  {
   "cell_type": "code",
   "execution_count": 21,
   "id": "5080ee3a",
   "metadata": {},
   "outputs": [],
   "source": [
    "y_validation = modelRF.predict(x_valid)"
   ]
  },
  {
   "cell_type": "code",
   "execution_count": 22,
   "id": "56bc4aa0",
   "metadata": {},
   "outputs": [
    {
     "name": "stdout",
     "output_type": "stream",
     "text": [
      "0.008496854821308296\n",
      "0.09217838586842522\n",
      "0.9975620375508546\n"
     ]
    }
   ],
   "source": [
    "from sklearn.metrics import mean_squared_error, r2_score\n",
    "\n",
    "mse = mean_squared_error(y_valid, y_validation)\n",
    "rmse = mean_squared_error(y_valid, y_validation, squared = False)\n",
    "r2score = r2_score(y_valid, y_validation)\n",
    "print(mse)\n",
    "print(rmse)\n",
    "print(r2score)"
   ]
  },
  {
   "cell_type": "code",
   "execution_count": 23,
   "id": "791815dd",
   "metadata": {},
   "outputs": [],
   "source": [
    "pred = modelRF.predict(x_test)"
   ]
  },
  {
   "cell_type": "code",
   "execution_count": 24,
   "id": "4f8a6d45",
   "metadata": {},
   "outputs": [
    {
     "data": {
      "text/plain": [
       "array([7.09038, 6.4939 , 9.00086, ..., 6.759  , 7.88976, 8.94594])"
      ]
     },
     "execution_count": 24,
     "metadata": {},
     "output_type": "execute_result"
    }
   ],
   "source": [
    "pred"
   ]
  },
  {
   "cell_type": "markdown",
   "id": "c8775138",
   "metadata": {},
   "source": [
    "# 9. 파일 제출"
   ]
  },
  {
   "cell_type": "code",
   "execution_count": 25,
   "id": "cdece1f9",
   "metadata": {},
   "outputs": [],
   "source": [
    "result = pd.DataFrame({'wal_id':wal_id, 'Unemployment':pred}).to_csv('walmart_submission.csv', \n",
    "                                                                       index = False)"
   ]
  },
  {
   "cell_type": "code",
   "execution_count": 26,
   "id": "922ebe79",
   "metadata": {},
   "outputs": [
    {
     "data": {
      "text/html": [
       "<div>\n",
       "<style scoped>\n",
       "    .dataframe tbody tr th:only-of-type {\n",
       "        vertical-align: middle;\n",
       "    }\n",
       "\n",
       "    .dataframe tbody tr th {\n",
       "        vertical-align: top;\n",
       "    }\n",
       "\n",
       "    .dataframe thead th {\n",
       "        text-align: right;\n",
       "    }\n",
       "</style>\n",
       "<table border=\"1\" class=\"dataframe\">\n",
       "  <thead>\n",
       "    <tr style=\"text-align: right;\">\n",
       "      <th></th>\n",
       "      <th>wal_id</th>\n",
       "      <th>Unemployment</th>\n",
       "    </tr>\n",
       "  </thead>\n",
       "  <tbody>\n",
       "    <tr>\n",
       "      <th>0</th>\n",
       "      <td>122</td>\n",
       "      <td>7.09038</td>\n",
       "    </tr>\n",
       "    <tr>\n",
       "      <th>1</th>\n",
       "      <td>640</td>\n",
       "      <td>6.49390</td>\n",
       "    </tr>\n",
       "    <tr>\n",
       "      <th>2</th>\n",
       "      <td>4455</td>\n",
       "      <td>9.00086</td>\n",
       "    </tr>\n",
       "    <tr>\n",
       "      <th>3</th>\n",
       "      <td>4406</td>\n",
       "      <td>6.89100</td>\n",
       "    </tr>\n",
       "    <tr>\n",
       "      <th>4</th>\n",
       "      <td>276</td>\n",
       "      <td>6.61459</td>\n",
       "    </tr>\n",
       "    <tr>\n",
       "      <th>...</th>\n",
       "      <td>...</td>\n",
       "      <td>...</td>\n",
       "    </tr>\n",
       "    <tr>\n",
       "      <th>1282</th>\n",
       "      <td>1566</td>\n",
       "      <td>6.34324</td>\n",
       "    </tr>\n",
       "    <tr>\n",
       "      <th>1283</th>\n",
       "      <td>6071</td>\n",
       "      <td>10.56753</td>\n",
       "    </tr>\n",
       "    <tr>\n",
       "      <th>1284</th>\n",
       "      <td>5816</td>\n",
       "      <td>6.75900</td>\n",
       "    </tr>\n",
       "    <tr>\n",
       "      <th>1285</th>\n",
       "      <td>3449</td>\n",
       "      <td>7.88976</td>\n",
       "    </tr>\n",
       "    <tr>\n",
       "      <th>1286</th>\n",
       "      <td>5914</td>\n",
       "      <td>8.94594</td>\n",
       "    </tr>\n",
       "  </tbody>\n",
       "</table>\n",
       "<p>1287 rows × 2 columns</p>\n",
       "</div>"
      ],
      "text/plain": [
       "      wal_id  Unemployment\n",
       "0        122       7.09038\n",
       "1        640       6.49390\n",
       "2       4455       9.00086\n",
       "3       4406       6.89100\n",
       "4        276       6.61459\n",
       "...      ...           ...\n",
       "1282    1566       6.34324\n",
       "1283    6071      10.56753\n",
       "1284    5816       6.75900\n",
       "1285    3449       7.88976\n",
       "1286    5914       8.94594\n",
       "\n",
       "[1287 rows x 2 columns]"
      ]
     },
     "execution_count": 26,
     "metadata": {},
     "output_type": "execute_result"
    }
   ],
   "source": [
    "result = pd.read_csv('./walmart_submission.csv')\n",
    "result"
   ]
  }
 ],
 "metadata": {
  "kernelspec": {
   "display_name": "Python 3",
   "language": "python",
   "name": "python3"
  },
  "language_info": {
   "codemirror_mode": {
    "name": "ipython",
    "version": 3
   },
   "file_extension": ".py",
   "mimetype": "text/x-python",
   "name": "python",
   "nbconvert_exporter": "python",
   "pygments_lexer": "ipython3",
   "version": "3.9.5"
  }
 },
 "nbformat": 4,
 "nbformat_minor": 5
}
