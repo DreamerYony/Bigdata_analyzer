{
 "cells": [
  {
   "cell_type": "markdown",
   "id": "e51e76d7",
   "metadata": {},
   "source": [
    "# 💎 다이아몬드 가격 예측 Original_version"
   ]
  },
  {
   "cell_type": "markdown",
   "id": "a3f8ab79",
   "metadata": {},
   "source": [
    "- 빅데이터 분석기사 실기 연습을 위해 제가 만든 자료입니다.\n",
    "- seaborn 라이브러리에서 load_dataset을 통해 'diamonds' 데이터셋을 가져온 후, 그것을 x_train, x_test, y_train으로 직접 분리하여 만든 데이터셋입니다. 시험 제출 양식과 유사하게 만들기 위해 각 데이터의 고유한 인덱스인 'item_id'을 추가하였습니다. 원본 데이터셋은 load_dataset('diamonds')로 불러올 수 있습니다."
   ]
  },
  {
   "cell_type": "markdown",
   "id": "f5edcb21",
   "metadata": {},
   "source": [
    "### 💎 문제\n",
    "- 주어진 학습용 데이터 x_train.csv를 활용하여 가격(price)을 예측하는 모형을 만들고, 평가용 데이터 x_test.csv에 적용하여 가격을 예측하여 csv 파일로 생성하시오.(평가 지표는 rmse)"
   ]
  },
  {
   "cell_type": "markdown",
   "id": "ea4435b4",
   "metadata": {},
   "source": [
    "### 💎 힌트\n",
    "- 평가 지표로 보아 회귀 과제임을 알 수 있습니다.\n",
    "- 회귀 과제에서는 predict를 사용합니다.\n",
    "- 이 데이터셋에는 수치형 변수와 명목형 변수가 모두 존재합니다. 이에 주의하여 인코딩을 해야 합니다."
   ]
  },
  {
   "cell_type": "markdown",
   "id": "54cfcbeb",
   "metadata": {},
   "source": [
    "# 1. 패키지 불러오기"
   ]
  },
  {
   "cell_type": "code",
   "execution_count": 1,
   "id": "6f7901c2",
   "metadata": {},
   "outputs": [],
   "source": [
    "import pandas as pd\n",
    "import numpy as np"
   ]
  },
  {
   "cell_type": "markdown",
   "id": "14fc1bc5",
   "metadata": {},
   "source": [
    "# 2. 데이터 읽어오기"
   ]
  },
  {
   "cell_type": "code",
   "execution_count": 2,
   "id": "1c7ba8ef",
   "metadata": {},
   "outputs": [],
   "source": [
    "x_test = pd.read_csv('./Diamond_x_test.csv')\n",
    "x_train = pd.read_csv('./Diamond_x_train.csv')\n",
    "y_train = pd.read_csv('./Diamond_y_train.csv')"
   ]
  },
  {
   "cell_type": "code",
   "execution_count": 3,
   "id": "fd58ca87",
   "metadata": {},
   "outputs": [
    {
     "data": {
      "text/html": [
       "<div>\n",
       "<style scoped>\n",
       "    .dataframe tbody tr th:only-of-type {\n",
       "        vertical-align: middle;\n",
       "    }\n",
       "\n",
       "    .dataframe tbody tr th {\n",
       "        vertical-align: top;\n",
       "    }\n",
       "\n",
       "    .dataframe thead th {\n",
       "        text-align: right;\n",
       "    }\n",
       "</style>\n",
       "<table border=\"1\" class=\"dataframe\">\n",
       "  <thead>\n",
       "    <tr style=\"text-align: right;\">\n",
       "      <th></th>\n",
       "      <th>item_id</th>\n",
       "      <th>carat</th>\n",
       "      <th>cut</th>\n",
       "      <th>color</th>\n",
       "      <th>clarity</th>\n",
       "      <th>depth</th>\n",
       "      <th>table</th>\n",
       "      <th>x</th>\n",
       "      <th>y</th>\n",
       "      <th>z</th>\n",
       "    </tr>\n",
       "  </thead>\n",
       "  <tbody>\n",
       "    <tr>\n",
       "      <th>0</th>\n",
       "      <td>25388</td>\n",
       "      <td>2.02</td>\n",
       "      <td>Fair</td>\n",
       "      <td>H</td>\n",
       "      <td>SI2</td>\n",
       "      <td>56.5</td>\n",
       "      <td>61.0</td>\n",
       "      <td>8.33</td>\n",
       "      <td>8.37</td>\n",
       "      <td>4.72</td>\n",
       "    </tr>\n",
       "  </tbody>\n",
       "</table>\n",
       "</div>"
      ],
      "text/plain": [
       "   item_id  carat   cut color clarity  depth  table     x     y     z\n",
       "0    25388   2.02  Fair     H     SI2   56.5   61.0  8.33  8.37  4.72"
      ]
     },
     "execution_count": 3,
     "metadata": {},
     "output_type": "execute_result"
    }
   ],
   "source": [
    "x_test.head(1)"
   ]
  },
  {
   "cell_type": "code",
   "execution_count": 4,
   "id": "5dc73cbd",
   "metadata": {},
   "outputs": [
    {
     "data": {
      "text/html": [
       "<div>\n",
       "<style scoped>\n",
       "    .dataframe tbody tr th:only-of-type {\n",
       "        vertical-align: middle;\n",
       "    }\n",
       "\n",
       "    .dataframe tbody tr th {\n",
       "        vertical-align: top;\n",
       "    }\n",
       "\n",
       "    .dataframe thead th {\n",
       "        text-align: right;\n",
       "    }\n",
       "</style>\n",
       "<table border=\"1\" class=\"dataframe\">\n",
       "  <thead>\n",
       "    <tr style=\"text-align: right;\">\n",
       "      <th></th>\n",
       "      <th>item_id</th>\n",
       "      <th>carat</th>\n",
       "      <th>cut</th>\n",
       "      <th>color</th>\n",
       "      <th>clarity</th>\n",
       "      <th>depth</th>\n",
       "      <th>table</th>\n",
       "      <th>x</th>\n",
       "      <th>y</th>\n",
       "      <th>z</th>\n",
       "    </tr>\n",
       "  </thead>\n",
       "  <tbody>\n",
       "    <tr>\n",
       "      <th>0</th>\n",
       "      <td>48240</td>\n",
       "      <td>0.86</td>\n",
       "      <td>Very Good</td>\n",
       "      <td>J</td>\n",
       "      <td>SI2</td>\n",
       "      <td>63.2</td>\n",
       "      <td>61.0</td>\n",
       "      <td>6.05</td>\n",
       "      <td>5.97</td>\n",
       "      <td>3.79</td>\n",
       "    </tr>\n",
       "  </tbody>\n",
       "</table>\n",
       "</div>"
      ],
      "text/plain": [
       "   item_id  carat        cut color clarity  depth  table     x     y     z\n",
       "0    48240   0.86  Very Good     J     SI2   63.2   61.0  6.05  5.97  3.79"
      ]
     },
     "execution_count": 4,
     "metadata": {},
     "output_type": "execute_result"
    }
   ],
   "source": [
    "x_train.head(1)"
   ]
  },
  {
   "cell_type": "code",
   "execution_count": 5,
   "id": "44df1817",
   "metadata": {},
   "outputs": [
    {
     "data": {
      "text/html": [
       "<div>\n",
       "<style scoped>\n",
       "    .dataframe tbody tr th:only-of-type {\n",
       "        vertical-align: middle;\n",
       "    }\n",
       "\n",
       "    .dataframe tbody tr th {\n",
       "        vertical-align: top;\n",
       "    }\n",
       "\n",
       "    .dataframe thead th {\n",
       "        text-align: right;\n",
       "    }\n",
       "</style>\n",
       "<table border=\"1\" class=\"dataframe\">\n",
       "  <thead>\n",
       "    <tr style=\"text-align: right;\">\n",
       "      <th></th>\n",
       "      <th>item_id</th>\n",
       "      <th>price</th>\n",
       "    </tr>\n",
       "  </thead>\n",
       "  <tbody>\n",
       "    <tr>\n",
       "      <th>0</th>\n",
       "      <td>48240</td>\n",
       "      <td>1950</td>\n",
       "    </tr>\n",
       "  </tbody>\n",
       "</table>\n",
       "</div>"
      ],
      "text/plain": [
       "   item_id  price\n",
       "0    48240   1950"
      ]
     },
     "execution_count": 5,
     "metadata": {},
     "output_type": "execute_result"
    }
   ],
   "source": [
    "y_train.head(1)"
   ]
  },
  {
   "cell_type": "markdown",
   "id": "6cf63966",
   "metadata": {},
   "source": [
    "# 3. info() 함수로 기본 정보 확인하기"
   ]
  },
  {
   "cell_type": "code",
   "execution_count": 6,
   "id": "ca892032",
   "metadata": {},
   "outputs": [
    {
     "name": "stdout",
     "output_type": "stream",
     "text": [
      "<class 'pandas.core.frame.DataFrame'>\n",
      "RangeIndex: 10788 entries, 0 to 10787\n",
      "Data columns (total 10 columns):\n",
      " #   Column   Non-Null Count  Dtype  \n",
      "---  ------   --------------  -----  \n",
      " 0   item_id  10788 non-null  int64  \n",
      " 1   carat    10788 non-null  float64\n",
      " 2   cut      10788 non-null  object \n",
      " 3   color    10788 non-null  object \n",
      " 4   clarity  10788 non-null  object \n",
      " 5   depth    10788 non-null  float64\n",
      " 6   table    10788 non-null  float64\n",
      " 7   x        10788 non-null  float64\n",
      " 8   y        10788 non-null  float64\n",
      " 9   z        10788 non-null  float64\n",
      "dtypes: float64(6), int64(1), object(3)\n",
      "memory usage: 842.9+ KB\n"
     ]
    }
   ],
   "source": [
    "x_test.info()"
   ]
  },
  {
   "cell_type": "code",
   "execution_count": 7,
   "id": "76af33f2",
   "metadata": {},
   "outputs": [
    {
     "name": "stdout",
     "output_type": "stream",
     "text": [
      "<class 'pandas.core.frame.DataFrame'>\n",
      "RangeIndex: 43152 entries, 0 to 43151\n",
      "Data columns (total 10 columns):\n",
      " #   Column   Non-Null Count  Dtype  \n",
      "---  ------   --------------  -----  \n",
      " 0   item_id  43152 non-null  int64  \n",
      " 1   carat    43152 non-null  float64\n",
      " 2   cut      43152 non-null  object \n",
      " 3   color    43152 non-null  object \n",
      " 4   clarity  43152 non-null  object \n",
      " 5   depth    43152 non-null  float64\n",
      " 6   table    43152 non-null  float64\n",
      " 7   x        43152 non-null  float64\n",
      " 8   y        43152 non-null  float64\n",
      " 9   z        43152 non-null  float64\n",
      "dtypes: float64(6), int64(1), object(3)\n",
      "memory usage: 3.3+ MB\n"
     ]
    }
   ],
   "source": [
    "x_train.info()"
   ]
  },
  {
   "cell_type": "code",
   "execution_count": 8,
   "id": "100a0dc8",
   "metadata": {},
   "outputs": [
    {
     "name": "stdout",
     "output_type": "stream",
     "text": [
      "<class 'pandas.core.frame.DataFrame'>\n",
      "RangeIndex: 43152 entries, 0 to 43151\n",
      "Data columns (total 2 columns):\n",
      " #   Column   Non-Null Count  Dtype\n",
      "---  ------   --------------  -----\n",
      " 0   item_id  43152 non-null  int64\n",
      " 1   price    43152 non-null  int64\n",
      "dtypes: int64(2)\n",
      "memory usage: 674.4 KB\n"
     ]
    }
   ],
   "source": [
    "y_train.info()"
   ]
  },
  {
   "cell_type": "markdown",
   "id": "92e56618",
   "metadata": {},
   "source": [
    "- 시험에서의 파일 제출 양식을 따르기 위해 x_test에 추가했던 'item_id'을 따로 분리하여 시리즈로 저장해둡니다."
   ]
  },
  {
   "cell_type": "code",
   "execution_count": 9,
   "id": "68a9d27e",
   "metadata": {},
   "outputs": [],
   "source": [
    "item_id = x_test['item_id']\n",
    "\n",
    "x_train = x_train.drop(columns='item_id')\n",
    "x_test = x_test.drop(columns='item_id')\n",
    "y_train = y_train.drop(columns='item_id')"
   ]
  },
  {
   "cell_type": "markdown",
   "id": "4aeeef72",
   "metadata": {},
   "source": [
    "# 4. 결측치 처리\n",
    "- 이 데이터셋에는 결측치는 없으므로 이 단계는 통과합니다."
   ]
  },
  {
   "cell_type": "markdown",
   "id": "c1aaac45",
   "metadata": {},
   "source": [
    "# 5. describe() 함수로 요약 통계량 확인\n",
    "- 다른 코드 파일의 데이터셋과는 달리, 앞서 info()를 통해 이 데이터셋에는 object라는 데이터 유형이 있다는 것을 보았습니다.\n",
    "- describe()는 수치형 변수에 대하여 요약 통계량을 제시해주지만, object 유형의 컬럼은 제시하지 않습니다.\n",
    "- 💦 object 유형의 컬럼은 describe(include = 'object')로 변수를 지정해주어야 요약 통계량을 알 수 있습니다."
   ]
  },
  {
   "cell_type": "code",
   "execution_count": 10,
   "id": "e0f8b2af",
   "metadata": {},
   "outputs": [
    {
     "data": {
      "text/html": [
       "<div>\n",
       "<style scoped>\n",
       "    .dataframe tbody tr th:only-of-type {\n",
       "        vertical-align: middle;\n",
       "    }\n",
       "\n",
       "    .dataframe tbody tr th {\n",
       "        vertical-align: top;\n",
       "    }\n",
       "\n",
       "    .dataframe thead th {\n",
       "        text-align: right;\n",
       "    }\n",
       "</style>\n",
       "<table border=\"1\" class=\"dataframe\">\n",
       "  <thead>\n",
       "    <tr style=\"text-align: right;\">\n",
       "      <th></th>\n",
       "      <th>carat</th>\n",
       "      <th>depth</th>\n",
       "      <th>table</th>\n",
       "      <th>x</th>\n",
       "      <th>y</th>\n",
       "      <th>z</th>\n",
       "    </tr>\n",
       "  </thead>\n",
       "  <tbody>\n",
       "    <tr>\n",
       "      <th>count</th>\n",
       "      <td>43152.000000</td>\n",
       "      <td>43152.000000</td>\n",
       "      <td>43152.000000</td>\n",
       "      <td>43152.000000</td>\n",
       "      <td>43152.000000</td>\n",
       "      <td>43152.000000</td>\n",
       "    </tr>\n",
       "    <tr>\n",
       "      <th>mean</th>\n",
       "      <td>0.798534</td>\n",
       "      <td>61.754795</td>\n",
       "      <td>57.452181</td>\n",
       "      <td>5.731961</td>\n",
       "      <td>5.735654</td>\n",
       "      <td>3.539142</td>\n",
       "    </tr>\n",
       "    <tr>\n",
       "      <th>std</th>\n",
       "      <td>0.474879</td>\n",
       "      <td>1.429708</td>\n",
       "      <td>2.223297</td>\n",
       "      <td>1.122093</td>\n",
       "      <td>1.149875</td>\n",
       "      <td>0.695689</td>\n",
       "    </tr>\n",
       "    <tr>\n",
       "      <th>min</th>\n",
       "      <td>0.200000</td>\n",
       "      <td>43.000000</td>\n",
       "      <td>43.000000</td>\n",
       "      <td>0.000000</td>\n",
       "      <td>0.000000</td>\n",
       "      <td>0.000000</td>\n",
       "    </tr>\n",
       "    <tr>\n",
       "      <th>25%</th>\n",
       "      <td>0.400000</td>\n",
       "      <td>61.100000</td>\n",
       "      <td>56.000000</td>\n",
       "      <td>4.710000</td>\n",
       "      <td>4.720000</td>\n",
       "      <td>2.910000</td>\n",
       "    </tr>\n",
       "    <tr>\n",
       "      <th>50%</th>\n",
       "      <td>0.700000</td>\n",
       "      <td>61.800000</td>\n",
       "      <td>57.000000</td>\n",
       "      <td>5.700000</td>\n",
       "      <td>5.710000</td>\n",
       "      <td>3.530000</td>\n",
       "    </tr>\n",
       "    <tr>\n",
       "      <th>75%</th>\n",
       "      <td>1.040000</td>\n",
       "      <td>62.500000</td>\n",
       "      <td>59.000000</td>\n",
       "      <td>6.540000</td>\n",
       "      <td>6.540000</td>\n",
       "      <td>4.040000</td>\n",
       "    </tr>\n",
       "    <tr>\n",
       "      <th>max</th>\n",
       "      <td>5.010000</td>\n",
       "      <td>79.000000</td>\n",
       "      <td>95.000000</td>\n",
       "      <td>10.740000</td>\n",
       "      <td>58.900000</td>\n",
       "      <td>8.060000</td>\n",
       "    </tr>\n",
       "  </tbody>\n",
       "</table>\n",
       "</div>"
      ],
      "text/plain": [
       "              carat         depth         table             x             y  \\\n",
       "count  43152.000000  43152.000000  43152.000000  43152.000000  43152.000000   \n",
       "mean       0.798534     61.754795     57.452181      5.731961      5.735654   \n",
       "std        0.474879      1.429708      2.223297      1.122093      1.149875   \n",
       "min        0.200000     43.000000     43.000000      0.000000      0.000000   \n",
       "25%        0.400000     61.100000     56.000000      4.710000      4.720000   \n",
       "50%        0.700000     61.800000     57.000000      5.700000      5.710000   \n",
       "75%        1.040000     62.500000     59.000000      6.540000      6.540000   \n",
       "max        5.010000     79.000000     95.000000     10.740000     58.900000   \n",
       "\n",
       "                  z  \n",
       "count  43152.000000  \n",
       "mean       3.539142  \n",
       "std        0.695689  \n",
       "min        0.000000  \n",
       "25%        2.910000  \n",
       "50%        3.530000  \n",
       "75%        4.040000  \n",
       "max        8.060000  "
      ]
     },
     "execution_count": 10,
     "metadata": {},
     "output_type": "execute_result"
    }
   ],
   "source": [
    "x_train.describe()"
   ]
  },
  {
   "cell_type": "markdown",
   "id": "e29bb443",
   "metadata": {},
   "source": [
    "- 💦 일단 y 컬럼의 max값이 평균에 비해 다소 큰 것으로 보아 이상치로 판단됩니다. nlargest() 함수를 사용하여 이러한 이상치가 얼마나 있는지 확인합니다."
   ]
  },
  {
   "cell_type": "code",
   "execution_count": 11,
   "id": "e63cdf3d",
   "metadata": {},
   "outputs": [
    {
     "data": {
      "text/plain": [
       "34746    58.90\n",
       "6121     31.80\n",
       "15082    10.54\n",
       "6533     10.16\n",
       "42041    10.10\n",
       "Name: y, dtype: float64"
      ]
     },
     "execution_count": 11,
     "metadata": {},
     "output_type": "execute_result"
    }
   ],
   "source": [
    "x_train['y'].nlargest(5)"
   ]
  },
  {
   "cell_type": "markdown",
   "id": "df1d31b6",
   "metadata": {},
   "source": [
    "- nlargest(5)의 결과, 가장 큰 값인 31.80만 이상치로 간주하고 평균값으로 바꿉니다. "
   ]
  },
  {
   "cell_type": "code",
   "execution_count": 12,
   "id": "f18d62e7",
   "metadata": {},
   "outputs": [
    {
     "data": {
      "text/html": [
       "<div>\n",
       "<style scoped>\n",
       "    .dataframe tbody tr th:only-of-type {\n",
       "        vertical-align: middle;\n",
       "    }\n",
       "\n",
       "    .dataframe tbody tr th {\n",
       "        vertical-align: top;\n",
       "    }\n",
       "\n",
       "    .dataframe thead th {\n",
       "        text-align: right;\n",
       "    }\n",
       "</style>\n",
       "<table border=\"1\" class=\"dataframe\">\n",
       "  <thead>\n",
       "    <tr style=\"text-align: right;\">\n",
       "      <th></th>\n",
       "      <th>carat</th>\n",
       "      <th>depth</th>\n",
       "      <th>table</th>\n",
       "      <th>x</th>\n",
       "      <th>y</th>\n",
       "      <th>z</th>\n",
       "    </tr>\n",
       "  </thead>\n",
       "  <tbody>\n",
       "    <tr>\n",
       "      <th>count</th>\n",
       "      <td>43152.000000</td>\n",
       "      <td>43152.000000</td>\n",
       "      <td>43152.000000</td>\n",
       "      <td>43152.000000</td>\n",
       "      <td>43152.000000</td>\n",
       "      <td>43152.000000</td>\n",
       "    </tr>\n",
       "    <tr>\n",
       "      <th>mean</th>\n",
       "      <td>0.798534</td>\n",
       "      <td>61.754795</td>\n",
       "      <td>57.452181</td>\n",
       "      <td>5.731961</td>\n",
       "      <td>5.733818</td>\n",
       "      <td>3.539142</td>\n",
       "    </tr>\n",
       "    <tr>\n",
       "      <th>std</th>\n",
       "      <td>0.474879</td>\n",
       "      <td>1.429708</td>\n",
       "      <td>2.223297</td>\n",
       "      <td>1.122093</td>\n",
       "      <td>1.113986</td>\n",
       "      <td>0.695689</td>\n",
       "    </tr>\n",
       "    <tr>\n",
       "      <th>min</th>\n",
       "      <td>0.200000</td>\n",
       "      <td>43.000000</td>\n",
       "      <td>43.000000</td>\n",
       "      <td>0.000000</td>\n",
       "      <td>0.000000</td>\n",
       "      <td>0.000000</td>\n",
       "    </tr>\n",
       "    <tr>\n",
       "      <th>25%</th>\n",
       "      <td>0.400000</td>\n",
       "      <td>61.100000</td>\n",
       "      <td>56.000000</td>\n",
       "      <td>4.710000</td>\n",
       "      <td>4.720000</td>\n",
       "      <td>2.910000</td>\n",
       "    </tr>\n",
       "    <tr>\n",
       "      <th>50%</th>\n",
       "      <td>0.700000</td>\n",
       "      <td>61.800000</td>\n",
       "      <td>57.000000</td>\n",
       "      <td>5.700000</td>\n",
       "      <td>5.710000</td>\n",
       "      <td>3.530000</td>\n",
       "    </tr>\n",
       "    <tr>\n",
       "      <th>75%</th>\n",
       "      <td>1.040000</td>\n",
       "      <td>62.500000</td>\n",
       "      <td>59.000000</td>\n",
       "      <td>6.540000</td>\n",
       "      <td>6.540000</td>\n",
       "      <td>4.040000</td>\n",
       "    </tr>\n",
       "    <tr>\n",
       "      <th>max</th>\n",
       "      <td>5.010000</td>\n",
       "      <td>79.000000</td>\n",
       "      <td>95.000000</td>\n",
       "      <td>10.740000</td>\n",
       "      <td>10.540000</td>\n",
       "      <td>8.060000</td>\n",
       "    </tr>\n",
       "  </tbody>\n",
       "</table>\n",
       "</div>"
      ],
      "text/plain": [
       "              carat         depth         table             x             y  \\\n",
       "count  43152.000000  43152.000000  43152.000000  43152.000000  43152.000000   \n",
       "mean       0.798534     61.754795     57.452181      5.731961      5.733818   \n",
       "std        0.474879      1.429708      2.223297      1.122093      1.113986   \n",
       "min        0.200000     43.000000     43.000000      0.000000      0.000000   \n",
       "25%        0.400000     61.100000     56.000000      4.710000      4.720000   \n",
       "50%        0.700000     61.800000     57.000000      5.700000      5.710000   \n",
       "75%        1.040000     62.500000     59.000000      6.540000      6.540000   \n",
       "max        5.010000     79.000000     95.000000     10.740000     10.540000   \n",
       "\n",
       "                  z  \n",
       "count  43152.000000  \n",
       "mean       3.539142  \n",
       "std        0.695689  \n",
       "min        0.000000  \n",
       "25%        2.910000  \n",
       "50%        3.530000  \n",
       "75%        4.040000  \n",
       "max        8.060000  "
      ]
     },
     "execution_count": 12,
     "metadata": {},
     "output_type": "execute_result"
    }
   ],
   "source": [
    "x_train['y'] = np.where(x_train['y']>31, x_train['y'].mean(), x_train['y'])\n",
    "x_train.describe()"
   ]
  },
  {
   "cell_type": "markdown",
   "id": "88527e21",
   "metadata": {},
   "source": [
    "- 💦 object 유형의 컬럼은 따로 확인합니다."
   ]
  },
  {
   "cell_type": "code",
   "execution_count": 13,
   "id": "1b9587ea",
   "metadata": {},
   "outputs": [
    {
     "data": {
      "text/html": [
       "<div>\n",
       "<style scoped>\n",
       "    .dataframe tbody tr th:only-of-type {\n",
       "        vertical-align: middle;\n",
       "    }\n",
       "\n",
       "    .dataframe tbody tr th {\n",
       "        vertical-align: top;\n",
       "    }\n",
       "\n",
       "    .dataframe thead th {\n",
       "        text-align: right;\n",
       "    }\n",
       "</style>\n",
       "<table border=\"1\" class=\"dataframe\">\n",
       "  <thead>\n",
       "    <tr style=\"text-align: right;\">\n",
       "      <th></th>\n",
       "      <th>cut</th>\n",
       "      <th>color</th>\n",
       "      <th>clarity</th>\n",
       "    </tr>\n",
       "  </thead>\n",
       "  <tbody>\n",
       "    <tr>\n",
       "      <th>count</th>\n",
       "      <td>43152</td>\n",
       "      <td>43152</td>\n",
       "      <td>43152</td>\n",
       "    </tr>\n",
       "    <tr>\n",
       "      <th>unique</th>\n",
       "      <td>5</td>\n",
       "      <td>7</td>\n",
       "      <td>8</td>\n",
       "    </tr>\n",
       "    <tr>\n",
       "      <th>top</th>\n",
       "      <td>Ideal</td>\n",
       "      <td>G</td>\n",
       "      <td>SI1</td>\n",
       "    </tr>\n",
       "    <tr>\n",
       "      <th>freq</th>\n",
       "      <td>17275</td>\n",
       "      <td>9067</td>\n",
       "      <td>10389</td>\n",
       "    </tr>\n",
       "  </tbody>\n",
       "</table>\n",
       "</div>"
      ],
      "text/plain": [
       "          cut  color clarity\n",
       "count   43152  43152   43152\n",
       "unique      5      7       8\n",
       "top     Ideal      G     SI1\n",
       "freq    17275   9067   10389"
      ]
     },
     "execution_count": 13,
     "metadata": {},
     "output_type": "execute_result"
    }
   ],
   "source": [
    "x_train.describe(include = 'object')"
   ]
  },
  {
   "cell_type": "code",
   "execution_count": 14,
   "id": "a8f6d1e9",
   "metadata": {},
   "outputs": [
    {
     "data": {
      "text/html": [
       "<div>\n",
       "<style scoped>\n",
       "    .dataframe tbody tr th:only-of-type {\n",
       "        vertical-align: middle;\n",
       "    }\n",
       "\n",
       "    .dataframe tbody tr th {\n",
       "        vertical-align: top;\n",
       "    }\n",
       "\n",
       "    .dataframe thead th {\n",
       "        text-align: right;\n",
       "    }\n",
       "</style>\n",
       "<table border=\"1\" class=\"dataframe\">\n",
       "  <thead>\n",
       "    <tr style=\"text-align: right;\">\n",
       "      <th></th>\n",
       "      <th>carat</th>\n",
       "      <th>depth</th>\n",
       "      <th>table</th>\n",
       "      <th>x</th>\n",
       "      <th>y</th>\n",
       "      <th>z</th>\n",
       "    </tr>\n",
       "  </thead>\n",
       "  <tbody>\n",
       "    <tr>\n",
       "      <th>count</th>\n",
       "      <td>10788.000000</td>\n",
       "      <td>10788.000000</td>\n",
       "      <td>10788.000000</td>\n",
       "      <td>10788.000000</td>\n",
       "      <td>10788.000000</td>\n",
       "      <td>10788.000000</td>\n",
       "    </tr>\n",
       "    <tr>\n",
       "      <th>mean</th>\n",
       "      <td>0.795564</td>\n",
       "      <td>61.727846</td>\n",
       "      <td>57.477197</td>\n",
       "      <td>5.727941</td>\n",
       "      <td>5.730014</td>\n",
       "      <td>3.537101</td>\n",
       "    </tr>\n",
       "    <tr>\n",
       "      <th>std</th>\n",
       "      <td>0.470540</td>\n",
       "      <td>1.444081</td>\n",
       "      <td>2.278709</td>\n",
       "      <td>1.120475</td>\n",
       "      <td>1.110676</td>\n",
       "      <td>0.744426</td>\n",
       "    </tr>\n",
       "    <tr>\n",
       "      <th>min</th>\n",
       "      <td>0.200000</td>\n",
       "      <td>50.800000</td>\n",
       "      <td>44.000000</td>\n",
       "      <td>0.000000</td>\n",
       "      <td>0.000000</td>\n",
       "      <td>0.000000</td>\n",
       "    </tr>\n",
       "    <tr>\n",
       "      <th>25%</th>\n",
       "      <td>0.400000</td>\n",
       "      <td>61.000000</td>\n",
       "      <td>56.000000</td>\n",
       "      <td>4.720000</td>\n",
       "      <td>4.730000</td>\n",
       "      <td>2.910000</td>\n",
       "    </tr>\n",
       "    <tr>\n",
       "      <th>50%</th>\n",
       "      <td>0.700000</td>\n",
       "      <td>61.800000</td>\n",
       "      <td>57.000000</td>\n",
       "      <td>5.690000</td>\n",
       "      <td>5.700000</td>\n",
       "      <td>3.520000</td>\n",
       "    </tr>\n",
       "    <tr>\n",
       "      <th>75%</th>\n",
       "      <td>1.040000</td>\n",
       "      <td>62.500000</td>\n",
       "      <td>59.000000</td>\n",
       "      <td>6.540000</td>\n",
       "      <td>6.540000</td>\n",
       "      <td>4.032500</td>\n",
       "    </tr>\n",
       "    <tr>\n",
       "      <th>max</th>\n",
       "      <td>4.010000</td>\n",
       "      <td>78.200000</td>\n",
       "      <td>79.000000</td>\n",
       "      <td>10.020000</td>\n",
       "      <td>9.940000</td>\n",
       "      <td>31.800000</td>\n",
       "    </tr>\n",
       "  </tbody>\n",
       "</table>\n",
       "</div>"
      ],
      "text/plain": [
       "              carat         depth         table             x             y  \\\n",
       "count  10788.000000  10788.000000  10788.000000  10788.000000  10788.000000   \n",
       "mean       0.795564     61.727846     57.477197      5.727941      5.730014   \n",
       "std        0.470540      1.444081      2.278709      1.120475      1.110676   \n",
       "min        0.200000     50.800000     44.000000      0.000000      0.000000   \n",
       "25%        0.400000     61.000000     56.000000      4.720000      4.730000   \n",
       "50%        0.700000     61.800000     57.000000      5.690000      5.700000   \n",
       "75%        1.040000     62.500000     59.000000      6.540000      6.540000   \n",
       "max        4.010000     78.200000     79.000000     10.020000      9.940000   \n",
       "\n",
       "                  z  \n",
       "count  10788.000000  \n",
       "mean       3.537101  \n",
       "std        0.744426  \n",
       "min        0.000000  \n",
       "25%        2.910000  \n",
       "50%        3.520000  \n",
       "75%        4.032500  \n",
       "max       31.800000  "
      ]
     },
     "execution_count": 14,
     "metadata": {},
     "output_type": "execute_result"
    }
   ],
   "source": [
    "x_test.describe()"
   ]
  },
  {
   "cell_type": "code",
   "execution_count": 15,
   "id": "0f196652",
   "metadata": {},
   "outputs": [
    {
     "data": {
      "text/html": [
       "<div>\n",
       "<style scoped>\n",
       "    .dataframe tbody tr th:only-of-type {\n",
       "        vertical-align: middle;\n",
       "    }\n",
       "\n",
       "    .dataframe tbody tr th {\n",
       "        vertical-align: top;\n",
       "    }\n",
       "\n",
       "    .dataframe thead th {\n",
       "        text-align: right;\n",
       "    }\n",
       "</style>\n",
       "<table border=\"1\" class=\"dataframe\">\n",
       "  <thead>\n",
       "    <tr style=\"text-align: right;\">\n",
       "      <th></th>\n",
       "      <th>cut</th>\n",
       "      <th>color</th>\n",
       "      <th>clarity</th>\n",
       "    </tr>\n",
       "  </thead>\n",
       "  <tbody>\n",
       "    <tr>\n",
       "      <th>count</th>\n",
       "      <td>10788</td>\n",
       "      <td>10788</td>\n",
       "      <td>10788</td>\n",
       "    </tr>\n",
       "    <tr>\n",
       "      <th>unique</th>\n",
       "      <td>5</td>\n",
       "      <td>7</td>\n",
       "      <td>8</td>\n",
       "    </tr>\n",
       "    <tr>\n",
       "      <th>top</th>\n",
       "      <td>Ideal</td>\n",
       "      <td>G</td>\n",
       "      <td>SI1</td>\n",
       "    </tr>\n",
       "    <tr>\n",
       "      <th>freq</th>\n",
       "      <td>4276</td>\n",
       "      <td>2225</td>\n",
       "      <td>2676</td>\n",
       "    </tr>\n",
       "  </tbody>\n",
       "</table>\n",
       "</div>"
      ],
      "text/plain": [
       "          cut  color clarity\n",
       "count   10788  10788   10788\n",
       "unique      5      7       8\n",
       "top     Ideal      G     SI1\n",
       "freq     4276   2225    2676"
      ]
     },
     "execution_count": 15,
     "metadata": {},
     "output_type": "execute_result"
    }
   ],
   "source": [
    "x_test.describe(include = 'object')"
   ]
  },
  {
   "cell_type": "markdown",
   "id": "72eabc82",
   "metadata": {},
   "source": [
    "# 주의!"
   ]
  },
  {
   "cell_type": "markdown",
   "id": "b4e18ec2",
   "metadata": {},
   "source": [
    "- 💦 데이터 유형이 object인 데이터의 경우에는 원-핫 인코딩을 해야 합니다. 주로 문자열이며 범주형 데이터에 속하는 이러한 데이터는 범주 간에 순서가 존재하지 않으므로 크기 비교가 의미가 없을 수 있습니다. 머신러닝으로 예측 모델을 만들기 위해서는 이러한 데이터를 수치화하여 또 하나의 변수로 사용하는 것이 좋습니다.\n",
    "- 원-핫 인코딩 방법으로는 먼저 sklearn.preprocessing에서 OneHotEncoder를 사용하여 변환해주는 방법이 있습니다.\n",
    "- 두번째 원-핫 인코딩 방법으로는 pandas의 get_dummies() 함수를 사용하여 변환해주는 방법이 있습니다.\n",
    "- 세번째 방법으로는 라벨 인코딩이 있습니다. 이는 sklearn.preprocessing에서 LabelEncoder를 임포트하여 사용하면 됩니다.\n",
    "- 여기서는 세번째 방법을 사용할 것입니다. 이에 앞서 get_dummies() 함수의 한계점을 알아봅니다."
   ]
  },
  {
   "cell_type": "code",
   "execution_count": 16,
   "id": "c786acb2",
   "metadata": {},
   "outputs": [],
   "source": [
    "x_train_dummies = pd.get_dummies(x_train)\n",
    "x_test_dummies = pd.get_dummies(x_test)"
   ]
  },
  {
   "cell_type": "markdown",
   "id": "70b1e590",
   "metadata": {},
   "source": [
    "- 💦 원-핫 인코딩 이후의 결과를 info() 함수를 통해 확인합니다. 데이터 유형이 8비트 정수(unsigned integer)로 바뀐 것을 볼 수 있습니다."
   ]
  },
  {
   "cell_type": "code",
   "execution_count": 17,
   "id": "13b2c5bd",
   "metadata": {},
   "outputs": [
    {
     "name": "stdout",
     "output_type": "stream",
     "text": [
      "<class 'pandas.core.frame.DataFrame'>\n",
      "RangeIndex: 43152 entries, 0 to 43151\n",
      "Data columns (total 26 columns):\n",
      " #   Column         Non-Null Count  Dtype  \n",
      "---  ------         --------------  -----  \n",
      " 0   carat          43152 non-null  float64\n",
      " 1   depth          43152 non-null  float64\n",
      " 2   table          43152 non-null  float64\n",
      " 3   x              43152 non-null  float64\n",
      " 4   y              43152 non-null  float64\n",
      " 5   z              43152 non-null  float64\n",
      " 6   cut_Fair       43152 non-null  uint8  \n",
      " 7   cut_Good       43152 non-null  uint8  \n",
      " 8   cut_Ideal      43152 non-null  uint8  \n",
      " 9   cut_Premium    43152 non-null  uint8  \n",
      " 10  cut_Very Good  43152 non-null  uint8  \n",
      " 11  color_D        43152 non-null  uint8  \n",
      " 12  color_E        43152 non-null  uint8  \n",
      " 13  color_F        43152 non-null  uint8  \n",
      " 14  color_G        43152 non-null  uint8  \n",
      " 15  color_H        43152 non-null  uint8  \n",
      " 16  color_I        43152 non-null  uint8  \n",
      " 17  color_J        43152 non-null  uint8  \n",
      " 18  clarity_I1     43152 non-null  uint8  \n",
      " 19  clarity_IF     43152 non-null  uint8  \n",
      " 20  clarity_SI1    43152 non-null  uint8  \n",
      " 21  clarity_SI2    43152 non-null  uint8  \n",
      " 22  clarity_VS1    43152 non-null  uint8  \n",
      " 23  clarity_VS2    43152 non-null  uint8  \n",
      " 24  clarity_VVS1   43152 non-null  uint8  \n",
      " 25  clarity_VVS2   43152 non-null  uint8  \n",
      "dtypes: float64(6), uint8(20)\n",
      "memory usage: 2.8 MB\n"
     ]
    }
   ],
   "source": [
    "x_train_dummies.info()"
   ]
  },
  {
   "cell_type": "code",
   "execution_count": 18,
   "id": "b49d6131",
   "metadata": {},
   "outputs": [
    {
     "name": "stdout",
     "output_type": "stream",
     "text": [
      "<class 'pandas.core.frame.DataFrame'>\n",
      "RangeIndex: 10788 entries, 0 to 10787\n",
      "Data columns (total 26 columns):\n",
      " #   Column         Non-Null Count  Dtype  \n",
      "---  ------         --------------  -----  \n",
      " 0   carat          10788 non-null  float64\n",
      " 1   depth          10788 non-null  float64\n",
      " 2   table          10788 non-null  float64\n",
      " 3   x              10788 non-null  float64\n",
      " 4   y              10788 non-null  float64\n",
      " 5   z              10788 non-null  float64\n",
      " 6   cut_Fair       10788 non-null  uint8  \n",
      " 7   cut_Good       10788 non-null  uint8  \n",
      " 8   cut_Ideal      10788 non-null  uint8  \n",
      " 9   cut_Premium    10788 non-null  uint8  \n",
      " 10  cut_Very Good  10788 non-null  uint8  \n",
      " 11  color_D        10788 non-null  uint8  \n",
      " 12  color_E        10788 non-null  uint8  \n",
      " 13  color_F        10788 non-null  uint8  \n",
      " 14  color_G        10788 non-null  uint8  \n",
      " 15  color_H        10788 non-null  uint8  \n",
      " 16  color_I        10788 non-null  uint8  \n",
      " 17  color_J        10788 non-null  uint8  \n",
      " 18  clarity_I1     10788 non-null  uint8  \n",
      " 19  clarity_IF     10788 non-null  uint8  \n",
      " 20  clarity_SI1    10788 non-null  uint8  \n",
      " 21  clarity_SI2    10788 non-null  uint8  \n",
      " 22  clarity_VS1    10788 non-null  uint8  \n",
      " 23  clarity_VS2    10788 non-null  uint8  \n",
      " 24  clarity_VVS1   10788 non-null  uint8  \n",
      " 25  clarity_VVS2   10788 non-null  uint8  \n",
      "dtypes: float64(6), uint8(20)\n",
      "memory usage: 716.5 KB\n"
     ]
    }
   ],
   "source": [
    "x_test_dummies.info()"
   ]
  },
  {
   "cell_type": "markdown",
   "id": "963ac201",
   "metadata": {},
   "source": [
    "- 컬럼의 개수가 매우 늘어났습니다. 명목형 변수들이 각각의 컬럼을 형성했기 때문입니다.\n",
    "- 💦 그러나 이러한 변환은 x_train과 x_test의 변환된 컬럼이 같을 때에만 모델링이 잘 이루어질 수 있습니다. 여기에서는 운좋게도 형태(컬럼의 수)가 같았습니다.\n",
    "- x_train과 x_test의 컬럼의 수가 다르다면 데이터의 형태가 다르기 때문에 모델링 과정에서 오류가 납니다.\n",
    "- 따라서 저는 pd.get_dummies()를 사용하지 않고 LabelEncoder를 사용하여 다시 인코딩을 진행하겠습니다."
   ]
  },
  {
   "cell_type": "code",
   "execution_count": 19,
   "id": "04eaa295",
   "metadata": {},
   "outputs": [],
   "source": [
    "from sklearn.preprocessing import LabelEncoder\n",
    " \n",
    "le = LabelEncoder()\n",
    "le.fit(x_train['cut'])\n",
    "x_train['cut'] = le.transform(x_train['cut'])\n",
    "x_test['cut'] = le.transform(x_test['cut'])\n",
    "le.fit(x_train['color'])\n",
    "x_train['color'] = le.transform(x_train['color'])\n",
    "x_test['color'] = le.transform(x_test['color'])\n",
    "le.fit(x_train['clarity'])\n",
    "x_train['clarity'] = le.transform(x_train['clarity'])\n",
    "x_test['clarity'] = le.transform(x_test['clarity'])"
   ]
  },
  {
   "cell_type": "markdown",
   "id": "9b4fdc08",
   "metadata": {},
   "source": [
    "- fit_transform의 결과, 어떻게 데이터 유형이 바뀌었는지 다시 확인합니다. "
   ]
  },
  {
   "cell_type": "code",
   "execution_count": 20,
   "id": "1b5b5141",
   "metadata": {},
   "outputs": [
    {
     "name": "stdout",
     "output_type": "stream",
     "text": [
      "<class 'pandas.core.frame.DataFrame'>\n",
      "RangeIndex: 43152 entries, 0 to 43151\n",
      "Data columns (total 9 columns):\n",
      " #   Column   Non-Null Count  Dtype  \n",
      "---  ------   --------------  -----  \n",
      " 0   carat    43152 non-null  float64\n",
      " 1   cut      43152 non-null  int32  \n",
      " 2   color    43152 non-null  int32  \n",
      " 3   clarity  43152 non-null  int32  \n",
      " 4   depth    43152 non-null  float64\n",
      " 5   table    43152 non-null  float64\n",
      " 6   x        43152 non-null  float64\n",
      " 7   y        43152 non-null  float64\n",
      " 8   z        43152 non-null  float64\n",
      "dtypes: float64(6), int32(3)\n",
      "memory usage: 2.5 MB\n"
     ]
    }
   ],
   "source": [
    "x_train.info()"
   ]
  },
  {
   "cell_type": "code",
   "execution_count": 21,
   "id": "3dd6f581",
   "metadata": {},
   "outputs": [
    {
     "name": "stdout",
     "output_type": "stream",
     "text": [
      "<class 'pandas.core.frame.DataFrame'>\n",
      "RangeIndex: 10788 entries, 0 to 10787\n",
      "Data columns (total 9 columns):\n",
      " #   Column   Non-Null Count  Dtype  \n",
      "---  ------   --------------  -----  \n",
      " 0   carat    10788 non-null  float64\n",
      " 1   cut      10788 non-null  int32  \n",
      " 2   color    10788 non-null  int32  \n",
      " 3   clarity  10788 non-null  int32  \n",
      " 4   depth    10788 non-null  float64\n",
      " 5   table    10788 non-null  float64\n",
      " 6   x        10788 non-null  float64\n",
      " 7   y        10788 non-null  float64\n",
      " 8   z        10788 non-null  float64\n",
      "dtypes: float64(6), int32(3)\n",
      "memory usage: 632.2 KB\n"
     ]
    }
   ],
   "source": [
    "x_test.info()"
   ]
  },
  {
   "cell_type": "markdown",
   "id": "7b2bd72c",
   "metadata": {},
   "source": [
    "- 🍒 object에 해당하는 컬럼들의 데이터유형이 int32로 바뀌었습니다."
   ]
  },
  {
   "cell_type": "markdown",
   "id": "ba021537",
   "metadata": {},
   "source": [
    "# 6. 학습용 / 검증용 데이터셋 분리\n",
    "- 회귀 과제에서는 stratify를 사용하지 않습니다. 이는 클래스의 비율이 중요한 분류 과제에서 클래스의 비율을 유지하기 위해 사용하는 것으로서, 연속형 값을 예측하는 회귀 과제에는 필요하지 않습니다."
   ]
  },
  {
   "cell_type": "code",
   "execution_count": 22,
   "id": "db040eef",
   "metadata": {},
   "outputs": [],
   "source": [
    "from sklearn.model_selection import train_test_split\n",
    "x_train, x_valid, y_train, y_valid = train_test_split(x_train, y_train['price'], \n",
    "                                                      test_size = 0.3)"
   ]
  },
  {
   "cell_type": "markdown",
   "id": "e823ef6e",
   "metadata": {},
   "source": [
    "# 7. 모델 학습\n",
    "- 랜덤 포레스트 모델을 사용합니다. 회귀 과제에서는 RandomForestRegressor()를 사용합니다."
   ]
  },
  {
   "cell_type": "code",
   "execution_count": 23,
   "id": "e051324c",
   "metadata": {},
   "outputs": [
    {
     "data": {
      "text/plain": [
       "RandomForestRegressor()"
      ]
     },
     "execution_count": 23,
     "metadata": {},
     "output_type": "execute_result"
    }
   ],
   "source": [
    "from sklearn.ensemble import RandomForestRegressor\n",
    "\n",
    "modelRF = RandomForestRegressor()\n",
    "modelRF.fit(x_train, y_train)"
   ]
  },
  {
   "cell_type": "markdown",
   "id": "79408c7b",
   "metadata": {},
   "source": [
    "# 8. 모델 평가\n",
    "- 평가 지표로 rmse를 사용합니다."
   ]
  },
  {
   "cell_type": "code",
   "execution_count": 24,
   "id": "9e8a3022",
   "metadata": {},
   "outputs": [],
   "source": [
    "y_validation_predict = modelRF.predict(x_valid)"
   ]
  },
  {
   "cell_type": "code",
   "execution_count": 25,
   "id": "08226472",
   "metadata": {},
   "outputs": [
    {
     "name": "stdout",
     "output_type": "stream",
     "text": [
      "322780.90716057835\n",
      "568.1381057107316\n",
      "0.9798012844727388\n"
     ]
    }
   ],
   "source": [
    "from sklearn.metrics import mean_squared_error, r2_score\n",
    "mse = mean_squared_error(y_valid, y_validation_predict)\n",
    "rmse = mean_squared_error(y_valid, y_validation_predict, squared = False)\n",
    "r2score = r2_score(y_valid, y_validation_predict)\n",
    "\n",
    "print(mse)\n",
    "print(rmse)\n",
    "print(r2score)"
   ]
  },
  {
   "cell_type": "code",
   "execution_count": 26,
   "id": "0e17ee69",
   "metadata": {},
   "outputs": [],
   "source": [
    "pred = modelRF.predict(x_test)"
   ]
  },
  {
   "cell_type": "markdown",
   "id": "3b308bb0",
   "metadata": {},
   "source": [
    "# 9. 파일 제출"
   ]
  },
  {
   "cell_type": "code",
   "execution_count": 27,
   "id": "48e5fb93",
   "metadata": {},
   "outputs": [
    {
     "data": {
      "text/html": [
       "<div>\n",
       "<style scoped>\n",
       "    .dataframe tbody tr th:only-of-type {\n",
       "        vertical-align: middle;\n",
       "    }\n",
       "\n",
       "    .dataframe tbody tr th {\n",
       "        vertical-align: top;\n",
       "    }\n",
       "\n",
       "    .dataframe thead th {\n",
       "        text-align: right;\n",
       "    }\n",
       "</style>\n",
       "<table border=\"1\" class=\"dataframe\">\n",
       "  <thead>\n",
       "    <tr style=\"text-align: right;\">\n",
       "      <th></th>\n",
       "      <th>item_id</th>\n",
       "      <th>result</th>\n",
       "    </tr>\n",
       "  </thead>\n",
       "  <tbody>\n",
       "    <tr>\n",
       "      <th>0</th>\n",
       "      <td>25388</td>\n",
       "      <td>12763.54</td>\n",
       "    </tr>\n",
       "    <tr>\n",
       "      <th>1</th>\n",
       "      <td>15396</td>\n",
       "      <td>5129.65</td>\n",
       "    </tr>\n",
       "    <tr>\n",
       "      <th>2</th>\n",
       "      <td>35778</td>\n",
       "      <td>917.35</td>\n",
       "    </tr>\n",
       "    <tr>\n",
       "      <th>3</th>\n",
       "      <td>3379</td>\n",
       "      <td>417.37</td>\n",
       "    </tr>\n",
       "    <tr>\n",
       "      <th>4</th>\n",
       "      <td>45160</td>\n",
       "      <td>1493.43</td>\n",
       "    </tr>\n",
       "    <tr>\n",
       "      <th>...</th>\n",
       "      <td>...</td>\n",
       "      <td>...</td>\n",
       "    </tr>\n",
       "    <tr>\n",
       "      <th>10783</th>\n",
       "      <td>36438</td>\n",
       "      <td>859.58</td>\n",
       "    </tr>\n",
       "    <tr>\n",
       "      <th>10784</th>\n",
       "      <td>50067</td>\n",
       "      <td>2117.65</td>\n",
       "    </tr>\n",
       "    <tr>\n",
       "      <th>10785</th>\n",
       "      <td>29605</td>\n",
       "      <td>715.21</td>\n",
       "    </tr>\n",
       "    <tr>\n",
       "      <th>10786</th>\n",
       "      <td>19050</td>\n",
       "      <td>8506.71</td>\n",
       "    </tr>\n",
       "    <tr>\n",
       "      <th>10787</th>\n",
       "      <td>2543</td>\n",
       "      <td>3546.04</td>\n",
       "    </tr>\n",
       "  </tbody>\n",
       "</table>\n",
       "<p>10788 rows × 2 columns</p>\n",
       "</div>"
      ],
      "text/plain": [
       "       item_id    result\n",
       "0        25388  12763.54\n",
       "1        15396   5129.65\n",
       "2        35778    917.35\n",
       "3         3379    417.37\n",
       "4        45160   1493.43\n",
       "...        ...       ...\n",
       "10783    36438    859.58\n",
       "10784    50067   2117.65\n",
       "10785    29605    715.21\n",
       "10786    19050   8506.71\n",
       "10787     2543   3546.04\n",
       "\n",
       "[10788 rows x 2 columns]"
      ]
     },
     "execution_count": 27,
     "metadata": {},
     "output_type": "execute_result"
    }
   ],
   "source": [
    "result =  pd.DataFrame({'item_id':item_id, 'result':pred}).to_csv('diamond_sub.csv', index=False)\n",
    "df2 =  pd.read_csv('./diamond_sub.csv')\n",
    "df2"
   ]
  }
 ],
 "metadata": {
  "kernelspec": {
   "display_name": "Python 3",
   "language": "python",
   "name": "python3"
  },
  "language_info": {
   "codemirror_mode": {
    "name": "ipython",
    "version": 3
   },
   "file_extension": ".py",
   "mimetype": "text/x-python",
   "name": "python",
   "nbconvert_exporter": "python",
   "pygments_lexer": "ipython3",
   "version": "3.9.5"
  }
 },
 "nbformat": 4,
 "nbformat_minor": 5
}
