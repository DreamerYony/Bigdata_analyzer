{
 "cells": [
  {
   "cell_type": "markdown",
   "id": "6cd3367c",
   "metadata": {},
   "source": [
    "# 📐별의 크기 예측 모형 모델링(분류과제) - simple version\n",
    "\n",
    "- 빅데이터 분석기사 실기 연습을 위해 제가 만든 자료입니다.\n",
    "- 데이터셋은 kaggle의 데이터셋을 제가 다시 가공한 뒤 X_train, y_train, X_test로 분리하였습니다. 원본 데이터셋은 다음의 주소에서 확인하실 수 있습니다 : https://www.kaggle.com/datasets/vinesmsuic/star-categorization-giants-and-dwarfs\n",
    "- 이 과제는 여러가지 변수들을 사용해서 별의 크기를 0 또는 1로 예측합니다.\n",
    "- y_train 데이터셋은 별의 크기가 Giant인 경우 Targetclass는 1로 표기되어 있으며, 별의 크기가 Dwarf인 경우 Targetclass는 0으로 표기되어 있습니다."
   ]
  },
  {
   "cell_type": "markdown",
   "id": "843fd644",
   "metadata": {},
   "source": [
    "### 📐 문제\n",
    "- X_train.csv를 사용하여 별의 크기(Target class)를 예측하는 모형을 만들고, x_test.csv에 적용하여 별의 크기를 예측값을 0 또는 1로 만들어 .csv 파일로 제출하시오.(평가 지표는 f1 score이다)"
   ]
  },
  {
   "cell_type": "markdown",
   "id": "624c2798",
   "metadata": {},
   "source": [
    "### 📐 힌트\n",
    "- 예측값을 0 또는 1로 분류하기 위해서는 predict_proba가 아닌 predict를 사용합니다."
   ]
  },
  {
   "cell_type": "markdown",
   "id": "8a903c23",
   "metadata": {},
   "source": [
    "# 1. 필요한 패키지 불러오기"
   ]
  },
  {
   "cell_type": "code",
   "execution_count": 1,
   "id": "c6a90d3f",
   "metadata": {},
   "outputs": [],
   "source": [
    "import pandas as pd\n",
    "import numpy as np"
   ]
  },
  {
   "cell_type": "markdown",
   "id": "c00386e9",
   "metadata": {},
   "source": [
    "# 2. 데이터 불러오기"
   ]
  },
  {
   "cell_type": "code",
   "execution_count": 2,
   "id": "7d581d1d",
   "metadata": {},
   "outputs": [],
   "source": [
    "x_train = pd.read_csv('./star_X_train.csv')\n",
    "x_test = pd.read_csv('./star_X_test.csv')\n",
    "y_train = pd.read_csv('./star_y_train.csv')"
   ]
  },
  {
   "cell_type": "code",
   "execution_count": 3,
   "id": "8d3a2a02",
   "metadata": {},
   "outputs": [
    {
     "data": {
      "text/html": [
       "<div>\n",
       "<style scoped>\n",
       "    .dataframe tbody tr th:only-of-type {\n",
       "        vertical-align: middle;\n",
       "    }\n",
       "\n",
       "    .dataframe tbody tr th {\n",
       "        vertical-align: top;\n",
       "    }\n",
       "\n",
       "    .dataframe thead th {\n",
       "        text-align: right;\n",
       "    }\n",
       "</style>\n",
       "<table border=\"1\" class=\"dataframe\">\n",
       "  <thead>\n",
       "    <tr style=\"text-align: right;\">\n",
       "      <th></th>\n",
       "      <th>Vmag</th>\n",
       "      <th>Plx</th>\n",
       "      <th>e_Plx</th>\n",
       "      <th>B-V</th>\n",
       "      <th>Amag</th>\n",
       "    </tr>\n",
       "  </thead>\n",
       "  <tbody>\n",
       "    <tr>\n",
       "      <th>0</th>\n",
       "      <td>6.86</td>\n",
       "      <td>1.79</td>\n",
       "      <td>0.81</td>\n",
       "      <td>0.047</td>\n",
       "      <td>13.124266</td>\n",
       "    </tr>\n",
       "  </tbody>\n",
       "</table>\n",
       "</div>"
      ],
      "text/plain": [
       "   Vmag   Plx  e_Plx    B-V       Amag\n",
       "0  6.86  1.79   0.81  0.047  13.124266"
      ]
     },
     "execution_count": 3,
     "metadata": {},
     "output_type": "execute_result"
    }
   ],
   "source": [
    "x_train.head(1)"
   ]
  },
  {
   "cell_type": "code",
   "execution_count": 4,
   "id": "1a33cad7",
   "metadata": {},
   "outputs": [
    {
     "data": {
      "text/html": [
       "<div>\n",
       "<style scoped>\n",
       "    .dataframe tbody tr th:only-of-type {\n",
       "        vertical-align: middle;\n",
       "    }\n",
       "\n",
       "    .dataframe tbody tr th {\n",
       "        vertical-align: top;\n",
       "    }\n",
       "\n",
       "    .dataframe thead th {\n",
       "        text-align: right;\n",
       "    }\n",
       "</style>\n",
       "<table border=\"1\" class=\"dataframe\">\n",
       "  <thead>\n",
       "    <tr style=\"text-align: right;\">\n",
       "      <th></th>\n",
       "      <th>TargetClass</th>\n",
       "    </tr>\n",
       "  </thead>\n",
       "  <tbody>\n",
       "    <tr>\n",
       "      <th>0</th>\n",
       "      <td>0</td>\n",
       "    </tr>\n",
       "  </tbody>\n",
       "</table>\n",
       "</div>"
      ],
      "text/plain": [
       "   TargetClass\n",
       "0            0"
      ]
     },
     "execution_count": 4,
     "metadata": {},
     "output_type": "execute_result"
    }
   ],
   "source": [
    "y_train.head(1)"
   ]
  },
  {
   "cell_type": "markdown",
   "id": "52184b3a",
   "metadata": {},
   "source": [
    "# 3. info() 함수로 기본적인 정보 확인\n",
    "- 행의 수, 열의 수, 데이터의 결측치, 데이터 유형을 알아봅니다."
   ]
  },
  {
   "cell_type": "code",
   "execution_count": 5,
   "id": "21e441ab",
   "metadata": {},
   "outputs": [
    {
     "name": "stdout",
     "output_type": "stream",
     "text": [
      "<class 'pandas.core.frame.DataFrame'>\n",
      "RangeIndex: 2549 entries, 0 to 2548\n",
      "Data columns (total 5 columns):\n",
      " #   Column  Non-Null Count  Dtype  \n",
      "---  ------  --------------  -----  \n",
      " 0   Vmag    2547 non-null   float64\n",
      " 1   Plx     2549 non-null   float64\n",
      " 2   e_Plx   2549 non-null   float64\n",
      " 3   B-V     2548 non-null   float64\n",
      " 4   Amag    2549 non-null   float64\n",
      "dtypes: float64(5)\n",
      "memory usage: 99.7 KB\n"
     ]
    }
   ],
   "source": [
    "x_train.info()"
   ]
  },
  {
   "cell_type": "code",
   "execution_count": 6,
   "id": "4869a247",
   "metadata": {},
   "outputs": [
    {
     "name": "stdout",
     "output_type": "stream",
     "text": [
      "<class 'pandas.core.frame.DataFrame'>\n",
      "RangeIndex: 2549 entries, 0 to 2548\n",
      "Data columns (total 1 columns):\n",
      " #   Column       Non-Null Count  Dtype\n",
      "---  ------       --------------  -----\n",
      " 0   TargetClass  2549 non-null   int64\n",
      "dtypes: int64(1)\n",
      "memory usage: 20.0 KB\n"
     ]
    }
   ],
   "source": [
    "y_train.info()"
   ]
  },
  {
   "cell_type": "code",
   "execution_count": 7,
   "id": "e38c1023",
   "metadata": {},
   "outputs": [
    {
     "name": "stdout",
     "output_type": "stream",
     "text": [
      "<class 'pandas.core.frame.DataFrame'>\n",
      "RangeIndex: 1093 entries, 0 to 1092\n",
      "Data columns (total 5 columns):\n",
      " #   Column  Non-Null Count  Dtype  \n",
      "---  ------  --------------  -----  \n",
      " 0   Vmag    1093 non-null   float64\n",
      " 1   Plx     1093 non-null   float64\n",
      " 2   e_Plx   1093 non-null   float64\n",
      " 3   B-V     1093 non-null   float64\n",
      " 4   Amag    1093 non-null   float64\n",
      "dtypes: float64(5)\n",
      "memory usage: 42.8 KB\n"
     ]
    }
   ],
   "source": [
    "x_test.info()"
   ]
  },
  {
   "cell_type": "markdown",
   "id": "eca95a66",
   "metadata": {},
   "source": [
    "- x_train 데이터셋에 결측치가 존재합니다. Vmag 컬럼에 2개의 결측치, B-V 컬럼에 1개의 결측치가 존재합니다."
   ]
  },
  {
   "cell_type": "markdown",
   "id": "91147091",
   "metadata": {},
   "source": [
    "# 4. 결측치 처리\n",
    "- x_train의 두 개의 컬럼에 존재하는 결측치들을 처리합니다.\n",
    "- 가장 간단한 방법으로는 dropna()를 사용하여 결측치가 포함된 전체 행들을 제거하는 방법이 있습니다.\n",
    "- 여기에서는 결측치를 평균값으로 대체하는 방법을 사용합니다. \n",
    "- 💦 평균값 계산에는 결측치가 포함된 행은 제외되므로 결측치로 인한 왜곡을 피할 수 있습니다."
   ]
  },
  {
   "cell_type": "code",
   "execution_count": 8,
   "id": "618b8b11",
   "metadata": {},
   "outputs": [
    {
     "name": "stdout",
     "output_type": "stream",
     "text": [
      "8.13064389477817\n",
      "0.8296636577708006\n"
     ]
    }
   ],
   "source": [
    "x_Vmag_mean = x_train['Vmag'].mean()\n",
    "x_BV_mean = x_train['B-V'].mean()\n",
    "print(x_Vmag_mean)\n",
    "print(x_BV_mean)"
   ]
  },
  {
   "cell_type": "code",
   "execution_count": 9,
   "id": "d4250e47",
   "metadata": {},
   "outputs": [],
   "source": [
    "x_train['Vmag'] = x_train['Vmag'].fillna(x_Vmag_mean)\n",
    "x_train['B-V'] = x_train['B-V'].fillna(x_BV_mean)"
   ]
  },
  {
   "cell_type": "code",
   "execution_count": 10,
   "id": "ddac8fe8",
   "metadata": {},
   "outputs": [
    {
     "name": "stdout",
     "output_type": "stream",
     "text": [
      "<class 'pandas.core.frame.DataFrame'>\n",
      "RangeIndex: 2549 entries, 0 to 2548\n",
      "Data columns (total 5 columns):\n",
      " #   Column  Non-Null Count  Dtype  \n",
      "---  ------  --------------  -----  \n",
      " 0   Vmag    2549 non-null   float64\n",
      " 1   Plx     2549 non-null   float64\n",
      " 2   e_Plx   2549 non-null   float64\n",
      " 3   B-V     2549 non-null   float64\n",
      " 4   Amag    2549 non-null   float64\n",
      "dtypes: float64(5)\n",
      "memory usage: 99.7 KB\n"
     ]
    }
   ],
   "source": [
    "x_train.info()"
   ]
  },
  {
   "cell_type": "markdown",
   "id": "16c84ce6",
   "metadata": {},
   "source": [
    "- 결측치를 평균값으로 채운 후 더 이상 결측치는 보이지 않습니다."
   ]
  },
  {
   "cell_type": "markdown",
   "id": "14dc1f27",
   "metadata": {},
   "source": [
    "# 5. describe() 함수로 요약 통계량 확인\n",
    "- 이상치를 확인합니다.\n",
    "- 💦 Plx 컬럼과 e_Plx 컬럼에 max값이 매우 큰 값이 존재하는 것을 확인할 수 있습니다.\n",
    "- 이상치는 중앙값 또는 평균값으로 대체합니다."
   ]
  },
  {
   "cell_type": "code",
   "execution_count": 11,
   "id": "3a6a7a12",
   "metadata": {},
   "outputs": [
    {
     "data": {
      "text/html": [
       "<div>\n",
       "<style scoped>\n",
       "    .dataframe tbody tr th:only-of-type {\n",
       "        vertical-align: middle;\n",
       "    }\n",
       "\n",
       "    .dataframe tbody tr th {\n",
       "        vertical-align: top;\n",
       "    }\n",
       "\n",
       "    .dataframe thead th {\n",
       "        text-align: right;\n",
       "    }\n",
       "</style>\n",
       "<table border=\"1\" class=\"dataframe\">\n",
       "  <thead>\n",
       "    <tr style=\"text-align: right;\">\n",
       "      <th></th>\n",
       "      <th>Vmag</th>\n",
       "      <th>Plx</th>\n",
       "      <th>e_Plx</th>\n",
       "      <th>B-V</th>\n",
       "      <th>Amag</th>\n",
       "    </tr>\n",
       "  </thead>\n",
       "  <tbody>\n",
       "    <tr>\n",
       "      <th>count</th>\n",
       "      <td>2549.000000</td>\n",
       "      <td>2549.000000</td>\n",
       "      <td>2549.000000</td>\n",
       "      <td>2549.000000</td>\n",
       "      <td>2549.000000</td>\n",
       "    </tr>\n",
       "    <tr>\n",
       "      <th>mean</th>\n",
       "      <td>8.130644</td>\n",
       "      <td>7.533107</td>\n",
       "      <td>1.160416</td>\n",
       "      <td>0.829664</td>\n",
       "      <td>16.409761</td>\n",
       "    </tr>\n",
       "    <tr>\n",
       "      <th>std</th>\n",
       "      <td>1.316081</td>\n",
       "      <td>11.945021</td>\n",
       "      <td>0.738598</td>\n",
       "      <td>0.439688</td>\n",
       "      <td>2.390487</td>\n",
       "    </tr>\n",
       "    <tr>\n",
       "      <th>min</th>\n",
       "      <td>2.010000</td>\n",
       "      <td>-4.780000</td>\n",
       "      <td>0.470000</td>\n",
       "      <td>-0.165000</td>\n",
       "      <td>3.045150</td>\n",
       "    </tr>\n",
       "    <tr>\n",
       "      <th>25%</th>\n",
       "      <td>7.380000</td>\n",
       "      <td>2.680000</td>\n",
       "      <td>0.850000</td>\n",
       "      <td>0.488000</td>\n",
       "      <td>15.121679</td>\n",
       "    </tr>\n",
       "    <tr>\n",
       "      <th>50%</th>\n",
       "      <td>8.390000</td>\n",
       "      <td>4.840000</td>\n",
       "      <td>1.040000</td>\n",
       "      <td>0.874000</td>\n",
       "      <td>16.349780</td>\n",
       "    </tr>\n",
       "    <tr>\n",
       "      <th>75%</th>\n",
       "      <td>9.060000</td>\n",
       "      <td>8.620000</td>\n",
       "      <td>1.270000</td>\n",
       "      <td>1.137000</td>\n",
       "      <td>17.989560</td>\n",
       "    </tr>\n",
       "    <tr>\n",
       "      <th>max</th>\n",
       "      <td>12.380000</td>\n",
       "      <td>280.270000</td>\n",
       "      <td>22.220000</td>\n",
       "      <td>2.530000</td>\n",
       "      <td>29.249165</td>\n",
       "    </tr>\n",
       "  </tbody>\n",
       "</table>\n",
       "</div>"
      ],
      "text/plain": [
       "              Vmag          Plx        e_Plx          B-V         Amag\n",
       "count  2549.000000  2549.000000  2549.000000  2549.000000  2549.000000\n",
       "mean      8.130644     7.533107     1.160416     0.829664    16.409761\n",
       "std       1.316081    11.945021     0.738598     0.439688     2.390487\n",
       "min       2.010000    -4.780000     0.470000    -0.165000     3.045150\n",
       "25%       7.380000     2.680000     0.850000     0.488000    15.121679\n",
       "50%       8.390000     4.840000     1.040000     0.874000    16.349780\n",
       "75%       9.060000     8.620000     1.270000     1.137000    17.989560\n",
       "max      12.380000   280.270000    22.220000     2.530000    29.249165"
      ]
     },
     "execution_count": 11,
     "metadata": {},
     "output_type": "execute_result"
    }
   ],
   "source": [
    "x_train.describe()"
   ]
  },
  {
   "cell_type": "markdown",
   "id": "75e95150",
   "metadata": {},
   "source": [
    "- Plx 컬럼의 max값을 보아 이상치로 판단됩니다. 이러한 값들이 얼마나 있는지 nlargest() 함수를 통해 컬럼에서 가장 큰 값 5개만 추출해봅니다.\n",
    "- e_Plx 컬럼에도 max값을 보아 이상치로 판단됩니다. 이러한 값들이 얼마나 있는지 nlargest() 함수를 통해 컬럼에서 가장 큰 값 5개만 추출해봅니다."
   ]
  },
  {
   "cell_type": "code",
   "execution_count": 12,
   "id": "807a3d7d",
   "metadata": {},
   "outputs": [
    {
     "name": "stdout",
     "output_type": "stream",
     "text": [
      "2321    280.27\n",
      "25      269.05\n",
      "559     134.04\n",
      "106     122.75\n",
      "258     100.24\n",
      "Name: Plx, dtype: float64\n",
      "1025    22.22\n",
      "67      10.40\n",
      "1971     9.62\n",
      "25       7.57\n",
      "1427     7.28\n",
      "Name: e_Plx, dtype: float64\n"
     ]
    }
   ],
   "source": [
    "print(x_train['Plx'].nlargest(5))\n",
    "print(x_train['e_Plx'].nlargest(5))"
   ]
  },
  {
   "cell_type": "markdown",
   "id": "7ef27685",
   "metadata": {},
   "source": [
    "- 💦 Plx 컬럼의 경우에 280.27과 269.05가 다른 값들에 비해 매우 크고, e_Plx 컬럼의 경우에 22.22가 다른 값들에 비해 매우 큰 것을 확인할 수 있습니다.\n",
    "- 여기에선 이러한 값들만 이상치로 간주하고 다른 값으로 대체하겠습니다. 이상치는 일반적으로 IQR의 1.5배를 초과하거나 미만인 값을 이상치라고 하지만 간단한 계산을 위해 Plx 컬럼에선 위의 2개의 값, e_Plx 컬럼에선 위의 1개의 값만 이상치로 처리하겠습니다.\n",
    "- 그리고 이상치들은 평균값으로 대체하는 방법을 사용하겠습니다."
   ]
  },
  {
   "cell_type": "code",
   "execution_count": 13,
   "id": "803a50e6",
   "metadata": {},
   "outputs": [],
   "source": [
    "Plx_mean = x_train['Plx'].mean()\n",
    "e_Plx_mean = x_train['e_Plx'].mean()\n",
    "x_train['Plx'] = np.where(x_train['Plx']>250, Plx_mean, x_train['Plx'])\n",
    "x_train['e_Plx'] = np.where(x_train['e_Plx']>20, e_Plx_mean, x_train['e_Plx'])"
   ]
  },
  {
   "cell_type": "code",
   "execution_count": 14,
   "id": "868ef85e",
   "metadata": {},
   "outputs": [
    {
     "name": "stdout",
     "output_type": "stream",
     "text": [
      "count    2549.000000\n",
      "mean        7.323514\n",
      "std         9.306173\n",
      "min        -4.780000\n",
      "25%         2.680000\n",
      "50%         4.840000\n",
      "75%         8.600000\n",
      "max       134.040000\n",
      "Name: Plx, dtype: float64\n"
     ]
    }
   ],
   "source": [
    "print(x_train['Plx'].describe())"
   ]
  },
  {
   "cell_type": "code",
   "execution_count": 15,
   "id": "ddb8294a",
   "metadata": {},
   "outputs": [
    {
     "name": "stdout",
     "output_type": "stream",
     "text": [
      "count    2549.000000\n",
      "mean        1.152154\n",
      "std         0.609424\n",
      "min         0.470000\n",
      "25%         0.850000\n",
      "50%         1.040000\n",
      "75%         1.270000\n",
      "max        10.400000\n",
      "Name: e_Plx, dtype: float64\n"
     ]
    }
   ],
   "source": [
    "print(x_train['e_Plx'].describe())"
   ]
  },
  {
   "cell_type": "markdown",
   "id": "01f761df",
   "metadata": {},
   "source": [
    "- 훨씬 감소된 max값을 확인할 수 있습니다. "
   ]
  },
  {
   "cell_type": "markdown",
   "id": "244d5aa6",
   "metadata": {},
   "source": [
    "# 6. 학습용 데이터셋과 검증용 데이터셋으로 분리\n",
    "- 분류과제인 경우에는 stratify = y_train['TargetClass']를 꼭 사용하는 것이 좋습니다."
   ]
  },
  {
   "cell_type": "code",
   "execution_count": 16,
   "id": "6b371aae",
   "metadata": {},
   "outputs": [],
   "source": [
    "from sklearn.model_selection import train_test_split\n",
    "\n",
    "x_tr, x_valid, y_tr, y_valid = train_test_split(x_train, y_train['TargetClass'], \n",
    "                                                test_size = 0.3, stratify = y_train['TargetClass'])"
   ]
  },
  {
   "cell_type": "markdown",
   "id": "a4cd5313",
   "metadata": {},
   "source": [
    "# 7. 모델 학습"
   ]
  },
  {
   "cell_type": "code",
   "execution_count": 17,
   "id": "a66193c2",
   "metadata": {},
   "outputs": [
    {
     "data": {
      "text/plain": [
       "RandomForestClassifier()"
      ]
     },
     "execution_count": 17,
     "metadata": {},
     "output_type": "execute_result"
    }
   ],
   "source": [
    "from sklearn.ensemble import RandomForestClassifier\n",
    "\n",
    "modelRF = RandomForestClassifier()\n",
    "modelRF.fit(x_tr, y_tr)"
   ]
  },
  {
   "cell_type": "markdown",
   "id": "ebc123ce",
   "metadata": {},
   "source": [
    "# 8. 모델 평가\n",
    "- 0 또는 1이라는 값으로 예측 결과를 도출해야 합니다.\n",
    "- 💦 predict를 사용하여 계산합니다."
   ]
  },
  {
   "cell_type": "code",
   "execution_count": 18,
   "id": "a9a22877",
   "metadata": {},
   "outputs": [],
   "source": [
    "y_validation_pred = modelRF.predict(x_valid)"
   ]
  },
  {
   "cell_type": "code",
   "execution_count": 19,
   "id": "9d5ad183",
   "metadata": {},
   "outputs": [
    {
     "name": "stdout",
     "output_type": "stream",
     "text": [
      "0.883048620236531\n",
      "0.8836601307189542\n"
     ]
    }
   ],
   "source": [
    "from sklearn.metrics import accuracy_score, f1_score\n",
    "\n",
    "f1 = f1_score(y_valid, y_validation_pred)\n",
    "accuracy = accuracy_score(y_valid, y_validation_pred)\n",
    "\n",
    "print(f1)\n",
    "print(accuracy)"
   ]
  },
  {
   "cell_type": "code",
   "execution_count": 20,
   "id": "3e8475ef",
   "metadata": {},
   "outputs": [],
   "source": [
    "pred = modelRF.predict(x_test)"
   ]
  },
  {
   "cell_type": "markdown",
   "id": "1f0d9c14",
   "metadata": {},
   "source": [
    "# 9. 파일 제출"
   ]
  },
  {
   "cell_type": "code",
   "execution_count": 21,
   "id": "d7164a96",
   "metadata": {},
   "outputs": [],
   "source": [
    "pd.DataFrame({'TargetClass' : pred}).to_csv('star_submission.csv', index =  False)"
   ]
  },
  {
   "cell_type": "code",
   "execution_count": 22,
   "id": "4679e398",
   "metadata": {
    "scrolled": false
   },
   "outputs": [
    {
     "data": {
      "text/html": [
       "<div>\n",
       "<style scoped>\n",
       "    .dataframe tbody tr th:only-of-type {\n",
       "        vertical-align: middle;\n",
       "    }\n",
       "\n",
       "    .dataframe tbody tr th {\n",
       "        vertical-align: top;\n",
       "    }\n",
       "\n",
       "    .dataframe thead th {\n",
       "        text-align: right;\n",
       "    }\n",
       "</style>\n",
       "<table border=\"1\" class=\"dataframe\">\n",
       "  <thead>\n",
       "    <tr style=\"text-align: right;\">\n",
       "      <th></th>\n",
       "      <th>TargetClass</th>\n",
       "    </tr>\n",
       "  </thead>\n",
       "  <tbody>\n",
       "    <tr>\n",
       "      <th>0</th>\n",
       "      <td>0</td>\n",
       "    </tr>\n",
       "    <tr>\n",
       "      <th>1</th>\n",
       "      <td>0</td>\n",
       "    </tr>\n",
       "    <tr>\n",
       "      <th>2</th>\n",
       "      <td>1</td>\n",
       "    </tr>\n",
       "    <tr>\n",
       "      <th>3</th>\n",
       "      <td>0</td>\n",
       "    </tr>\n",
       "    <tr>\n",
       "      <th>4</th>\n",
       "      <td>0</td>\n",
       "    </tr>\n",
       "    <tr>\n",
       "      <th>...</th>\n",
       "      <td>...</td>\n",
       "    </tr>\n",
       "    <tr>\n",
       "      <th>1088</th>\n",
       "      <td>1</td>\n",
       "    </tr>\n",
       "    <tr>\n",
       "      <th>1089</th>\n",
       "      <td>0</td>\n",
       "    </tr>\n",
       "    <tr>\n",
       "      <th>1090</th>\n",
       "      <td>1</td>\n",
       "    </tr>\n",
       "    <tr>\n",
       "      <th>1091</th>\n",
       "      <td>0</td>\n",
       "    </tr>\n",
       "    <tr>\n",
       "      <th>1092</th>\n",
       "      <td>0</td>\n",
       "    </tr>\n",
       "  </tbody>\n",
       "</table>\n",
       "<p>1093 rows × 1 columns</p>\n",
       "</div>"
      ],
      "text/plain": [
       "      TargetClass\n",
       "0               0\n",
       "1               0\n",
       "2               1\n",
       "3               0\n",
       "4               0\n",
       "...           ...\n",
       "1088            1\n",
       "1089            0\n",
       "1090            1\n",
       "1091            0\n",
       "1092            0\n",
       "\n",
       "[1093 rows x 1 columns]"
      ]
     },
     "execution_count": 22,
     "metadata": {},
     "output_type": "execute_result"
    }
   ],
   "source": [
    "df =  pd.read_csv('./star_submission.csv')\n",
    "df"
   ]
  },
  {
   "cell_type": "code",
   "execution_count": null,
   "id": "33354843",
   "metadata": {},
   "outputs": [],
   "source": []
  }
 ],
 "metadata": {
  "kernelspec": {
   "display_name": "Python 3",
   "language": "python",
   "name": "python3"
  },
  "language_info": {
   "codemirror_mode": {
    "name": "ipython",
    "version": 3
   },
   "file_extension": ".py",
   "mimetype": "text/x-python",
   "name": "python",
   "nbconvert_exporter": "python",
   "pygments_lexer": "ipython3",
   "version": "3.9.5"
  }
 },
 "nbformat": 4,
 "nbformat_minor": 5
}
