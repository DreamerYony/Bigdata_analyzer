{
 "cells": [
  {
   "cell_type": "markdown",
   "id": "fc008ee5",
   "metadata": {},
   "source": [
    "# 💒 Mobile Price 예측 모델링 - simple version\n",
    "- Mobile_Price(Classification).ipynb 파일과 같은 과제를 수행합니다.\n",
    "- 변수를 유형에 따라 분리하는 단계와 스케일링 수행 단계를 생략하여 전체 코드를 간략하게 줄였습니다."
   ]
  },
  {
   "cell_type": "markdown",
   "id": "a6fcc9ab",
   "metadata": {},
   "source": [
    "### 💒 문제\n",
    "- 주어진 학습용 데이터 X_train.csv를 활용하여 모바일 폰의 가격 범위(price_range)를 예측하는 모형을 만들고, 평가용 데이터 X_test.csv에 적용하여 가격 범위 예측값을 확률로 만들어 csv 파일로 생성하시오.(평가 지표는 ROC-AUC)"
   ]
  },
  {
   "cell_type": "markdown",
   "id": "5d4bdc8b",
   "metadata": {},
   "source": [
    "### 💒 힌트\n",
    "- 분류 과제인지 회귀 과제인지 우선 파악해야 합니다.\n",
    "- 평가 지표로 ROC-AUC를 사용하라고 한 것으로 보아 분류과제입니다. 이에 맞는 예측 모형으로 분류에 적합한 모형을 선정해야 합니다.\n",
    "- 분류 과제에서는 pred와 proba가 모두 사용될 수 있으므로 무엇을 도출해야 하는지 파악합니다. 여기서는 확률을 요구하고 있으므로 proba를 사용합니다. \n",
    "- proba로 확률값을 요구하는 경우에는 평가지표로 ROC-AUC가 사용됩니다."
   ]
  },
  {
   "cell_type": "markdown",
   "id": "37de0bcd",
   "metadata": {},
   "source": [
    "# 1. 필요한 패키지 불러오기"
   ]
  },
  {
   "cell_type": "code",
   "execution_count": 1,
   "id": "f2e77425",
   "metadata": {},
   "outputs": [],
   "source": [
    "import pandas as pd\n",
    "import numpy as np\n",
    "import warnings\n",
    "\n",
    "warnings.filterwarnings(\"ignore\")"
   ]
  },
  {
   "cell_type": "markdown",
   "id": "953d63a4",
   "metadata": {},
   "source": [
    "# 2. 데이터 읽어오기"
   ]
  },
  {
   "cell_type": "code",
   "execution_count": 2,
   "id": "4842d244",
   "metadata": {},
   "outputs": [],
   "source": [
    "X_train = pd.read_csv(\"./Mobile_price_X_train.csv\")\n",
    "X_test = pd.read_csv(\"./Mobile_price_X_test.csv\")\n",
    "y_train = pd.read_csv(\"./Mobile_price_y_train.csv\")"
   ]
  },
  {
   "cell_type": "markdown",
   "id": "fb058f91",
   "metadata": {},
   "source": [
    "# 3. info() 함수로 기본 정보 확인"
   ]
  },
  {
   "cell_type": "code",
   "execution_count": 3,
   "id": "ebd7703d",
   "metadata": {},
   "outputs": [
    {
     "name": "stdout",
     "output_type": "stream",
     "text": [
      "<class 'pandas.core.frame.DataFrame'>\n",
      "RangeIndex: 1000 entries, 0 to 999\n",
      "Data columns (total 13 columns):\n",
      " #   Column         Non-Null Count  Dtype  \n",
      "---  ------         --------------  -----  \n",
      " 0   battery_power  998 non-null    float64\n",
      " 1   clock_speed    1000 non-null   float64\n",
      " 2   fc             1000 non-null   int64  \n",
      " 3   int_memory     1000 non-null   int64  \n",
      " 4   m_dep          1000 non-null   float64\n",
      " 5   mobile_wt      1000 non-null   int64  \n",
      " 6   n_cores        1000 non-null   int64  \n",
      " 7   pc             1000 non-null   int64  \n",
      " 8   px_height      1000 non-null   int64  \n",
      " 9   px_width       1000 non-null   int64  \n",
      " 10  ram            1000 non-null   int64  \n",
      " 11  sc_h           1000 non-null   int64  \n",
      " 12  sc_w           1000 non-null   int64  \n",
      "dtypes: float64(3), int64(10)\n",
      "memory usage: 101.7 KB\n"
     ]
    }
   ],
   "source": [
    "X_train.info()"
   ]
  },
  {
   "cell_type": "code",
   "execution_count": 4,
   "id": "2046c4c3",
   "metadata": {},
   "outputs": [
    {
     "name": "stdout",
     "output_type": "stream",
     "text": [
      "<class 'pandas.core.frame.DataFrame'>\n",
      "RangeIndex: 500 entries, 0 to 499\n",
      "Data columns (total 13 columns):\n",
      " #   Column         Non-Null Count  Dtype  \n",
      "---  ------         --------------  -----  \n",
      " 0   battery_power  500 non-null    int64  \n",
      " 1   clock_speed    500 non-null    float64\n",
      " 2   fc             500 non-null    int64  \n",
      " 3   int_memory     500 non-null    int64  \n",
      " 4   m_dep          500 non-null    float64\n",
      " 5   mobile_wt      500 non-null    int64  \n",
      " 6   n_cores        500 non-null    int64  \n",
      " 7   pc             500 non-null    int64  \n",
      " 8   px_height      500 non-null    int64  \n",
      " 9   px_width       500 non-null    int64  \n",
      " 10  ram            500 non-null    int64  \n",
      " 11  sc_h           500 non-null    int64  \n",
      " 12  sc_w           500 non-null    int64  \n",
      "dtypes: float64(2), int64(11)\n",
      "memory usage: 50.9 KB\n"
     ]
    }
   ],
   "source": [
    "X_test.info()"
   ]
  },
  {
   "cell_type": "code",
   "execution_count": 5,
   "id": "8795395f",
   "metadata": {},
   "outputs": [
    {
     "name": "stdout",
     "output_type": "stream",
     "text": [
      "<class 'pandas.core.frame.DataFrame'>\n",
      "RangeIndex: 1000 entries, 0 to 999\n",
      "Data columns (total 1 columns):\n",
      " #   Column       Non-Null Count  Dtype\n",
      "---  ------       --------------  -----\n",
      " 0   price_range  1000 non-null   int64\n",
      "dtypes: int64(1)\n",
      "memory usage: 7.9 KB\n"
     ]
    }
   ],
   "source": [
    "y_train.info()"
   ]
  },
  {
   "cell_type": "markdown",
   "id": "1d551d8f",
   "metadata": {},
   "source": [
    "# 4. 결측치 처리하기\n",
    "- 여기서는 간단한 수행을 위해 dropna()로 결측치가 포함된 모든 행을 제거하였습니다."
   ]
  },
  {
   "cell_type": "code",
   "execution_count": 6,
   "id": "6955d3da",
   "metadata": {},
   "outputs": [
    {
     "name": "stdout",
     "output_type": "stream",
     "text": [
      "<class 'pandas.core.frame.DataFrame'>\n",
      "Int64Index: 998 entries, 0 to 999\n",
      "Data columns (total 14 columns):\n",
      " #   Column         Non-Null Count  Dtype  \n",
      "---  ------         --------------  -----  \n",
      " 0   battery_power  998 non-null    float64\n",
      " 1   clock_speed    998 non-null    float64\n",
      " 2   fc             998 non-null    int64  \n",
      " 3   int_memory     998 non-null    int64  \n",
      " 4   m_dep          998 non-null    float64\n",
      " 5   mobile_wt      998 non-null    int64  \n",
      " 6   n_cores        998 non-null    int64  \n",
      " 7   pc             998 non-null    int64  \n",
      " 8   px_height      998 non-null    int64  \n",
      " 9   px_width       998 non-null    int64  \n",
      " 10  ram            998 non-null    int64  \n",
      " 11  sc_h           998 non-null    int64  \n",
      " 12  sc_w           998 non-null    int64  \n",
      " 13  price_range    998 non-null    int64  \n",
      "dtypes: float64(3), int64(11)\n",
      "memory usage: 117.0 KB\n"
     ]
    }
   ],
   "source": [
    "train = pd.concat([X_train, y_train], axis=1)\n",
    "train = train.dropna()\n",
    "train.info()"
   ]
  },
  {
   "cell_type": "markdown",
   "id": "83a7edee",
   "metadata": {},
   "source": [
    "# 5. describe() 함수로 요약 통계량 확인하기"
   ]
  },
  {
   "cell_type": "code",
   "execution_count": 7,
   "id": "5fad6789",
   "metadata": {},
   "outputs": [
    {
     "data": {
      "text/html": [
       "<div>\n",
       "<style scoped>\n",
       "    .dataframe tbody tr th:only-of-type {\n",
       "        vertical-align: middle;\n",
       "    }\n",
       "\n",
       "    .dataframe tbody tr th {\n",
       "        vertical-align: top;\n",
       "    }\n",
       "\n",
       "    .dataframe thead th {\n",
       "        text-align: right;\n",
       "    }\n",
       "</style>\n",
       "<table border=\"1\" class=\"dataframe\">\n",
       "  <thead>\n",
       "    <tr style=\"text-align: right;\">\n",
       "      <th></th>\n",
       "      <th>battery_power</th>\n",
       "      <th>clock_speed</th>\n",
       "      <th>fc</th>\n",
       "      <th>int_memory</th>\n",
       "      <th>m_dep</th>\n",
       "      <th>mobile_wt</th>\n",
       "      <th>n_cores</th>\n",
       "      <th>pc</th>\n",
       "      <th>px_height</th>\n",
       "      <th>px_width</th>\n",
       "      <th>ram</th>\n",
       "      <th>sc_h</th>\n",
       "      <th>sc_w</th>\n",
       "      <th>price_range</th>\n",
       "    </tr>\n",
       "  </thead>\n",
       "  <tbody>\n",
       "    <tr>\n",
       "      <th>count</th>\n",
       "      <td>998.000000</td>\n",
       "      <td>998.000000</td>\n",
       "      <td>998.000000</td>\n",
       "      <td>998.000000</td>\n",
       "      <td>998.000000</td>\n",
       "      <td>998.000000</td>\n",
       "      <td>998.000000</td>\n",
       "      <td>998.000000</td>\n",
       "      <td>998.000000</td>\n",
       "      <td>998.000000</td>\n",
       "      <td>998.000000</td>\n",
       "      <td>998.000000</td>\n",
       "      <td>998.000000</td>\n",
       "      <td>998.000000</td>\n",
       "    </tr>\n",
       "    <tr>\n",
       "      <th>mean</th>\n",
       "      <td>1173.311623</td>\n",
       "      <td>1.518337</td>\n",
       "      <td>4.203407</td>\n",
       "      <td>31.628257</td>\n",
       "      <td>0.506914</td>\n",
       "      <td>140.542084</td>\n",
       "      <td>4.447896</td>\n",
       "      <td>9.737475</td>\n",
       "      <td>600.136273</td>\n",
       "      <td>1200.589178</td>\n",
       "      <td>1233.038076</td>\n",
       "      <td>12.273547</td>\n",
       "      <td>5.617234</td>\n",
       "      <td>0.500000</td>\n",
       "    </tr>\n",
       "    <tr>\n",
       "      <th>std</th>\n",
       "      <td>428.594180</td>\n",
       "      <td>0.831860</td>\n",
       "      <td>4.331280</td>\n",
       "      <td>18.040050</td>\n",
       "      <td>0.288012</td>\n",
       "      <td>36.030157</td>\n",
       "      <td>2.292281</td>\n",
       "      <td>6.110091</td>\n",
       "      <td>412.413027</td>\n",
       "      <td>426.424588</td>\n",
       "      <td>611.904030</td>\n",
       "      <td>4.217545</td>\n",
       "      <td>4.208196</td>\n",
       "      <td>0.500251</td>\n",
       "    </tr>\n",
       "    <tr>\n",
       "      <th>min</th>\n",
       "      <td>501.000000</td>\n",
       "      <td>0.500000</td>\n",
       "      <td>0.000000</td>\n",
       "      <td>2.000000</td>\n",
       "      <td>0.100000</td>\n",
       "      <td>80.000000</td>\n",
       "      <td>1.000000</td>\n",
       "      <td>0.000000</td>\n",
       "      <td>0.000000</td>\n",
       "      <td>500.000000</td>\n",
       "      <td>256.000000</td>\n",
       "      <td>5.000000</td>\n",
       "      <td>0.000000</td>\n",
       "      <td>0.000000</td>\n",
       "    </tr>\n",
       "    <tr>\n",
       "      <th>25%</th>\n",
       "      <td>808.250000</td>\n",
       "      <td>0.600000</td>\n",
       "      <td>1.000000</td>\n",
       "      <td>16.000000</td>\n",
       "      <td>0.200000</td>\n",
       "      <td>109.000000</td>\n",
       "      <td>2.000000</td>\n",
       "      <td>4.000000</td>\n",
       "      <td>276.500000</td>\n",
       "      <td>831.000000</td>\n",
       "      <td>704.250000</td>\n",
       "      <td>9.000000</td>\n",
       "      <td>2.000000</td>\n",
       "      <td>0.000000</td>\n",
       "    </tr>\n",
       "    <tr>\n",
       "      <th>50%</th>\n",
       "      <td>1138.000000</td>\n",
       "      <td>1.500000</td>\n",
       "      <td>3.000000</td>\n",
       "      <td>31.000000</td>\n",
       "      <td>0.500000</td>\n",
       "      <td>141.000000</td>\n",
       "      <td>4.000000</td>\n",
       "      <td>10.000000</td>\n",
       "      <td>518.000000</td>\n",
       "      <td>1183.500000</td>\n",
       "      <td>1209.500000</td>\n",
       "      <td>12.000000</td>\n",
       "      <td>5.000000</td>\n",
       "      <td>0.500000</td>\n",
       "    </tr>\n",
       "    <tr>\n",
       "      <th>75%</th>\n",
       "      <td>1522.750000</td>\n",
       "      <td>2.300000</td>\n",
       "      <td>7.000000</td>\n",
       "      <td>47.000000</td>\n",
       "      <td>0.800000</td>\n",
       "      <td>172.000000</td>\n",
       "      <td>6.000000</td>\n",
       "      <td>15.000000</td>\n",
       "      <td>879.750000</td>\n",
       "      <td>1533.500000</td>\n",
       "      <td>1700.500000</td>\n",
       "      <td>16.000000</td>\n",
       "      <td>8.000000</td>\n",
       "      <td>1.000000</td>\n",
       "    </tr>\n",
       "    <tr>\n",
       "      <th>max</th>\n",
       "      <td>1996.000000</td>\n",
       "      <td>3.000000</td>\n",
       "      <td>19.000000</td>\n",
       "      <td>64.000000</td>\n",
       "      <td>1.000000</td>\n",
       "      <td>200.000000</td>\n",
       "      <td>8.000000</td>\n",
       "      <td>20.000000</td>\n",
       "      <td>1914.000000</td>\n",
       "      <td>1998.000000</td>\n",
       "      <td>2811.000000</td>\n",
       "      <td>19.000000</td>\n",
       "      <td>18.000000</td>\n",
       "      <td>1.000000</td>\n",
       "    </tr>\n",
       "  </tbody>\n",
       "</table>\n",
       "</div>"
      ],
      "text/plain": [
       "       battery_power  clock_speed          fc  int_memory       m_dep  \\\n",
       "count     998.000000   998.000000  998.000000  998.000000  998.000000   \n",
       "mean     1173.311623     1.518337    4.203407   31.628257    0.506914   \n",
       "std       428.594180     0.831860    4.331280   18.040050    0.288012   \n",
       "min       501.000000     0.500000    0.000000    2.000000    0.100000   \n",
       "25%       808.250000     0.600000    1.000000   16.000000    0.200000   \n",
       "50%      1138.000000     1.500000    3.000000   31.000000    0.500000   \n",
       "75%      1522.750000     2.300000    7.000000   47.000000    0.800000   \n",
       "max      1996.000000     3.000000   19.000000   64.000000    1.000000   \n",
       "\n",
       "        mobile_wt     n_cores          pc    px_height     px_width  \\\n",
       "count  998.000000  998.000000  998.000000   998.000000   998.000000   \n",
       "mean   140.542084    4.447896    9.737475   600.136273  1200.589178   \n",
       "std     36.030157    2.292281    6.110091   412.413027   426.424588   \n",
       "min     80.000000    1.000000    0.000000     0.000000   500.000000   \n",
       "25%    109.000000    2.000000    4.000000   276.500000   831.000000   \n",
       "50%    141.000000    4.000000   10.000000   518.000000  1183.500000   \n",
       "75%    172.000000    6.000000   15.000000   879.750000  1533.500000   \n",
       "max    200.000000    8.000000   20.000000  1914.000000  1998.000000   \n",
       "\n",
       "               ram        sc_h        sc_w  price_range  \n",
       "count   998.000000  998.000000  998.000000   998.000000  \n",
       "mean   1233.038076   12.273547    5.617234     0.500000  \n",
       "std     611.904030    4.217545    4.208196     0.500251  \n",
       "min     256.000000    5.000000    0.000000     0.000000  \n",
       "25%     704.250000    9.000000    2.000000     0.000000  \n",
       "50%    1209.500000   12.000000    5.000000     0.500000  \n",
       "75%    1700.500000   16.000000    8.000000     1.000000  \n",
       "max    2811.000000   19.000000   18.000000     1.000000  "
      ]
     },
     "execution_count": 7,
     "metadata": {},
     "output_type": "execute_result"
    }
   ],
   "source": [
    "train.describe()"
   ]
  },
  {
   "cell_type": "markdown",
   "id": "c770d7c8",
   "metadata": {},
   "source": [
    "- concat으로 합친 train 데이터셋을 다시 원래의 컬럼대로 분리합니다."
   ]
  },
  {
   "cell_type": "code",
   "execution_count": 8,
   "id": "ad1bf6dc",
   "metadata": {},
   "outputs": [],
   "source": [
    "x_train = train[['battery_power', 'clock_speed', 'fc', 'int_memory', 'm_dep',\n",
    "       'mobile_wt', 'n_cores', 'pc', 'px_height', 'px_width', 'ram', 'sc_h',\n",
    "       'sc_w']]\n",
    "y_train = train[['price_range']]"
   ]
  },
  {
   "cell_type": "markdown",
   "id": "3dec1466",
   "metadata": {},
   "source": [
    "# 6. 학습용 데이터셋과 검증용 데이터셋 분리"
   ]
  },
  {
   "cell_type": "code",
   "execution_count": 9,
   "id": "f7ec464d",
   "metadata": {},
   "outputs": [],
   "source": [
    "from sklearn.model_selection import train_test_split\n",
    "\n",
    "x_tr, x_valid, y_tr, y_valid = train_test_split(x_train, y_train['price_range'], \n",
    "                                                test_size = 0.3, stratify = y_train['price_range'])"
   ]
  },
  {
   "cell_type": "markdown",
   "id": "8044d8f6",
   "metadata": {},
   "source": [
    "# 7. 모델 학습"
   ]
  },
  {
   "cell_type": "code",
   "execution_count": 10,
   "id": "37491bff",
   "metadata": {},
   "outputs": [
    {
     "data": {
      "text/plain": [
       "RandomForestClassifier(random_state=42)"
      ]
     },
     "execution_count": 10,
     "metadata": {},
     "output_type": "execute_result"
    }
   ],
   "source": [
    "from sklearn.ensemble import RandomForestClassifier\n",
    "\n",
    "modelRF = RandomForestClassifier(random_state = 42)\n",
    "modelRF.fit(x_tr, y_tr)"
   ]
  },
  {
   "cell_type": "markdown",
   "id": "fdc81036",
   "metadata": {},
   "source": [
    "# 8. 모델 평가"
   ]
  },
  {
   "cell_type": "code",
   "execution_count": 11,
   "id": "a1c754d7",
   "metadata": {},
   "outputs": [],
   "source": [
    "y_validation_pred_proba = modelRF.predict_proba(x_valid)"
   ]
  },
  {
   "cell_type": "code",
   "execution_count": 12,
   "id": "77dc6db3",
   "metadata": {},
   "outputs": [
    {
     "name": "stdout",
     "output_type": "stream",
     "text": [
      "0.9843999999999999\n"
     ]
    }
   ],
   "source": [
    "from sklearn.metrics import roc_auc_score\n",
    "\n",
    "roc_auc = roc_auc_score(y_valid, y_validation_pred_proba[:,1])\n",
    "print(roc_auc)"
   ]
  },
  {
   "cell_type": "markdown",
   "id": "935f734f",
   "metadata": {},
   "source": [
    "- validation으로 평가한 결과, 결측치를 대체하고 스케일링을 수행했던 기존 버전보다 더 높은 성능입니다. 😂\n",
    "- 하이퍼 파라미터로 튜닝을 하거나 여러 단계로 스케일링을 거친 이후에 오히려 성능이 떨어질 수 있다는 것을 알 수 있습니다.😂"
   ]
  },
  {
   "cell_type": "markdown",
   "id": "a880badd",
   "metadata": {},
   "source": [
    "# 9. 파일 제출"
   ]
  },
  {
   "cell_type": "code",
   "execution_count": 13,
   "id": "f079ea95",
   "metadata": {},
   "outputs": [
    {
     "data": {
      "text/html": [
       "<div>\n",
       "<style scoped>\n",
       "    .dataframe tbody tr th:only-of-type {\n",
       "        vertical-align: middle;\n",
       "    }\n",
       "\n",
       "    .dataframe tbody tr th {\n",
       "        vertical-align: top;\n",
       "    }\n",
       "\n",
       "    .dataframe thead th {\n",
       "        text-align: right;\n",
       "    }\n",
       "</style>\n",
       "<table border=\"1\" class=\"dataframe\">\n",
       "  <thead>\n",
       "    <tr style=\"text-align: right;\">\n",
       "      <th></th>\n",
       "      <th>pred</th>\n",
       "    </tr>\n",
       "  </thead>\n",
       "  <tbody>\n",
       "    <tr>\n",
       "      <th>0</th>\n",
       "      <td>0.75</td>\n",
       "    </tr>\n",
       "    <tr>\n",
       "      <th>1</th>\n",
       "      <td>0.91</td>\n",
       "    </tr>\n",
       "    <tr>\n",
       "      <th>2</th>\n",
       "      <td>0.10</td>\n",
       "    </tr>\n",
       "    <tr>\n",
       "      <th>3</th>\n",
       "      <td>0.92</td>\n",
       "    </tr>\n",
       "    <tr>\n",
       "      <th>4</th>\n",
       "      <td>0.92</td>\n",
       "    </tr>\n",
       "    <tr>\n",
       "      <th>...</th>\n",
       "      <td>...</td>\n",
       "    </tr>\n",
       "    <tr>\n",
       "      <th>495</th>\n",
       "      <td>0.81</td>\n",
       "    </tr>\n",
       "    <tr>\n",
       "      <th>496</th>\n",
       "      <td>0.23</td>\n",
       "    </tr>\n",
       "    <tr>\n",
       "      <th>497</th>\n",
       "      <td>0.25</td>\n",
       "    </tr>\n",
       "    <tr>\n",
       "      <th>498</th>\n",
       "      <td>0.98</td>\n",
       "    </tr>\n",
       "    <tr>\n",
       "      <th>499</th>\n",
       "      <td>0.91</td>\n",
       "    </tr>\n",
       "  </tbody>\n",
       "</table>\n",
       "<p>500 rows × 1 columns</p>\n",
       "</div>"
      ],
      "text/plain": [
       "     pred\n",
       "0    0.75\n",
       "1    0.91\n",
       "2    0.10\n",
       "3    0.92\n",
       "4    0.92\n",
       "..    ...\n",
       "495  0.81\n",
       "496  0.23\n",
       "497  0.25\n",
       "498  0.98\n",
       "499  0.91\n",
       "\n",
       "[500 rows x 1 columns]"
      ]
     },
     "execution_count": 13,
     "metadata": {},
     "output_type": "execute_result"
    }
   ],
   "source": [
    "pred = modelRF.predict_proba(X_test)[:,1]\n",
    "result = pd.DataFrame({'pred':pred}).to_csv('수험번호.csv', index=False)\n",
    "df = pd.read_csv('./수험번호.csv')\n",
    "df"
   ]
  }
 ],
 "metadata": {
  "kernelspec": {
   "display_name": "Python 3",
   "language": "python",
   "name": "python3"
  },
  "language_info": {
   "codemirror_mode": {
    "name": "ipython",
    "version": 3
   },
   "file_extension": ".py",
   "mimetype": "text/x-python",
   "name": "python",
   "nbconvert_exporter": "python",
   "pygments_lexer": "ipython3",
   "version": "3.9.5"
  }
 },
 "nbformat": 4,
 "nbformat_minor": 5
}
