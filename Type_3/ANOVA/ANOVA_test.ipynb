{
 "cells": [
  {
   "cell_type": "markdown",
   "id": "bcaf2a6a",
   "metadata": {},
   "source": [
    "# 🍁 ANOVA(일원분산분석) with 로지스틱 회귀분석\n",
    "- ANOVA는 하나의 범주형 독립 변수와 하나의 연속형 종속 변수 간의 관계를 파악하는 데 사용되는 통계적 방법입니다.\n",
    "- 주로 범주형 독립 변수가 세 개 이상의 수준을 가지는 경우에 사용됩니다. \n",
    "- 여러 수준(그룹) 간의 평균 차이를 비교하여 그 차이가 우연적인 것인지를 판단합니다.\n",
    "- 귀무가설은 각 그룹의 평균이 같다는 것입니다."
   ]
  },
  {
   "cell_type": "markdown",
   "id": "c097b072",
   "metadata": {},
   "source": [
    "### 🍁 문제\n",
    "- 제공된 데이터는 타이타닉 데이터셋이다. 아래 데이터를 이용하여 생존 여부(Survived)를 예측하고자 한다.\n",
    "1. 승선 티켓 등급(Pclass) 변수에 따라 요금(Fare) 변수가 달라지는지 일원분산분석을 실시할 때 F-통계량은 얼마인가?\n",
    "2. Pclass, SibSp, Parch, Fare를 독립 변수로 사용하여 로지스틱 회귀모형을 만들었을 때, 요금 (Fare) 변수의 계수값은?(반올림하여 소수 둘째자리까지 계산)\n",
    "3. 2번 문제에서 추정된 로지스틱 회귀모형에서 Parch 변수가 한 단위 증가할 때 생존할 오즈비 값은?(반올림하여 소수 둘째자리까지 계산)  \n",
    "(* 주어진 데이터는 정규성과 등분산성을 만족한다고 가정한다.)"
   ]
  },
  {
   "cell_type": "markdown",
   "id": "4f3b373d",
   "metadata": {},
   "source": [
    "### 🍁 힌트\n",
    "- 승선 티켓 등급(Pclass)은 범주형 독립 변수이고, 요금(Fare)은 연속형 종속 변수입니다.\n",
    "- 승선 티켓 등급(Pclass)은 세 개의 범주를 가지고 있습니다.\n",
    "- ANOVA는 stats.f_oneway에서 f_oneway를 임포트하여 사용할 수 있습니다."
   ]
  },
  {
   "cell_type": "markdown",
   "id": "0fb16c6d",
   "metadata": {},
   "source": [
    "### 🍁 1번 문제\n",
    "- 승선 티켓 등급(Pclass) 변수에 따라 요금(Fare) 변수가 달라지는지 일원분산분석을 실시할 때 F-통계량은 얼마인가?"
   ]
  },
  {
   "cell_type": "code",
   "execution_count": 1,
   "id": "f218820d",
   "metadata": {},
   "outputs": [],
   "source": [
    "import pandas as pd\n",
    "import numpy as np\n",
    "\n",
    "df = pd.read_csv('../../datasets/Part3/titanic.csv')"
   ]
  },
  {
   "cell_type": "code",
   "execution_count": 2,
   "id": "cc6c7c2d",
   "metadata": {},
   "outputs": [
    {
     "name": "stdout",
     "output_type": "stream",
     "text": [
      "<class 'pandas.core.frame.DataFrame'>\n",
      "RangeIndex: 891 entries, 0 to 890\n",
      "Data columns (total 12 columns):\n",
      " #   Column       Non-Null Count  Dtype  \n",
      "---  ------       --------------  -----  \n",
      " 0   PassengerId  891 non-null    int64  \n",
      " 1   Survived     891 non-null    int64  \n",
      " 2   Pclass       891 non-null    int64  \n",
      " 3   Name         891 non-null    object \n",
      " 4   Sex          891 non-null    object \n",
      " 5   Age          714 non-null    float64\n",
      " 6   SibSp        891 non-null    int64  \n",
      " 7   Parch        891 non-null    int64  \n",
      " 8   Ticket       891 non-null    object \n",
      " 9   Fare         891 non-null    float64\n",
      " 10  Cabin        773 non-null    object \n",
      " 11  Embarked     889 non-null    object \n",
      "dtypes: float64(2), int64(5), object(5)\n",
      "memory usage: 83.7+ KB\n"
     ]
    }
   ],
   "source": [
    "df.info()"
   ]
  },
  {
   "cell_type": "markdown",
   "id": "4ada58f9",
   "metadata": {},
   "source": [
    "- 💦 f_oneway 함수는 각 그룹의 데이터를 배열(array) 형태로 입력으로 받습니다. 따라서 각 승선 클래스마다 요금 컬럼을 가져와야 합니다."
   ]
  },
  {
   "cell_type": "code",
   "execution_count": 3,
   "id": "b6868389",
   "metadata": {},
   "outputs": [
    {
     "data": {
      "text/plain": [
       "1      71.2833\n",
       "3      53.1000\n",
       "6      51.8625\n",
       "11     26.5500\n",
       "23     35.5000\n",
       "        ...   \n",
       "871    52.5542\n",
       "872     5.0000\n",
       "879    83.1583\n",
       "887    30.0000\n",
       "889    30.0000\n",
       "Name: Fare, Length: 216, dtype: float64"
      ]
     },
     "execution_count": 3,
     "metadata": {},
     "output_type": "execute_result"
    }
   ],
   "source": [
    "from scipy.stats import f_oneway\n",
    "\n",
    "pclass_1 = df[df['Pclass'] == 1]['Fare']\n",
    "pclass_2 = df[df['Pclass'] == 2]['Fare']\n",
    "pclass_3 = df[df['Pclass'] == 3]['Fare']\n",
    "\n",
    "pclass_1"
   ]
  },
  {
   "cell_type": "code",
   "execution_count": 4,
   "id": "96431da1",
   "metadata": {},
   "outputs": [
    {
     "name": "stdout",
     "output_type": "stream",
     "text": [
      "f-통계량 : 242.34415651744814\n",
      "p-value : 1.0313763209141171e-84\n"
     ]
    }
   ],
   "source": [
    "f_statistics, p_value = f_oneway(pclass_1, pclass_2, pclass_3)\n",
    "print('f-통계량 :', f_statistics)\n",
    "print('p-value :', p_value)"
   ]
  },
  {
   "cell_type": "code",
   "execution_count": 5,
   "id": "17e3974d",
   "metadata": {},
   "outputs": [
    {
     "name": "stdout",
     "output_type": "stream",
     "text": [
      "f-통계량(소수점 둘째자리 까지) : 242.34\n",
      "귀무가설 기각\n"
     ]
    }
   ],
   "source": [
    "print('f-통계량(소수점 둘째자리 까지) :', round(f_statistics, 2))\n",
    "if p_value > 0.05 : \n",
    "    print('귀무가설 채택')\n",
    "else : \n",
    "    print('귀무가설 기각')"
   ]
  },
  {
   "cell_type": "markdown",
   "id": "b4d96948",
   "metadata": {},
   "source": [
    "### 🍁 2번 문제\n",
    "- Pclass, SibSp, Parch, Fare를 독립 변수로 사용하여 로지스틱 회귀모형을 만들었을 때, 요금 (Fare) 변수의 계수값은?(반올림하여 소수 둘째자리까지 계산)"
   ]
  },
  {
   "cell_type": "code",
   "execution_count": 6,
   "id": "32f965e6",
   "metadata": {},
   "outputs": [
    {
     "name": "stdout",
     "output_type": "stream",
     "text": [
      "Optimization terminated successfully.\n",
      "         Current function value: 0.599982\n",
      "         Iterations 6\n",
      "                           Logit Regression Results                           \n",
      "==============================================================================\n",
      "Dep. Variable:               Survived   No. Observations:                  891\n",
      "Model:                          Logit   Df Residuals:                      886\n",
      "Method:                           MLE   Df Model:                            4\n",
      "Date:                Mon, 17 Jun 2024   Pseudo R-squ.:                 0.09901\n",
      "Time:                        17:28:37   Log-Likelihood:                -534.58\n",
      "converged:                       True   LL-Null:                       -593.33\n",
      "Covariance Type:            nonrobust   LLR p-value:                 1.838e-24\n",
      "==============================================================================\n",
      "                 coef    std err          z      P>|z|      [0.025      0.975]\n",
      "------------------------------------------------------------------------------\n",
      "Intercept      0.9117      0.300      3.035      0.002       0.323       1.501\n",
      "Pclass        -0.6953      0.112     -6.188      0.000      -0.916      -0.475\n",
      "SibSp         -0.1465      0.081     -1.812      0.070      -0.305       0.012\n",
      "Parch          0.2557      0.099      2.580      0.010       0.061       0.450\n",
      "Fare           0.0051      0.002      2.097      0.036       0.000       0.010\n",
      "==============================================================================\n"
     ]
    }
   ],
   "source": [
    "from statsmodels.formula.api import logit\n",
    "\n",
    "result = logit('Survived ~ Pclass + SibSp + Parch + Fare', data=df).fit().summary()\n",
    "print(result)"
   ]
  },
  {
   "cell_type": "code",
   "execution_count": 7,
   "id": "85cbeafd",
   "metadata": {},
   "outputs": [
    {
     "name": "stdout",
     "output_type": "stream",
     "text": [
      "Fare의 계수 :  0.01\n"
     ]
    }
   ],
   "source": [
    "print('Fare의 계수 : ', round(0.0051, 2))"
   ]
  },
  {
   "cell_type": "markdown",
   "id": "beaa6dfe",
   "metadata": {},
   "source": [
    "### 🍁 3번 문제\n",
    "- 2번 문제에서 추정된 로지스틱 회귀모형에서 Parch 변수가 한 단위 증가할 때 생존할 오즈비 값은?"
   ]
  },
  {
   "cell_type": "code",
   "execution_count": 8,
   "id": "b06f4eb8",
   "metadata": {},
   "outputs": [
    {
     "name": "stdout",
     "output_type": "stream",
     "text": [
      "Optimization terminated successfully.\n",
      "         Current function value: 0.599982\n",
      "         Iterations 6\n",
      "Intercept    0.911733\n",
      "Pclass      -0.695311\n",
      "SibSp       -0.146508\n",
      "Parch        0.255708\n",
      "Fare         0.005073\n",
      "dtype: float64\n"
     ]
    }
   ],
   "source": [
    "result2 = logit('Survived ~ Pclass + SibSp + Parch + Fare', data=df).fit().params\n",
    "print(result2)"
   ]
  },
  {
   "cell_type": "markdown",
   "id": "d612d6df",
   "metadata": {},
   "source": [
    "- 로지스틱 회귀 모델에서 계수는 독립 변수의 값이 한 단위 증가할 때 종속 변수의 자연로그 오즈비가 얼마나 변하는지를 나타냅니다. 이 값을 오즈비(odds ratio)로 변환하려면 지수 함수(exponential function)를 사용해야 합니다.\n",
    "- 지수 함수로 바꾸기 위해 np.exp()를 사용합니다."
   ]
  },
  {
   "cell_type": "code",
   "execution_count": 9,
   "id": "214ae0af",
   "metadata": {},
   "outputs": [
    {
     "name": "stdout",
     "output_type": "stream",
     "text": [
      "오즈비 :  1.2913757420871537\n"
     ]
    }
   ],
   "source": [
    "print('오즈비 : ', np.exp(result2['Parch']))"
   ]
  },
  {
   "cell_type": "code",
   "execution_count": 10,
   "id": "b2fc5ce5",
   "metadata": {},
   "outputs": [
    {
     "name": "stdout",
     "output_type": "stream",
     "text": [
      "1.29\n"
     ]
    }
   ],
   "source": [
    "print(round(np.exp(result2['Parch']), 2)) # 오즈비가 클수록 해당 독립 변수가 종속 변수에 영향 많이 끼침"
   ]
  },
  {
   "cell_type": "code",
   "execution_count": null,
   "id": "81b0d86a",
   "metadata": {},
   "outputs": [],
   "source": []
  }
 ],
 "metadata": {
  "kernelspec": {
   "display_name": "Python 3",
   "language": "python",
   "name": "python3"
  },
  "language_info": {
   "codemirror_mode": {
    "name": "ipython",
    "version": 3
   },
   "file_extension": ".py",
   "mimetype": "text/x-python",
   "name": "python",
   "nbconvert_exporter": "python",
   "pygments_lexer": "ipython3",
   "version": "3.9.5"
  }
 },
 "nbformat": 4,
 "nbformat_minor": 5
}
