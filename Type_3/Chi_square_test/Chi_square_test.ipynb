{
 "cells": [
  {
   "cell_type": "markdown",
   "id": "8c51224f",
   "metadata": {},
   "source": [
    "# 🥝 카이제곱 검정 with 로지스틱 회귀분석\n",
    "- 카이제곱 검정은 범주형 데이터의 분포를 비교하거나 두 변수 간의 연관성 유무를 확인하기 위해 사용합니다. \n",
    "- 적합성 검정과 독립성 검정이 있습니다.\n",
    "- 적합성 검정은 실험에서 관찰된 데이터와 기대 분포(이론적 분포)의 차이를 측정하여, 관찰된 데이터와 기대 분포 간의 차이를 측정하여 이론적 분포를 따르는지 검정합니다.\n",
    "- 독립성 검정은 관찰된 빈도와 기대 빈도의 차이를 측정하여 두 변수 사이의 연관성이나 분포의 일치성을 검정합니다.\n",
    "- 로지스틱 회귀분석은 종속 변수를 예측하는 데 사용합니다.\n",
    "- 문제에서 어떠한 독립 변수를 사용해서 종속 변수를 예측하고자 하는지 잘 확인해서 모델을 만들어야 합니다."
   ]
  },
  {
   "cell_type": "markdown",
   "id": "41a26cec",
   "metadata": {},
   "source": [
    "### 🥝 문제\n",
    "- 제공된 데이터는 타이타닉 데이터셋이다. 아래 데이터를 이용하여 생존 여부(Survived)를 예측하고자 한다. \n",
    "1. 성별(Sex)과 생존 여부(Survived) 변수 간에 독립성 검정을 실시하였을 때 카이제곱 통계량은 얼마인가?\n",
    "2. Sex, SibSp, Parch, Fare를 독립 변수로 사용하여 로지스틱 회귀모형을 만들었을 때, Parch 변수의 계수값은?(반올림하여 소수 셋째자리까지 계산)\n",
    "3. 2번 문제에서 추정된 로지스틱 회귀모형에서 SibSp 변수가 한 단위 증가할 때 생존할 오즈비 값은? (반올림하여 소수 셋째자리까지 계산)"
   ]
  },
  {
   "cell_type": "markdown",
   "id": "9a27222f",
   "metadata": {},
   "source": [
    "### 🥝 힌트\n",
    "- 문제에서 독립성 검정이라는 지시문이 나왔으므로 독립성 검정을 실시합니다.\n",
    "- 독립성 검정은 scipy.stats에서 chisquare 함수를 임포트하여 수행할 수 있습니다.\n",
    "- 로지스틱 회귀모형의 계수값은 logit().fit().summary()의 coef(coefficient)에서 확인 가능합니다."
   ]
  },
  {
   "cell_type": "markdown",
   "id": "2469ffe8",
   "metadata": {},
   "source": [
    "### 🥝 1번 문제 \n",
    "- 성별(Sex)과 생존 여부(Survived) 변수 간에 독립성 검정을 실시하였을 때 카이제곱 통계량은 얼마인가?"
   ]
  },
  {
   "cell_type": "code",
   "execution_count": 1,
   "id": "730f07be",
   "metadata": {},
   "outputs": [],
   "source": [
    "import pandas as pd\n",
    "import numpy as np\n",
    "\n",
    "df = pd.read_csv('../../datasets/Part3/titanic.csv')"
   ]
  },
  {
   "cell_type": "code",
   "execution_count": 2,
   "id": "798ed646",
   "metadata": {},
   "outputs": [
    {
     "name": "stdout",
     "output_type": "stream",
     "text": [
      "<class 'pandas.core.frame.DataFrame'>\n",
      "RangeIndex: 891 entries, 0 to 890\n",
      "Data columns (total 12 columns):\n",
      " #   Column       Non-Null Count  Dtype  \n",
      "---  ------       --------------  -----  \n",
      " 0   PassengerId  891 non-null    int64  \n",
      " 1   Survived     891 non-null    int64  \n",
      " 2   Pclass       891 non-null    int64  \n",
      " 3   Name         891 non-null    object \n",
      " 4   Sex          891 non-null    object \n",
      " 5   Age          714 non-null    float64\n",
      " 6   SibSp        891 non-null    int64  \n",
      " 7   Parch        891 non-null    int64  \n",
      " 8   Ticket       891 non-null    object \n",
      " 9   Fare         891 non-null    float64\n",
      " 10  Cabin        773 non-null    object \n",
      " 11  Embarked     889 non-null    object \n",
      "dtypes: float64(2), int64(5), object(5)\n",
      "memory usage: 83.7+ KB\n"
     ]
    }
   ],
   "source": [
    "df.info()"
   ]
  },
  {
   "cell_type": "markdown",
   "id": "1bac50f8",
   "metadata": {},
   "source": [
    "- 카이제곱 검정 중에서도 독립성 검정을 수행하기 위해서는 먼저 분할표를 만든 뒤 chi2_contingency 함수에 분할표를 입력하여 사용합니다."
   ]
  },
  {
   "cell_type": "code",
   "execution_count": 3,
   "id": "3bfe612f",
   "metadata": {},
   "outputs": [
    {
     "name": "stdout",
     "output_type": "stream",
     "text": [
      "Survived    0    1\n",
      "Sex               \n",
      "female     81  233\n",
      "male      468  109\n"
     ]
    }
   ],
   "source": [
    "table = pd.crosstab(df['Sex'], df['Survived'])\n",
    "print(table)"
   ]
  },
  {
   "cell_type": "code",
   "execution_count": 4,
   "id": "860fc3b8",
   "metadata": {},
   "outputs": [
    {
     "name": "stdout",
     "output_type": "stream",
     "text": [
      "카이제곱 통계량은? : 260.71702016732104\n",
      "p_value는? : 1.1973570627755645e-58\n"
     ]
    }
   ],
   "source": [
    "from scipy.stats import chi2_contingency\n",
    "\n",
    "chi2, p_value, dof, exp = chi2_contingency(table)\n",
    "print('카이제곱 통계량은? :', chi2)\n",
    "print('p_value는? :', p_value)"
   ]
  },
  {
   "cell_type": "code",
   "execution_count": 5,
   "id": "665d6316",
   "metadata": {},
   "outputs": [
    {
     "name": "stdout",
     "output_type": "stream",
     "text": [
      "카이제곱 통계량(소수점 셋째자리) : 260.717\n"
     ]
    }
   ],
   "source": [
    "print('카이제곱 통계량(소수점 셋째자리) :', round(chi2, 3))"
   ]
  },
  {
   "cell_type": "code",
   "execution_count": 6,
   "id": "df0c567e",
   "metadata": {},
   "outputs": [
    {
     "name": "stdout",
     "output_type": "stream",
     "text": [
      "귀무가설 기각\n"
     ]
    }
   ],
   "source": [
    "if p_value > 0.05 :\n",
    "    print('귀무가설 채택')\n",
    "else :\n",
    "    print('귀무가설 기각')"
   ]
  },
  {
   "cell_type": "markdown",
   "id": "662631a7",
   "metadata": {},
   "source": [
    "### 🥝 2번 문제 \n",
    "- Sex, SibSp, Parch, Fare를 독립 변수로 사용하여 로지스틱 회귀모형을 만들었을 때, Parch 변수의 계수값은?"
   ]
  },
  {
   "cell_type": "code",
   "execution_count": 7,
   "id": "4bd8be5a",
   "metadata": {},
   "outputs": [
    {
     "name": "stdout",
     "output_type": "stream",
     "text": [
      "Optimization terminated successfully.\n",
      "         Current function value: 0.482065\n",
      "         Iterations 6\n",
      "                           Logit Regression Results                           \n",
      "==============================================================================\n",
      "Dep. Variable:               Survived   No. Observations:                  891\n",
      "Model:                          Logit   Df Residuals:                      886\n",
      "Method:                           MLE   Df Model:                            4\n",
      "Date:                Mon, 17 Jun 2024   Pseudo R-squ.:                  0.2761\n",
      "Time:                        15:41:47   Log-Likelihood:                -429.52\n",
      "converged:                       True   LL-Null:                       -593.33\n",
      "Covariance Type:            nonrobust   LLR p-value:                 1.192e-69\n",
      "===============================================================================\n",
      "                  coef    std err          z      P>|z|      [0.025      0.975]\n",
      "-------------------------------------------------------------------------------\n",
      "Intercept       0.9466      0.169      5.590      0.000       0.615       1.279\n",
      "Sex[T.male]    -2.6422      0.186    -14.197      0.000      -3.007      -2.277\n",
      "SibSp          -0.3539      0.098     -3.604      0.000      -0.546      -0.161\n",
      "Parch          -0.2007      0.112     -1.792      0.073      -0.420       0.019\n",
      "Fare            0.0147      0.003      5.553      0.000       0.010       0.020\n",
      "===============================================================================\n"
     ]
    }
   ],
   "source": [
    "from statsmodels.formula.api import logit\n",
    "\n",
    "result = logit('Survived ~ Sex + SibSp + Parch + Fare', data = df).fit().summary()\n",
    "print(result)"
   ]
  },
  {
   "cell_type": "markdown",
   "id": "87d3d00d",
   "metadata": {},
   "source": [
    "- 계수값은 coef를 확인하면 됩니다."
   ]
  },
  {
   "cell_type": "code",
   "execution_count": 8,
   "id": "e55474f7",
   "metadata": {},
   "outputs": [
    {
     "name": "stdout",
     "output_type": "stream",
     "text": [
      "Parch의 계수값은? -0.201\n"
     ]
    }
   ],
   "source": [
    "print('Parch의 계수값은?', round(-0.2007, 3))"
   ]
  },
  {
   "cell_type": "markdown",
   "id": "fb06a2f2",
   "metadata": {},
   "source": [
    "### 🥝 3번 문제\n",
    "- 2번 문제에서 추정된 로지스틱 회귀모형에서 SibSp 변수가 한 단위 증가할 때 생존할 오즈비 값은? "
   ]
  },
  {
   "cell_type": "code",
   "execution_count": 9,
   "id": "6dfdc5c4",
   "metadata": {},
   "outputs": [
    {
     "name": "stdout",
     "output_type": "stream",
     "text": [
      "Optimization terminated successfully.\n",
      "         Current function value: 0.482065\n",
      "         Iterations 6\n",
      "Intercept      0.946635\n",
      "Sex[T.male]   -2.642219\n",
      "SibSp         -0.353892\n",
      "Parch         -0.200724\n",
      "Fare           0.014685\n",
      "dtype: float64\n"
     ]
    }
   ],
   "source": [
    "result2 = logit('Survived ~ Sex + SibSp + Parch + Fare', data=df).fit().params\n",
    "print(result2)"
   ]
  },
  {
   "cell_type": "markdown",
   "id": "9c48f305",
   "metadata": {},
   "source": [
    "- 로지스틱 회귀 모델에서 계수는 독립 변수의 값이 한 단위 증가할 때 종속 변수의 자연로그 오즈비가 얼마나 변하는지를 나타냅니다. 이 값을 오즈비(odds ratio)로 변환하려면 지수 함수(exponential function)를 사용해야 합니다.\n",
    "- 지수 함수로 바꾸기 위해 np.exp()를 사용합니다."
   ]
  },
  {
   "cell_type": "code",
   "execution_count": 10,
   "id": "15ed3375",
   "metadata": {},
   "outputs": [
    {
     "name": "stdout",
     "output_type": "stream",
     "text": [
      "\n",
      "오즈비 :  0.7019508186162718\n"
     ]
    }
   ],
   "source": [
    "print('\\n오즈비 : ', np.exp(result2['SibSp']))"
   ]
  },
  {
   "cell_type": "code",
   "execution_count": 11,
   "id": "3f542a04",
   "metadata": {},
   "outputs": [
    {
     "data": {
      "text/plain": [
       "0.702"
      ]
     },
     "execution_count": 11,
     "metadata": {},
     "output_type": "execute_result"
    }
   ],
   "source": [
    "round(np.exp(result2['SibSp']), 3)"
   ]
  },
  {
   "cell_type": "code",
   "execution_count": null,
   "id": "90f779f0",
   "metadata": {},
   "outputs": [],
   "source": []
  }
 ],
 "metadata": {
  "kernelspec": {
   "display_name": "Python 3",
   "language": "python",
   "name": "python3"
  },
  "language_info": {
   "codemirror_mode": {
    "name": "ipython",
    "version": 3
   },
   "file_extension": ".py",
   "mimetype": "text/x-python",
   "name": "python",
   "nbconvert_exporter": "python",
   "pygments_lexer": "ipython3",
   "version": "3.9.5"
  }
 },
 "nbformat": 4,
 "nbformat_minor": 5
}
