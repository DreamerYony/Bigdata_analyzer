{
 "cells": [
  {
   "cell_type": "markdown",
   "id": "a06b17a2",
   "metadata": {},
   "source": [
    "# 🚙 모평균 검정 - 독립표본 t-검정\n",
    "- 데이터의 정규성과 등분산성을 만족하는 것으로 가정합니다.\n",
    "- 독립표본 t-검정은 두 개의 모집단에서 표본을 독립적으로 추출하여 표본의 평균을 비교합니다."
   ]
  },
  {
   "cell_type": "markdown",
   "id": "ff196116",
   "metadata": {},
   "source": [
    "### 🚙 문제\n",
    "- 주어진 데이터는 타이타닉 데이터셋이다.\n",
    "1. 두 그룹의 표본평균을 구하시오.\n",
    "2. 성별(male, female)에 따라 요금(Fare)의 평균이 일치하는지 독립표본 t-test를 실시하고 검정 통계량과 p-value를 구하시오.\n",
    "3. 귀무가설과 대립가설을 제시하고 귀무가설을 기각할 것인지 채택할 것인지 제시하시오."
   ]
  },
  {
   "cell_type": "markdown",
   "id": "45234858",
   "metadata": {},
   "source": [
    "### 🚙 힌트\n",
    "- 독립표본 t-test는 ttest_ind 함수에 array 형태의 데이터를 넣습니다."
   ]
  },
  {
   "cell_type": "markdown",
   "id": "53f5ed86",
   "metadata": {},
   "source": [
    "### 🚙 1번 문제\n",
    "- 두 그룹의 표본평균을 구하시오."
   ]
  },
  {
   "cell_type": "code",
   "execution_count": 1,
   "id": "ef650749",
   "metadata": {},
   "outputs": [],
   "source": [
    "import pandas as pd\n",
    "import numpy as np\n",
    "\n",
    "df = pd.read_csv('../../datasets/Part3/303_titanic.csv')"
   ]
  },
  {
   "cell_type": "code",
   "execution_count": 2,
   "id": "51e1d857",
   "metadata": {},
   "outputs": [
    {
     "data": {
      "text/html": [
       "<div>\n",
       "<style scoped>\n",
       "    .dataframe tbody tr th:only-of-type {\n",
       "        vertical-align: middle;\n",
       "    }\n",
       "\n",
       "    .dataframe tbody tr th {\n",
       "        vertical-align: top;\n",
       "    }\n",
       "\n",
       "    .dataframe thead th {\n",
       "        text-align: right;\n",
       "    }\n",
       "</style>\n",
       "<table border=\"1\" class=\"dataframe\">\n",
       "  <thead>\n",
       "    <tr style=\"text-align: right;\">\n",
       "      <th></th>\n",
       "      <th>PassengerId</th>\n",
       "      <th>Survived</th>\n",
       "      <th>Pclass</th>\n",
       "      <th>Name</th>\n",
       "      <th>Sex</th>\n",
       "      <th>Age</th>\n",
       "      <th>SibSp</th>\n",
       "      <th>Parch</th>\n",
       "      <th>Ticket</th>\n",
       "      <th>Fare</th>\n",
       "      <th>Cabin</th>\n",
       "      <th>Embarked</th>\n",
       "    </tr>\n",
       "  </thead>\n",
       "  <tbody>\n",
       "    <tr>\n",
       "      <th>0</th>\n",
       "      <td>1</td>\n",
       "      <td>0</td>\n",
       "      <td>3</td>\n",
       "      <td>Braund, Mr. Owen Harris</td>\n",
       "      <td>male</td>\n",
       "      <td>22.0</td>\n",
       "      <td>1</td>\n",
       "      <td>0</td>\n",
       "      <td>A/5 21171</td>\n",
       "      <td>7.2500</td>\n",
       "      <td>NaN</td>\n",
       "      <td>S</td>\n",
       "    </tr>\n",
       "    <tr>\n",
       "      <th>1</th>\n",
       "      <td>2</td>\n",
       "      <td>1</td>\n",
       "      <td>1</td>\n",
       "      <td>Cumings, Mrs. John Bradley (Florence Briggs Th...</td>\n",
       "      <td>female</td>\n",
       "      <td>38.0</td>\n",
       "      <td>1</td>\n",
       "      <td>0</td>\n",
       "      <td>PC 17599</td>\n",
       "      <td>71.2833</td>\n",
       "      <td>C85</td>\n",
       "      <td>C</td>\n",
       "    </tr>\n",
       "    <tr>\n",
       "      <th>2</th>\n",
       "      <td>3</td>\n",
       "      <td>1</td>\n",
       "      <td>3</td>\n",
       "      <td>Heikkinen, Miss. Laina</td>\n",
       "      <td>female</td>\n",
       "      <td>26.0</td>\n",
       "      <td>0</td>\n",
       "      <td>0</td>\n",
       "      <td>STON/O2. 3101282</td>\n",
       "      <td>7.9250</td>\n",
       "      <td>C85</td>\n",
       "      <td>S</td>\n",
       "    </tr>\n",
       "    <tr>\n",
       "      <th>3</th>\n",
       "      <td>4</td>\n",
       "      <td>1</td>\n",
       "      <td>1</td>\n",
       "      <td>Futrelle, Mrs. Jacques Heath (Lily May Peel)</td>\n",
       "      <td>female</td>\n",
       "      <td>35.0</td>\n",
       "      <td>1</td>\n",
       "      <td>0</td>\n",
       "      <td>113803</td>\n",
       "      <td>53.1000</td>\n",
       "      <td>C123</td>\n",
       "      <td>S</td>\n",
       "    </tr>\n",
       "    <tr>\n",
       "      <th>4</th>\n",
       "      <td>5</td>\n",
       "      <td>0</td>\n",
       "      <td>3</td>\n",
       "      <td>Allen, Mr. William Henry</td>\n",
       "      <td>male</td>\n",
       "      <td>35.0</td>\n",
       "      <td>0</td>\n",
       "      <td>0</td>\n",
       "      <td>373450</td>\n",
       "      <td>8.0500</td>\n",
       "      <td>C123</td>\n",
       "      <td>S</td>\n",
       "    </tr>\n",
       "  </tbody>\n",
       "</table>\n",
       "</div>"
      ],
      "text/plain": [
       "   PassengerId  Survived  Pclass  \\\n",
       "0            1         0       3   \n",
       "1            2         1       1   \n",
       "2            3         1       3   \n",
       "3            4         1       1   \n",
       "4            5         0       3   \n",
       "\n",
       "                                                Name     Sex   Age  SibSp  \\\n",
       "0                            Braund, Mr. Owen Harris    male  22.0      1   \n",
       "1  Cumings, Mrs. John Bradley (Florence Briggs Th...  female  38.0      1   \n",
       "2                             Heikkinen, Miss. Laina  female  26.0      0   \n",
       "3       Futrelle, Mrs. Jacques Heath (Lily May Peel)  female  35.0      1   \n",
       "4                           Allen, Mr. William Henry    male  35.0      0   \n",
       "\n",
       "   Parch            Ticket     Fare Cabin Embarked  \n",
       "0      0         A/5 21171   7.2500   NaN        S  \n",
       "1      0          PC 17599  71.2833   C85        C  \n",
       "2      0  STON/O2. 3101282   7.9250   C85        S  \n",
       "3      0            113803  53.1000  C123        S  \n",
       "4      0            373450   8.0500  C123        S  "
      ]
     },
     "execution_count": 2,
     "metadata": {},
     "output_type": "execute_result"
    }
   ],
   "source": [
    "df.head()"
   ]
  },
  {
   "cell_type": "code",
   "execution_count": 3,
   "id": "4b9b77c2",
   "metadata": {},
   "outputs": [
    {
     "name": "stdout",
     "output_type": "stream",
     "text": [
      "<class 'pandas.core.frame.DataFrame'>\n",
      "RangeIndex: 891 entries, 0 to 890\n",
      "Data columns (total 12 columns):\n",
      " #   Column       Non-Null Count  Dtype  \n",
      "---  ------       --------------  -----  \n",
      " 0   PassengerId  891 non-null    int64  \n",
      " 1   Survived     891 non-null    int64  \n",
      " 2   Pclass       891 non-null    int64  \n",
      " 3   Name         891 non-null    object \n",
      " 4   Sex          891 non-null    object \n",
      " 5   Age          714 non-null    float64\n",
      " 6   SibSp        891 non-null    int64  \n",
      " 7   Parch        891 non-null    int64  \n",
      " 8   Ticket       891 non-null    object \n",
      " 9   Fare         891 non-null    float64\n",
      " 10  Cabin        773 non-null    object \n",
      " 11  Embarked     889 non-null    object \n",
      "dtypes: float64(2), int64(5), object(5)\n",
      "memory usage: 83.7+ KB\n"
     ]
    }
   ],
   "source": [
    "df.info()"
   ]
  },
  {
   "cell_type": "code",
   "execution_count": 4,
   "id": "f1f9b8a3",
   "metadata": {},
   "outputs": [
    {
     "name": "stdout",
     "output_type": "stream",
     "text": [
      "남자 요금 평균 : 25.523893414211443\n",
      "여자 요금 평균 : 44.47981783439491\n"
     ]
    }
   ],
   "source": [
    "male = df[df['Sex']=='male']['Fare']\n",
    "print('남자 요금 평균 :', male.mean())\n",
    "female = df[df['Sex']=='female']['Fare']\n",
    "print('여자 요금 평균 :', female.mean())"
   ]
  },
  {
   "cell_type": "markdown",
   "id": "9f13fd4c",
   "metadata": {},
   "source": [
    "### 🚙 2번 문제\n",
    "- 성별(male, female)에 따라 요금(Fare)의 평균이 일치하는지 독립표본 t-test를 실시하고 검정 통계량과 p-value를 구하시오."
   ]
  },
  {
   "cell_type": "markdown",
   "id": "b2460fb4",
   "metadata": {},
   "source": [
    "#### 💦 주의!\n",
    "- ttest_ind 함수에는 array 형태의 데이터가 들어가야 합니다. array 형태인지 확인한 후에 넣어주세요."
   ]
  },
  {
   "cell_type": "code",
   "execution_count": 5,
   "id": "e855507f",
   "metadata": {},
   "outputs": [
    {
     "name": "stdout",
     "output_type": "stream",
     "text": [
      "검정통계량 : -5.529140269385719\n",
      "p_value : 4.2308678700429995e-08\n"
     ]
    }
   ],
   "source": [
    "from scipy.stats import ttest_ind\n",
    "\n",
    "statistic, p_value = ttest_ind(male, female)\n",
    "print('검정통계량 :', statistic)\n",
    "print('p_value :', p_value)"
   ]
  },
  {
   "cell_type": "markdown",
   "id": "bd917dcb",
   "metadata": {},
   "source": [
    "### 3번 문제\n",
    "- 귀무가설과 대립가설을 제시하고 귀무가설을 기각할 것인지 채택할 것인지 제시하시오."
   ]
  },
  {
   "cell_type": "code",
   "execution_count": 6,
   "id": "6e7f52f8",
   "metadata": {},
   "outputs": [
    {
     "name": "stdout",
     "output_type": "stream",
     "text": [
      "귀무가설 기각\n"
     ]
    }
   ],
   "source": [
    "if p_value > 0.05 : \n",
    "    print('귀무가설 채택')\n",
    "else :\n",
    "    print('귀무가설 기각')"
   ]
  },
  {
   "cell_type": "code",
   "execution_count": null,
   "id": "60526e21",
   "metadata": {},
   "outputs": [],
   "source": []
  }
 ],
 "metadata": {
  "kernelspec": {
   "display_name": "Python 3",
   "language": "python",
   "name": "python3"
  },
  "language_info": {
   "codemirror_mode": {
    "name": "ipython",
    "version": 3
   },
   "file_extension": ".py",
   "mimetype": "text/x-python",
   "name": "python",
   "nbconvert_exporter": "python",
   "pygments_lexer": "ipython3",
   "version": "3.9.5"
  }
 },
 "nbformat": 4,
 "nbformat_minor": 5
}
